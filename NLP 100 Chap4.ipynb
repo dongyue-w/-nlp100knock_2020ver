{
 "cells": [
  {
   "cell_type": "markdown",
   "metadata": {},
   "source": [
    "Chapter 4: POS tagging\n",
    "\n",
    "The zip archive alice.zip contains the novel, Alice’s Adventures in Wonderland (written by Lewis Carroll) distributed on Project Gutenberg, as a text file alice.txt. Apply a part-of-speech (POS) tagger to the text file, and store the result in another file. Implement programs that read the POS tagging result and perform the jobs.\n",
    "\n",
    "For your convenience, the zip archive also includes alice.txt.conll, the novel with part-of-speech labels predicted by Stanford CoreNLP. It may be a good idea to use matplotlib or Gnuplot for the problems 37, 38, and 39."
   ]
  },
  {
   "cell_type": "markdown",
   "metadata": {},
   "source": [
    "Before starting"
   ]
  },
  {
   "cell_type": "code",
   "execution_count": 2,
   "metadata": {},
   "outputs": [
    {
     "name": "stdout",
     "output_type": "stream",
     "text": [
      "showing info https://raw.githubusercontent.com/nltk/nltk_data/gh-pages/index.xml\n"
     ]
    },
    {
     "data": {
      "text/plain": [
       "True"
      ]
     },
     "execution_count": 2,
     "metadata": {},
     "output_type": "execute_result"
    }
   ],
   "source": [
    "import nltk\n",
    "nltk.download()"
   ]
  },
  {
   "cell_type": "code",
   "execution_count": 17,
   "metadata": {},
   "outputs": [
    {
     "name": "stdout",
     "output_type": "stream",
     "text": [
      "34117\n",
      "1706\n",
      "['ALICE', \"'\", 'S', 'ADVENTURES', 'IN', 'WONDERLAND']\n",
      "819\n"
     ]
    }
   ],
   "source": [
    "from nltk.corpus import gutenberg\n",
    "alice = gutenberg.words('/Users/wdy940211/Desktop/alice.txt')\n",
    "print(len(alice))\n",
    "alice_sents = gutenberg.sents('/Users/wdy940211/Desktop/alice.txt')\n",
    "print(len(alice_sents))\n",
    "print(alice_sents[0])\n",
    "alice_paras = gutenberg.paras('/Users/wdy940211/Desktop/alice.txt')\n",
    "print(len(alice_paras))"
   ]
  },
  {
   "cell_type": "code",
   "execution_count": 38,
   "metadata": {},
   "outputs": [
    {
     "name": "stdout",
     "output_type": "stream",
     "text": [
      "395\n",
      "3022\n",
      "[(',', 1993), (\"'\", 1731), ('the', 1527), ('and', 802), ('.', 766), ('to', 725), ('a', 615), ('I', 543), ('it', 527), ('she', 509), ('of', 500), ('said', 456), (\",'\", 397), ('Alice', 395), ('in', 356), ('was', 352), ('you', 345), (\"!'\", 278), ('that', 275), ('as', 246)]\n",
      "[('said', 456), ('Alice', 395), ('that', 275), ('with', 176), ('they', 129), ('very', 126), ('little', 125), ('this', 113), ('down', 99), ('about', 94), ('what', 93), ('them', 88), ('know', 86), ('were', 85), ('like', 84), ('went', 83), ('again', 83), ('herself', 83), ('thought', 74), ('Queen', 74), ('could', 73), ('have', 73), ('then', 72), ('would', 70), ('when', 69), ('time', 68), ('into', 67), ('there', 65)]\n"
     ]
    }
   ],
   "source": [
    "# the count of a single word in the text\n",
    "print(alice.count('Alice'))\n",
    "# all words in the whole text\n",
    "vocab = nltk.FreqDist(alice)\n",
    "# how many words in total\n",
    "print(len(vocab))\n",
    "# the most frequent 20 words\n",
    "print(vocab.most_common(20))"
   ]
  },
  {
   "cell_type": "code",
   "execution_count": 39,
   "metadata": {},
   "outputs": [
    {
     "name": "stdout",
     "output_type": "stream",
     "text": [
      "[('said', 456), ('Alice', 395), ('that', 275), ('with', 176), ('they', 129), ('very', 126), ('little', 125), ('this', 113), ('down', 99), ('about', 94), ('what', 93), ('them', 88), ('know', 86), ('were', 85), ('like', 84), ('went', 83), ('again', 83), ('herself', 83), ('thought', 74), ('Queen', 74), ('could', 73), ('have', 73), ('then', 72), ('would', 70), ('when', 69), ('time', 68), ('into', 67), ('there', 65)]\n"
     ]
    }
   ],
   "source": [
    "# sort longer words\n",
    "mc = sorted([w for w in vocab.most_common(80) if len(w[0]) > 3], key=lambda x: x[1], reverse=True)\n",
    "print(mc)"
   ]
  },
  {
   "cell_type": "code",
   "execution_count": 41,
   "metadata": {},
   "outputs": [
    {
     "data": {
      "image/png": "[encoded data removed]",
      "text/plain": [
       "<Figure size 432x288 with 1 Axes>"
      ]
     },
     "metadata": {
      "needs_background": "light"
     },
     "output_type": "display_data"
    }
   ],
   "source": [
    "# dispersion plot\n",
    "text1.dispersion_plot(['capture', 'whale', 'life'])"
   ]
  },
  {
   "cell_type": "code",
   "execution_count": 14,
   "metadata": {},
   "outputs": [
    {
     "name": "stdout",
     "output_type": "stream",
     "text": [
      "['i', 'me', 'my', 'myself', 'we', 'our', 'ours', 'ourselves', 'you', \"you're\", \"you've\", \"you'll\", \"you'd\", 'your', 'yours', 'yourself', 'yourselves', 'he', 'him', 'his', 'himself', 'she', \"she's\", 'her', 'hers', 'herself', 'it', \"it's\", 'its', 'itself', 'they', 'them', 'their', 'theirs', 'themselves', 'what', 'which', 'who', 'whom', 'this', 'that', \"that'll\", 'these', 'those', 'am', 'is', 'are', 'was', 'were', 'be', 'been', 'being', 'have', 'has', 'had', 'having', 'do', 'does', 'did', 'doing', 'a', 'an', 'the', 'and', 'but', 'if', 'or', 'because', 'as', 'until', 'while', 'of', 'at', 'by', 'for', 'with', 'about', 'against', 'between', 'into', 'through', 'during', 'before', 'after', 'above', 'below', 'to', 'from', 'up', 'down', 'in', 'out', 'on', 'off', 'over', 'under', 'again', 'further', 'then', 'once']\n"
     ]
    }
   ],
   "source": [
    "from nltk.corpus import stopwords\n",
    "sw = stopwords.words('english')\n",
    "print(sw[:100])"
   ]
  },
  {
   "cell_type": "code",
   "execution_count": 15,
   "metadata": {},
   "outputs": [
    {
     "name": "stdout",
     "output_type": "stream",
     "text": [
      "['ALICE', \"'S\", 'ADVENTURES', 'IN', 'WONDERLAND', 'Lewis', 'Carroll', 'THE', 'MILLENNIUM', 'FULCRUM', 'EDITION', '3.0', 'CHAPTER', 'I.', 'Down', 'Rabbit-Hole', 'Alice', 'beginning', 'get', 'tired', 'sitting', 'sister', 'bank', 'nothing', 'twice', 'peeped', 'book', 'sister', 'reading', 'pictures', 'conversations', 'use', 'book', 'thought', 'Alice', 'without', 'pictures', 'conversations', 'So', 'considering', 'mind', 'well', 'could', 'hot', 'day', 'made', 'feel', 'sleepy', 'stupid', 'whether', 'pleasure', 'making', 'daisy-chain', 'would', 'worth', 'trouble', 'getting', 'picking', 'daisies', 'suddenly', 'White', 'Rabbit', 'pink', 'eyes', 'ran', 'close', 'There', 'nothing', 'VERY', 'remarkable', 'Alice', 'think', 'VERY', 'much', 'way', 'hear', 'Rabbit', 'say', 'Oh', 'dear', 'Oh', 'dear', 'I', 'shall', 'late', 'thought', 'afterwards', 'occurred', 'ought', 'wondered', 'time', 'seemed', 'quite', 'natural', 'Rabbit', 'actually', 'TOOK', 'A', 'WATCH', 'OUT']\n"
     ]
    }
   ],
   "source": [
    "without_sw = [w for w in without_punc if w not in sw]\n",
    "print(without_sw[:100])"
   ]
  },
  {
   "cell_type": "code",
   "execution_count": 55,
   "metadata": {},
   "outputs": [
    {
     "name": "stdout",
     "output_type": "stream",
     "text": [
      "34117\n",
      "28720\n",
      "15334\n"
     ]
    }
   ],
   "source": [
    "print(len(alice))\n",
    "print(len(without_punc))\n",
    "print(len(without_sw))"
   ]
  },
  {
   "cell_type": "code",
   "execution_count": 58,
   "metadata": {},
   "outputs": [
    {
     "name": "stdout",
     "output_type": "stream",
     "text": [
      "get get\n",
      "tired tire\n",
      "sitting sit\n",
      "sister sister\n",
      "bank bank\n",
      "nothing noth\n",
      "twice twice\n",
      "peeped peep\n",
      "book book\n",
      "sister sister\n"
     ]
    }
   ],
   "source": [
    "# stem\n",
    "from nltk.stem.porter import PorterStemmer\n",
    "st = PorterStemmer()\n",
    "for word in without_sw[20:30]:\n",
    "    print(word, st.stem(word))"
   ]
  },
  {
   "cell_type": "code",
   "execution_count": 59,
   "metadata": {},
   "outputs": [
    {
     "name": "stdout",
     "output_type": "stream",
     "text": [
      "get get\n",
      "tired tired\n",
      "sitting sitting\n",
      "sister sister\n",
      "bank bank\n",
      "nothing nothing\n",
      "twice twice\n",
      "peeped peeped\n",
      "book book\n",
      "sister sister\n"
     ]
    }
   ],
   "source": [
    "# lemma\n",
    "from nltk.stem import WordNetLemmatizer\n",
    "wnl = WordNetLemmatizer()\n",
    "for word in without_sw[20:30]:\n",
    "    print(word, wnl.lemmatize(word))"
   ]
  },
  {
   "cell_type": "code",
   "execution_count": 66,
   "metadata": {},
   "outputs": [
    {
     "name": "stdout",
     "output_type": "stream",
     "text": [
      "[\"Alice's adventures in wonderland.\"]\n",
      "['Alice', \"'s\", 'adventures', 'in', 'wonderland', '.']\n",
      "[('A', 'DT'), ('l', 'NN'), ('i', 'NN'), ('c', 'VBP'), ('e', 'NN'), (\"'\", \"''\"), ('s', 'JJ'), (' ', 'IN'), ('a', 'DT'), ('d', 'NN'), ('v', 'NN'), ('e', 'NN'), ('n', 'JJ'), ('t', 'NN'), ('u', 'JJ'), ('r', 'NN'), ('e', 'NN'), ('s', 'VBD'), (' ', 'NNP'), ('i', 'NN'), ('n', 'VBP'), (' ', 'JJ'), ('w', 'NN'), ('o', 'NN'), ('n', 'JJ'), ('d', 'NN'), ('e', 'NN'), ('r', 'NN'), ('l', 'VBZ'), ('a', 'DT'), ('n', 'JJ'), ('d', 'NN'), ('.', '.')]\n"
     ]
    }
   ],
   "source": [
    "from nltk.tokenize import sent_tokenize, word_tokenize\n",
    "\n",
    "s = \"Alice's adventures in wonderland.\"\n",
    "print(sent_tokenize(s))\n",
    "s1 = word_tokenize(s)\n",
    "print(s1)\n",
    "print(nltk.pos_tag(s))"
   ]
  },
  {
   "cell_type": "code",
   "execution_count": 13,
   "metadata": {},
   "outputs": [
    {
     "name": "stdout",
     "output_type": "stream",
     "text": [
      "[('ALICE', 'NOUN'), (\"'S\", 'PRT'), ('ADVENTURES', 'NOUN'), ('IN', 'NOUN'), ('WONDERLAND', 'NOUN'), ('Lewis', 'NOUN'), ('Carroll', 'NOUN'), ('THE', 'NOUN'), ('MILLENNIUM', 'NOUN'), ('FULCRUM', 'NOUN'), ('EDITION', 'NOUN'), ('3.0', 'NUM'), ('CHAPTER', 'NOUN'), ('I.', 'NOUN'), ('Down', 'NOUN'), ('Rabbit-Hole', 'NOUN'), ('Alice', 'NOUN'), ('beginning', 'VERB'), ('get', 'VERB'), ('tired', 'ADJ'), ('sitting', 'VERB'), ('sister', 'ADJ'), ('bank', 'NOUN'), ('nothing', 'NOUN'), ('twice', 'ADV'), ('peeped', 'VERB'), ('book', 'NOUN'), ('sister', 'NOUN'), ('reading', 'NOUN'), ('pictures', 'NOUN')]\n"
     ]
    }
   ],
   "source": [
    "l = nltk.pos_tag(without_sw, tagset='universal')\n",
    "print(l[:30])"
   ]
  },
  {
   "cell_type": "code",
   "execution_count": 72,
   "metadata": {},
   "outputs": [
    {
     "name": "stdout",
     "output_type": "stream",
     "text": [
      "('ALICE', 'NNP')\n",
      "NNP\n"
     ]
    }
   ],
   "source": [
    "l = nltk.pos_tag(without_sw)\n",
    "print(l[0])\n",
    "print(l[0][1])"
   ]
  },
  {
   "cell_type": "markdown",
   "metadata": {},
   "source": [
    "30. Reading the result\n",
    "Implement a program that reads the result of part-of-speech tagging. Here, represent a sentence as a list of mapping objects, each of which associates a surface form, lemma (base form), part-of-speech tag with the keys text, lemma, pos. Use this representation in the rest of the problems."
   ]
  },
  {
   "cell_type": "code",
   "execution_count": 31,
   "metadata": {},
   "outputs": [
    {
     "name": "stdout",
     "output_type": "stream",
     "text": [
      "[{'text': 'ALICE', 'lemma': 'ALICE', 'pos': 'NNP'}, {'text': \"'S\", 'lemma': \"'s\", 'pos': 'POS'}, {'text': 'ADVENTURES', 'lemma': 'ADVENTURES', 'pos': 'NNP'}, {'text': 'IN', 'lemma': 'in', 'pos': 'IN'}, {'text': 'WONDERLAND', 'lemma': 'WONDERLAND', 'pos': 'NNP'}]\n"
     ]
    }
   ],
   "source": [
    "import json\n",
    "with open('/Users/wdy940211/Desktop/alice.txt.json', 'r') as f:\n",
    "    alice = json.load(f)\n",
    "    sentences = alice['sentences']\n",
    "    result_all = []\n",
    "    for n, sentence in enumerate(sentences):\n",
    "        result_sent = []\n",
    "        s = sentences[n]['tokens']\n",
    "        d = {}\n",
    "        for it in s:\n",
    "            d = {'text': it['originalText'], 'lemma': it['lemma'], 'pos': it['pos']}\n",
    "            result_sent.append(d)\n",
    "        result_all.append(result_sent)\n",
    "\n",
    "print(result_all[0])"
   ]
  },
  {
   "cell_type": "markdown",
   "metadata": {},
   "source": [
    "31. Verbs\n",
    "Extract surface forms of all verbs appearing in the text."
   ]
  },
  {
   "cell_type": "code",
   "execution_count": 12,
   "metadata": {},
   "outputs": [
    {
     "name": "stdout",
     "output_type": "stream",
     "text": [
      "['was', 'beginning', 'get', 'sitting', 'having', 'do', 'had', 'peeped', 'was', 'reading', 'had', 'is', 'thought', 'was', 'considering', 'made', 'making', 'be', 'getting', 'picking', 'ran', 'was', 'did', 'think', 'hear', 'say', 'be', 'thought', 'occurred', 'have', 'wondered', 'seemed', 'TOOK', 'WATCH', 'looked', 'hurried', 'started', 'flashed', 'had', 'seen', 'take', 'burning', 'ran', 'was', 'see', 'pop', 'went', 'considering', 'was', 'get', 'went', 'dipped', 'had', 'think', 'stopping', 'found', 'falling', 'was', 'fell', 'had', 'went', 'look', 'wonder', 'was', 'going', 'happen', 'tried', 'look', 'make', 'was', 'coming', 'was', 'see', 'looked', 'noticed', 'were', 'filled', 'saw', 'hung', 'pegs', 'took', 'passed', 'was', 'labelled', 'was', 'did', 'like', 'drop', 'killing', 'managed', 'put', 'fell', 'thought', 'think', 'tumbling', 'brave', 'think', 'say', 'fell', 'was']\n"
     ]
    }
   ],
   "source": [
    "import json\n",
    "with open('/Users/wdy940211/Desktop/alice.txt.json', 'r') as f:\n",
    "    alice = json.load(f)\n",
    "    sentences = alice['sentences']\n",
    "    verbs = []\n",
    "    for n, sentence in enumerate(sentences):\n",
    "        s = sentences[n]['tokens']\n",
    "        for it in s:\n",
    "            if it['pos'][:2] == 'VB':\n",
    "                verbs.append(it['originalText']) \n",
    "\n",
    "print(verbs[:100])"
   ]
  },
  {
   "cell_type": "markdown",
   "metadata": {},
   "source": [
    "32. Base forms of verbs\n",
    "Extract lemmas of all verbs appearing in the text."
   ]
  },
  {
   "cell_type": "code",
   "execution_count": 10,
   "metadata": {},
   "outputs": [
    {
     "name": "stdout",
     "output_type": "stream",
     "text": [
      "['be', 'begin', 'get', 'sit', 'have', 'do', 'have', 'peep', 'be', 'read', 'have', 'be', 'think', 'be', 'consider', 'make', 'make', 'be', 'get', 'pick', 'run', 'be', 'do', 'think', 'hear', 'say', 'be', 'think', 'occur', 'have']\n"
     ]
    }
   ],
   "source": [
    "import json\n",
    "with open('/Users/wdy940211/Desktop/alice.txt.json', 'r') as f:\n",
    "    alice = json.load(f)\n",
    "    sentences = alice['sentences']\n",
    "    verbs_lemma = []\n",
    "    for n, sentence in enumerate(sentences):\n",
    "        s = sentences[n]['tokens']\n",
    "        for it in s:\n",
    "            if it['pos'][:2] == 'VB':\n",
    "                verbs_lemma.append(it['lemma'])\n",
    "\n",
    "print(verbs_lemma[:30])"
   ]
  },
  {
   "cell_type": "code",
   "execution_count": 9,
   "metadata": {},
   "outputs": [
    {
     "name": "stdout",
     "output_type": "stream",
     "text": [
      "[{'verb': 'was', 'lemma': 'be'}, {'verb': 'beginning', 'lemma': 'begin'}, {'verb': 'get', 'lemma': 'get'}, {'verb': 'sitting', 'lemma': 'sit'}, {'verb': 'having', 'lemma': 'have'}, {'verb': 'do', 'lemma': 'do'}, {'verb': 'had', 'lemma': 'have'}, {'verb': 'peeped', 'lemma': 'peep'}, {'verb': 'was', 'lemma': 'be'}, {'verb': 'reading', 'lemma': 'read'}, {'verb': 'had', 'lemma': 'have'}, {'verb': 'is', 'lemma': 'be'}, {'verb': 'thought', 'lemma': 'think'}, {'verb': 'was', 'lemma': 'be'}, {'verb': 'considering', 'lemma': 'consider'}, {'verb': 'made', 'lemma': 'make'}, {'verb': 'making', 'lemma': 'make'}, {'verb': 'be', 'lemma': 'be'}, {'verb': 'getting', 'lemma': 'get'}, {'verb': 'picking', 'lemma': 'pick'}, {'verb': 'ran', 'lemma': 'run'}, {'verb': 'was', 'lemma': 'be'}, {'verb': 'did', 'lemma': 'do'}, {'verb': 'think', 'lemma': 'think'}, {'verb': 'hear', 'lemma': 'hear'}, {'verb': 'say', 'lemma': 'say'}, {'verb': 'be', 'lemma': 'be'}, {'verb': 'thought', 'lemma': 'think'}, {'verb': 'occurred', 'lemma': 'occur'}, {'verb': 'have', 'lemma': 'have'}]\n"
     ]
    }
   ],
   "source": [
    "# save every verb and its lemma as a group\n",
    "import json\n",
    "with open('/Users/wdy940211/Desktop/alice.txt.json', 'r') as f:\n",
    "    alice = json.load(f)\n",
    "    sentences = alice['sentences']\n",
    "    verbs = []\n",
    "    verbs_lemma = []\n",
    "    for n, sentence in enumerate(sentences):\n",
    "        s = sentences[n]['tokens']\n",
    "        for it in s:\n",
    "            if it['pos'][:2] == 'VB':\n",
    "                verbs.append(it['originalText'])\n",
    "                vl = {}\n",
    "                vl = {'verb': it['originalText'], 'lemma': it['lemma']}\n",
    "                verbs_lemma.append(vl)\n",
    "\n",
    "print(verbs_lemma[:30])"
   ]
  },
  {
   "cell_type": "markdown",
   "metadata": {},
   "source": [
    "33. A of B\n",
    "Extract noun phrases in the form of “A of B”, where A and B are nouns."
   ]
  },
  {
   "cell_type": "code",
   "execution_count": 34,
   "metadata": {},
   "outputs": [
    {
     "name": "stdout",
     "output_type": "stream",
     "text": [
      "['plenty of time', 'saucer of milk', 'sort of way', 'flavour of cherry-tart', 'number of bathing', 'knowledge of history', 'subject of conversation', 'question of course', 'person of authority', 'sort of circle', 'deal of thought', 'sort of thing', 'sort of chance', 'sort of life', 'kind of thing', 'bit of stick', 'yelp of delight', 'game of play', 'state of mind', 'tone of delight', 'length of neck', 'wink of sleep', 'kind of serpent', 'sort of use', 'subject of conversation', 'cauldron of soup', 'agony of terror', 'sort of lullaby', 'way of nursing', 'sort of knot', 'bit of mushroom', 'PLENTY of room', 'cup of tea', 'sort of meaning', 'piece of rudeness', 'business of MINE', 'sentence of execution', 'scream of laughter', 'voice of thunder', 'way of escape', 'friend of mine', 'sort of way', 'time of life', 'kind of rule', 'sentence of execution', 'ledge of rock', 'kind of authority', 'scroll of parchment', 'court of justice', 'globe of goldfish', 'sort of idea', 'piece of evidence', 'atom of meaning', 'atom of meaning', 'world of trouble', 'half of fright', 'half of anger']\n"
     ]
    }
   ],
   "source": [
    "import json\n",
    "with open('/Users/wdy940211/Desktop/alice.txt.json', 'r') as f:\n",
    "    alice = json.load(f)\n",
    "    sentences = alice['sentences']\n",
    "    AofB = []\n",
    "    for n, sentence in enumerate(sentences):\n",
    "        tokens = sentences[n]['tokens']\n",
    "        for m, it in enumerate(tokens):\n",
    "            if it['originalText'] == 'of':\n",
    "                if tokens[m-1]['pos'] == 'NN' and tokens[m+1]['pos'] == 'NN':\n",
    "                    s = tokens[m-1]['originalText']+' '+it['originalText']+' '+tokens[m+1]['originalText']\n",
    "                    AofB.append(s)\n",
    "\n",
    "print(AofB)"
   ]
  },
  {
   "cell_type": "code",
   "execution_count": null,
   "metadata": {},
   "outputs": [],
   "source": [
    "34. A B\n",
    "Extract the longest noun phrase consisting of consecutive nouns."
   ]
  },
  {
   "cell_type": "code",
   "execution_count": 35,
   "metadata": {},
   "outputs": [
    {
     "name": "stdout",
     "output_type": "stream",
     "text": [
      "['Ou est ma chatte ', 'thing Mock Turtle Soup ']\n"
     ]
    }
   ],
   "source": [
    "import json\n",
    "with open('/Users/wdy940211/Desktop/alice.txt.json', 'r') as f:\n",
    "    alice = json.load(f)\n",
    "    sentences = alice['sentences']\n",
    "    longest = ['']\n",
    "    np = ''\n",
    "    wc_longest = 0\n",
    "    wc_now = 0\n",
    "    for sentence in sentences:\n",
    "        tokens = sentence['tokens']\n",
    "        for it in tokens:\n",
    "            if it['pos'][:2] == 'NN':\n",
    "                np += it['originalText']+' '\n",
    "                wc_now += 1\n",
    "            else:\n",
    "                if wc_longest < wc_now:\n",
    "                    longest = ['']\n",
    "                    longest[0] = np\n",
    "                    wc_longest = wc_now\n",
    "                    np = ''\n",
    "                    wc_now = 0\n",
    "                elif wc_longest == wc_now:\n",
    "                    longest.append(np)\n",
    "                    np = ''\n",
    "                    wc_now = 0\n",
    "                else:\n",
    "                    np = ''\n",
    "                    wc_now = 0\n",
    "\n",
    "        if wc_longest < wc_now:\n",
    "            longest = ['']\n",
    "            longest[0] = np\n",
    "            wc_longest = wc_now\n",
    "            np = ''\n",
    "            wc_now = 0\n",
    "        elif wc_longest == wc_now:\n",
    "            longest.append(np)\n",
    "            np = ''\n",
    "            wc_now = 0\n",
    "        else:\n",
    "            np = ''\n",
    "            wc_now = 0\n",
    "\n",
    "for it in longest:\n",
    "    it.strip()\n",
    "\n",
    "print(longest)"
   ]
  },
  {
   "cell_type": "markdown",
   "metadata": {},
   "source": [
    "35. Frequency of words\n",
    "Obtain the list of words and frequencies of their occurrences sorted by descending order of frequency."
   ]
  },
  {
   "cell_type": "code",
   "execution_count": 8,
   "metadata": {},
   "outputs": [
    {
     "name": "stdout",
     "output_type": "stream",
     "text": [
      "[(',', 1993), (\"'\", 1731), ('the', 1527), ('and', 802), ('.', 766), ('to', 725), ('a', 615), ('I', 543), ('it', 527), ('she', 509), ('of', 500), ('said', 456), (\",'\", 397), ('Alice', 395), ('in', 356), ('was', 352), ('you', 345), (\"!'\", 278), ('that', 275), ('as', 246), ('her', 243), (':', 216), ('t', 216), ('at', 202), ('s', 194), ('on', 189), (\".'\", 187), (';', 186), ('had', 177), ('with', 176), ('all', 173), ('!', 155), (\"?'\", 154), ('be', 145), ('-', 141), ('for', 140), ('--', 140), ('but', 133), ('not', 129), ('they', 129), ('very', 126), ('little', 125), ('so', 124), ('out', 116), ('this', 113), ('The', 108), ('he', 101), ('down', 99), ('up', 98), ('is', 97)]\n"
     ]
    }
   ],
   "source": [
    "import nltk\n",
    "from nltk.corpus import gutenberg\n",
    "alice = gutenberg.words('/Users/wdy940211/Desktop/alice.txt')\n",
    "vocab = nltk.FreqDist(alice)\n",
    "print(vocab.most_common(50))"
   ]
  },
  {
   "cell_type": "code",
   "execution_count": 7,
   "metadata": {},
   "outputs": [
    {
     "name": "stdout",
     "output_type": "stream",
     "text": [
      "[('I', 544), ('said', 456), ('Alice', 395), ('--', 264), (\"n't\", 216), (\"'s\", 194), ('little', 125), ('The', 108), ('one', 94), ('know', 86), ('like', 84), ('went', 83), ('could', 82), ('would', 82), ('thought', 74), ('Queen', 74), ('And', 67), ('see', 66), ('time', 65), ('It', 64), ('King', 61), ('Turtle', 59), ('began', 58), (\"'m\", 57), (\"'ll\", 56), ('Mock', 56), ('Hatter', 55), ('Gryphon', 55), ('way', 53), ('quite', 53), ('much', 51), ('say', 51), ('You', 51), ('think', 50), ('head', 50), ('thing', 49), ('go', 47), ('voice', 47), ('looked', 45), ('got', 45), ('get', 44), ('Rabbit', 44), ('first', 44), (\"'ve\", 43), ('What', 42), ('Duchess', 42), ('never', 41), ('must', 41), ('round', 41), ('came', 40)]\n"
     ]
    }
   ],
   "source": [
    "# words without punc and stop words\n",
    "import nltk\n",
    "import json\n",
    "from nltk.corpus import gutenberg\n",
    "from string import punctuation\n",
    "from nltk.corpus import stopwords\n",
    "from collections import Counter\n",
    "\n",
    "\n",
    "with open('/Users/wdy940211/Desktop/alice.txt.json', 'r') as f:\n",
    "    alice = json.load(f)\n",
    "    sentences = alice['sentences']\n",
    "    result_all = []\n",
    "    for n, sentence in enumerate(sentences):\n",
    "        s = sentences[n]['tokens']\n",
    "        d = {}\n",
    "        for it in s:\n",
    "            d = {'text': it['originalText'], 'lemma': it['lemma'], 'pos': it['pos']}\n",
    "            result_all.append(d)\n",
    "\n",
    "without_punc = [d['text'] for d in result_all if d['text'] not in punctuation]\n",
    "sw = stopwords.words('english')\n",
    "without_sw = [w for w in without_punc if w not in sw]\n",
    "vocab = Counter(without_sw)\n",
    "\n",
    "print(vocab.most_common(50))"
   ]
  },
  {
   "cell_type": "markdown",
   "metadata": {},
   "source": [
    "36. Top-ten frequent words\n",
    "Visualize the top-ten frequent words and their frequencies with a chart (e.g., bar chart)."
   ]
  },
  {
   "cell_type": "code",
   "execution_count": 55,
   "metadata": {},
   "outputs": [
    {
     "data": {
      "image/png": "[encoded data removed]",
      "text/plain": [
       "<Figure size 432x288 with 1 Axes>"
      ]
     },
     "metadata": {
      "needs_background": "light"
     },
     "output_type": "display_data"
    }
   ],
   "source": [
    "# words without punc and stop words\n",
    "import nltk\n",
    "import json\n",
    "from nltk.corpus import gutenberg\n",
    "from string import punctuation\n",
    "from nltk.corpus import stopwords\n",
    "\n",
    "with open('/Users/wdy940211/Desktop/alice.txt.json', 'r') as f:\n",
    "    alice = json.load(f)\n",
    "    sentences = alice['sentences']\n",
    "    result_all = []\n",
    "    for n, sentence in enumerate(sentences):\n",
    "        s = sentences[n]['tokens']\n",
    "        d = {}\n",
    "        for it in s:\n",
    "            d = {'text': it['originalText'], 'lemma': it['lemma'], 'pos': it['pos']}\n",
    "            result_all.append(d)\n",
    "\n",
    "without_punc = [d['text'] for d in result_all if d['text'] not in punctuation]\n",
    "sw = stopwords.words('english')\n",
    "without_sw = [w for w in without_punc if w not in sw]\n",
    "further_punc = ['--',r\"\\'.*\"]\n",
    "clear = [w for w in without_sw if w not in further_punc]\n",
    "vocab = nltk.FreqDist(clear)\n",
    "\n",
    "target = list(zip(*vocab.most_common(10)))\n",
    "plt.bar(*target)\n",
    "plt.show()"
   ]
  },
  {
   "cell_type": "markdown",
   "metadata": {},
   "source": [
    "37. Top-ten words co-occurring with ‘Alice’\n",
    "Extract the list of words that co-occur with the word “Alice”. Visualize with a chart (e.g., bar chart) the top-ten words co-occurring with the word “Alice” and their frequencies."
   ]
  },
  {
   "cell_type": "code",
   "execution_count": 2,
   "metadata": {},
   "outputs": [
    {
     "data": {
      "image/png": "[encoded data removed]",
      "text/plain": [
       "<Figure size 432x288 with 1 Axes>"
      ]
     },
     "metadata": {
      "needs_background": "light"
     },
     "output_type": "display_data"
    }
   ],
   "source": [
    "import json\n",
    "import nltk\n",
    "from string import punctuation\n",
    "import matplotlib.pyplot as plt\n",
    "\n",
    "with open('/Users/wdy940211/Desktop/alice.txt.json', 'r') as f:\n",
    "    alice = json.load(f)\n",
    "    sentences = alice['sentences']\n",
    "    co = []\n",
    "    for sentence in sentences:\n",
    "        tokens = sentence['tokens']\n",
    "        for m, it in enumerate(tokens):\n",
    "            if it['originalText'] == 'Alice':\n",
    "                co.append(tokens[m-1]['originalText'])\n",
    "                co.append(tokens[m+1]['originalText'])\n",
    "\n",
    "without_punc = [w for w in co if w not in punctuation]\n",
    "vocab = nltk.FreqDist(without_punc)\n",
    "target = list(zip(*vocab.most_common(10)))\n",
    "plt.bar(*target)\n",
    "plt.show()"
   ]
  },
  {
   "cell_type": "markdown",
   "metadata": {},
   "source": [
    "38. Histogram\n",
    "Draw a histogram of word frequency (x-axis is a scalar range representing a frequency ranging from 1 to the largest frequency of a given word in the entire corpus, and the y-axis is the count of unique words that fall into the count of the x value)."
   ]
  },
  {
   "cell_type": "code",
   "execution_count": 3,
   "metadata": {},
   "outputs": [
    {
     "data": {
      "image/png": "[encoded data removed]",
      "text/plain": [
       "<Figure size 432x288 with 1 Axes>"
      ]
     },
     "metadata": {
      "needs_background": "light"
     },
     "output_type": "display_data"
    }
   ],
   "source": [
    "import nltk\n",
    "import json\n",
    "from string import punctuation\n",
    "from nltk.corpus import stopwords\n",
    "from collections import Counter\n",
    "import matplotlib.pyplot as plt\n",
    "\n",
    "with open('/Users/wdy940211/Desktop/alice.txt.json', 'r') as f:\n",
    "    alice = json.load(f)\n",
    "    sentences = alice['sentences']\n",
    "    result_all = []\n",
    "    for n, sentence in enumerate(sentences):\n",
    "        s = sentences[n]['tokens']\n",
    "        d = {}\n",
    "        for it in s:\n",
    "            d = {'text': it['originalText'], 'lemma': it['lemma'], 'pos': it['pos']}\n",
    "            result_all.append(d)\n",
    "\n",
    "without_punc = [d['text'] for d in result_all if d['text'] not in punctuation]\n",
    "sw = stopwords.words('english')\n",
    "without_sw = [w for w in without_punc if w not in sw]\n",
    "further_punc = ['--', 'n\\'t', '\\'s']\n",
    "clear = [w for w in without_sw if w not in further_punc]\n",
    "\n",
    "c = Counter(clear)\n",
    "plt.hist(c.values(), range = (1, 10))\n",
    "plt.show()"
   ]
  },
  {
   "cell_type": "markdown",
   "metadata": {},
   "source": [
    "39. Zipf’s law\n",
    "Plot a log-log graph with the x-axis being rank order and the y-axis being frequency."
   ]
  },
  {
   "cell_type": "code",
   "execution_count": 4,
   "metadata": {},
   "outputs": [
    {
     "name": "stderr",
     "output_type": "stream",
     "text": [
      "/Users/wdy940211/opt/anaconda3/lib/python3.7/site-packages/ipykernel_launcher.py:28: RuntimeWarning: divide by zero encountered in log\n"
     ]
    },
    {
     "data": {
      "image/png": "[encoded data removed]",
      "text/plain": [
       "<Figure size 432x288 with 1 Axes>"
      ]
     },
     "metadata": {
      "needs_background": "light"
     },
     "output_type": "display_data"
    }
   ],
   "source": [
    "import nltk\n",
    "import json\n",
    "from string import punctuation\n",
    "from nltk.corpus import stopwords\n",
    "from collections import Counter\n",
    "import matplotlib.pyplot as plt\n",
    "import numpy as np\n",
    "\n",
    "with open('/Users/wdy940211/Desktop/alice.txt.json', 'r') as f:\n",
    "    alice = json.load(f)\n",
    "    sentences = alice['sentences']\n",
    "    result_all = []\n",
    "    for n, sentence in enumerate(sentences):\n",
    "        s = sentences[n]['tokens']\n",
    "        d = {}\n",
    "        for it in s:\n",
    "            d = {'text': it['originalText'], 'lemma': it['lemma'], 'pos': it['pos']}\n",
    "            result_all.append(d)\n",
    "\n",
    "without_punc = [d['text'] for d in result_all if d['text'] not in punctuation]\n",
    "sw = stopwords.words('english')\n",
    "without_sw = [w for w in without_punc if w not in sw]\n",
    "further_punc = ['--', 'n\\'t', '\\'s']\n",
    "clear = [w for w in without_sw if w not in further_punc]\n",
    "\n",
    "c = Counter(clear)\n",
    "v = [kv[1] for kv in c.most_common()]\n",
    "plt.scatter(np.log(range(len(v))), np.log(v))\n",
    "plt.show()"
   ]
  }
 ],
 "metadata": {
  "kernelspec": {
   "display_name": "Python 3",
   "language": "python",
   "name": "python3"
  },
  "language_info": {
   "codemirror_mode": {
    "name": "ipython",
    "version": 3
   },
   "file_extension": ".py",
   "mimetype": "text/x-python",
   "name": "python",
   "nbconvert_exporter": "python",
   "pygments_lexer": "ipython3",
   "version": "3.7.6"
  }
 },
 "nbformat": 4,
 "nbformat_minor": 4
}
