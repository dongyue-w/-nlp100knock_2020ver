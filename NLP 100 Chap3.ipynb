{
 "cells": [
  {
   "cell_type": "markdown",
   "metadata": {},
   "source": [
    "Chapter 3: Regular Expression\n",
    "The file enwiki-country.json.gz stores Wikipedia articles in the format:\n",
    "\n",
    "Each line stores a Wikipedia article in JSON format\n",
    "Each JSON document has key-value pairs:\n",
    "Title of the article as the value for the title key\n",
    "Body of the article as the value for the text key\n",
    "The entire file is compressed by gzip\n",
    "Write codes that perform the following jobs."
   ]
  },
  {
   "cell_type": "markdown",
   "metadata": {},
   "source": [
    "20. Read JSON documents\n",
    "Read the JSON documents and output the body of the article about the United Kingdom. Reuse the output in problems 21-29."
   ]
  },
  {
   "cell_type": "code",
   "execution_count": 7,
   "metadata": {},
   "outputs": [],
   "source": [
    "import json\n",
    "\n",
    "with open('/Users/wdy940211/Desktop/enwiki-country.json', 'r') as f_source, open('/Users/wdy940211/Desktop/uk.txt', 'w') as f_target:\n",
    "    for line in f_source:\n",
    "        data = json.loads(line)\n",
    "        if data['title'] == 'United Kingdom':\n",
    "            uk = data['text']\n",
    "            f_target.write(uk)\n",
    "f_source.close()\n",
    "f_target.close()"
   ]
  },
  {
   "cell_type": "markdown",
   "metadata": {},
   "source": [
    "21. Lines with category names\n",
    "Extract lines that define the categories of the article."
   ]
  },
  {
   "cell_type": "code",
   "execution_count": 11,
   "metadata": {},
   "outputs": [],
   "source": [
    "with open('/Users/wdy940211/Desktop/uk.txt', 'r') as f_source, open('/Users/wdy940211/Desktop/categories.txt', 'w') as f_target:\n",
    "    for line in f_source:\n",
    "        if '[[Category' in line:\n",
    "            f_target.write('%s\\n' % line)\n",
    "\n",
    "f_source.close()\n",
    "f_target.close()"
   ]
  },
  {
   "cell_type": "code",
   "execution_count": 32,
   "metadata": {},
   "outputs": [],
   "source": [
    "import pandas as pd\n",
    "import re\n",
    "\n",
    "pattern = re.compile('Category')\n",
    "article = pd.read_json('/Users/wdy940211/Desktop/enwiki-country.json', lines=True)\n",
    "uk = article[article['title']=='United Kingdom'].text.values\n",
    "lines = uk[0].split('\\n')\n",
    "\n",
    "with open('/Users/wdy940211/Desktop/categories1.txt', 'w') as f_target:\n",
    "    for line in lines:\n",
    "        if re.search(pattern, line):\n",
    "            f.write('%s\\n' % line)\n",
    "\n",
    "f_target.close()"
   ]
  },
  {
   "cell_type": "markdown",
   "metadata": {},
   "source": [
    "22. Category names\n",
    "Extract the category names of the article."
   ]
  },
  {
   "cell_type": "code",
   "execution_count": 13,
   "metadata": {},
   "outputs": [],
   "source": [
    "import re\n",
    "\n",
    "with open('/Users/wdy940211/Desktop/categories.txt', 'r') as f_source, open('/Users/wdy940211/Desktop/category_names.txt', 'w') as f_target:\n",
    "    for line in f_source:\n",
    "        line = line.replace('[[', '').replace('Category:', '').replace(']]', '').replace('|', '')\n",
    "        f_target.write('%s' % line)\n",
    "\n",
    "f_source.close()\n",
    "f_target.close()"
   ]
  },
  {
   "cell_type": "code",
   "execution_count": 37,
   "metadata": {},
   "outputs": [],
   "source": [
    "import re\n",
    "\n",
    "with open('/Users/wdy940211/Desktop/categories.txt', 'r') as f_source, open('/Users/wdy940211/Desktop/category_names1.txt', 'w') as f_target:\n",
    "    for line in f_source:\n",
    "        line = re.sub(r'^.*Category:(.*?)(\\|.*)?\\]\\].*$', '\\\\1', line)\n",
    "        f_target.write('%s\\n' % line)\n",
    "\n",
    "f_source.close()\n",
    "f_target.close()"
   ]
  },
  {
   "cell_type": "markdown",
   "metadata": {},
   "source": [
    "23. Section structure\n",
    "Extract section names in the article with their levels. For example, the level of the section is 1 for the MediaWiki markup \"== Section name ==\"."
   ]
  },
  {
   "cell_type": "code",
   "execution_count": 92,
   "metadata": {},
   "outputs": [],
   "source": [
    "import re\n",
    "\n",
    "with open('/Users/wdy940211/Desktop/uk.txt', 'r') as f_source, open('/Users/wdy940211/Desktop/section.txt', 'w') as f_target:\n",
    "    for line in f_source:\n",
    "        if re.search('^=+.*=+$', line):\n",
    "            title = str(line.replace('=', ''))\n",
    "            level = (len(line) - len(title)) // 2 - 1\n",
    "            f_target.write(title.strip()+' '+str(level)+'\\n')\n",
    "\n",
    "f_source.close()\n",
    "f_target.close()"
   ]
  },
  {
   "cell_type": "markdown",
   "metadata": {},
   "source": [
    "24. Media references\n",
    "Extract references to media files linked from the article."
   ]
  },
  {
   "cell_type": "code",
   "execution_count": 94,
   "metadata": {},
   "outputs": [],
   "source": [
    "import re\n",
    "\n",
    "with open('/Users/wdy940211/Desktop/uk.txt', 'r') as f_source, open('/Users/wdy940211/Desktop/media.txt', 'w') as f_target:\n",
    "    for line in f_source:\n",
    "        if '[[File' in line:\n",
    "            f_target.write(re.sub(r'.*\\[\\[File:(.*\\.\\w{3})[\\|\\]].*', '\\\\1', line))\n",
    "            \n",
    "f_source.close()\n",
    "f_target.close()"
   ]
  },
  {
   "cell_type": "markdown",
   "metadata": {},
   "source": [
    "25. Infobox\n",
    "Extract field names and their values in the Infobox “country”, and store them in a dictionary object."
   ]
  },
  {
   "cell_type": "code",
   "execution_count": 39,
   "metadata": {},
   "outputs": [],
   "source": [
    "import re\n",
    "import json\n",
    "\n",
    "d = {}\n",
    "pattern = re.compile(r'\\|(.+?)\\s=\\s*(.+)')\n",
    "with open('/Users/wdy940211/Desktop/uk.txt', 'r') as f_source, open('/Users/wdy940211/Desktop/infobox.txt', 'w') as f_target:\n",
    "    for line in f_source:\n",
    "        match = re.search(pattern, line)\n",
    "        if match:\n",
    "            d[match[1].strip()]=match[2].strip()\n",
    "    for key, value in d.items():\n",
    "        f_target.write(key+': '+value+',\\n')\n",
    "\n",
    "f_source.close()\n",
    "f_target.close()"
   ]
  },
  {
   "cell_type": "markdown",
   "metadata": {},
   "source": [
    "26. Remove emphasis markups\n",
    "In addition to the process of the problem 25, remove emphasis MediaWiki markups from the values. See Help:Cheatsheet."
   ]
  },
  {
   "cell_type": "code",
   "execution_count": 28,
   "metadata": {},
   "outputs": [],
   "source": [
    "import re\n",
    "import json\n",
    "\n",
    "d = {}\n",
    "pattern = re.compile(r'\\|(.+?)\\s=\\s*(.+)')\n",
    "emphasis = re.compile(r\"(.*?)'{2,}(.+?)'{2,}(.*)\")\n",
    "with open('/Users/wdy940211/Desktop/uk.txt', 'r') as f_source, open('/Users/wdy940211/Desktop/remove_emphasis.txt', 'w') as f_target:\n",
    "    for line in f_source:\n",
    "        match = re.search(pattern, line)\n",
    "        if match:\n",
    "            d[match[1].strip()]=match[2].strip()\n",
    "    for key in d:\n",
    "        match1 = re.match(emphasis, d[key])\n",
    "        if match1:\n",
    "            d[key] = ''.join(match1.group(1,2,3))\n",
    "    for key, value in d.items():\n",
    "        f_target.write(key+': '+value+',\\n')\n",
    "\n",
    "f_source.close()\n",
    "f_target.close()"
   ]
  },
  {
   "cell_type": "markdown",
   "metadata": {},
   "source": [
    "27. Remove internal links\n",
    "In addition to the process of the problem 26, remove internal links from the values. See Help:Cheatsheet."
   ]
  },
  {
   "cell_type": "code",
   "execution_count": 20,
   "metadata": {},
   "outputs": [],
   "source": [
    "import re\n",
    "import json\n",
    "\n",
    "d = {}\n",
    "pattern = re.compile(r'\\|(.+?)\\s=\\s*(.+)')\n",
    "emphasis = re.compile(r\"(.*?)'{2,}(.+?)'{2,}(.*)\")\n",
    "links = re.compile(r'\\[\\[(.*?)\\]\\]')\n",
    "with open('/Users/wdy940211/Desktop/uk.txt', 'r') as f_source, open('/Users/wdy940211/Desktop/remove_links.txt', 'w') as f_target:\n",
    "    for line in f_source:\n",
    "        line = re.sub(emphasis, '\\\\1', line)\n",
    "        line = re.sub(links, '\\\\1', line)\n",
    "        match = re.search(pattern, line)\n",
    "        if match:\n",
    "            d[match[1].strip()] = match[2].strip()\n",
    "\n",
    "    for key, value in d.items():\n",
    "        f_target.write(key+': '+value+',\\n')\n",
    "\n",
    "f_source.close()\n",
    "f_target.close()"
   ]
  },
  {
   "cell_type": "markdown",
   "metadata": {},
   "source": [
    "28. Remove MediaWiki markups\n",
    "In addition to the process of the problem 27, remove MediaWiki markups from the values as much as you can, and obtain the basic information of the country in plain text format."
   ]
  },
  {
   "cell_type": "code",
   "execution_count": 19,
   "metadata": {},
   "outputs": [],
   "source": [
    "import re\n",
    "import json\n",
    "\n",
    "d = {}\n",
    "pattern = re.compile(r'\\|(.+?)\\s=\\s*(.+)')\n",
    "emphasis = re.compile(r\"(.*?)'{2,}(.+?)'{2,}(.*)\")\n",
    "links = re.compile(r'\\[\\[(.*?)\\]\\]')\n",
    "media = re.compile(r'<[br|ref][^>]*?>.+?<\\/[br|ref][^>]*?>')\n",
    "\n",
    "with open('/Users/wdy940211/Desktop/uk.txt', 'r') as f_source, open('/Users/wdy940211/Desktop/remove_media.txt', 'w') as f_target:\n",
    "    for line in f_source:  \n",
    "        line = re.sub(emphasis, '\\\\1', line)\n",
    "        line = re.sub(links, '\\\\1', line)\n",
    "        line = re.sub(media, '', line)\n",
    "        match = re.search(pattern, line)\n",
    "        if match:\n",
    "            d[match[1].strip()] = match[2].strip()\n",
    "\n",
    "    for key, value in d.items():\n",
    "        f_target.write(key+': '+value+',\\n')\n",
    "\n",
    "f_source.close()\n",
    "f_target.close()"
   ]
  },
  {
   "cell_type": "markdown",
   "metadata": {},
   "source": [
    "29. Country flag\n",
    "Obtain the URL of the country flag by using the analysis result of Infobox. (Hint: convert a file reference to a URL by calling imageinfo in MediaWiki API)"
   ]
  },
  {
   "cell_type": "code",
   "execution_count": 24,
   "metadata": {},
   "outputs": [
    {
     "data": {
      "text/plain": [
       "<Response [200]>"
      ]
     },
     "execution_count": 24,
     "metadata": {},
     "output_type": "execute_result"
    }
   ],
   "source": [
    "# Learning requests\n",
    "import requests\n",
    "\n",
    "r = requests.get('https://en.wikipedia.org/w/api.php')\n",
    "r"
   ]
  },
  {
   "cell_type": "code",
   "execution_count": 25,
   "metadata": {},
   "outputs": [
    {
     "data": {
      "text/plain": [
       "['__attrs__',\n",
       " '__bool__',\n",
       " '__class__',\n",
       " '__delattr__',\n",
       " '__dict__',\n",
       " '__dir__',\n",
       " '__doc__',\n",
       " '__enter__',\n",
       " '__eq__',\n",
       " '__exit__',\n",
       " '__format__',\n",
       " '__ge__',\n",
       " '__getattribute__',\n",
       " '__getstate__',\n",
       " '__gt__',\n",
       " '__hash__',\n",
       " '__init__',\n",
       " '__init_subclass__',\n",
       " '__iter__',\n",
       " '__le__',\n",
       " '__lt__',\n",
       " '__module__',\n",
       " '__ne__',\n",
       " '__new__',\n",
       " '__nonzero__',\n",
       " '__reduce__',\n",
       " '__reduce_ex__',\n",
       " '__repr__',\n",
       " '__setattr__',\n",
       " '__setstate__',\n",
       " '__sizeof__',\n",
       " '__str__',\n",
       " '__subclasshook__',\n",
       " '__weakref__',\n",
       " '_content',\n",
       " '_content_consumed',\n",
       " '_next',\n",
       " 'apparent_encoding',\n",
       " 'close',\n",
       " 'connection',\n",
       " 'content',\n",
       " 'cookies',\n",
       " 'elapsed',\n",
       " 'encoding',\n",
       " 'headers',\n",
       " 'history',\n",
       " 'is_permanent_redirect',\n",
       " 'is_redirect',\n",
       " 'iter_content',\n",
       " 'iter_lines',\n",
       " 'json',\n",
       " 'links',\n",
       " 'next',\n",
       " 'ok',\n",
       " 'raise_for_status',\n",
       " 'raw',\n",
       " 'reason',\n",
       " 'request',\n",
       " 'status_code',\n",
       " 'text',\n",
       " 'url']"
      ]
     },
     "execution_count": 25,
     "metadata": {},
     "output_type": "execute_result"
    }
   ],
   "source": [
    "# Learning requests\n",
    "import requests\n",
    "\n",
    "r = requests.get('https://en.wikipedia.org/w/api.php')\n",
    "dir(r)"
   ]
  },
  {
   "cell_type": "code",
   "execution_count": 26,
   "metadata": {},
   "outputs": [
    {
     "name": "stdout",
     "output_type": "stream",
     "text": [
      "Help on Response in module requests.models object:\n",
      "\n",
      "class Response(builtins.object)\n",
      " |  The :class:`Response <Response>` object, which contains a\n",
      " |  server's response to an HTTP request.\n",
      " |  \n",
      " |  Methods defined here:\n",
      " |  \n",
      " |  __bool__(self)\n",
      " |      Returns True if :attr:`status_code` is less than 400.\n",
      " |      \n",
      " |      This attribute checks if the status code of the response is between\n",
      " |      400 and 600 to see if there was a client error or a server error. If\n",
      " |      the status code, is between 200 and 400, this will return True. This\n",
      " |      is **not** a check to see if the response code is ``200 OK``.\n",
      " |  \n",
      " |  __enter__(self)\n",
      " |  \n",
      " |  __exit__(self, *args)\n",
      " |  \n",
      " |  __getstate__(self)\n",
      " |  \n",
      " |  __init__(self)\n",
      " |      Initialize self.  See help(type(self)) for accurate signature.\n",
      " |  \n",
      " |  __iter__(self)\n",
      " |      Allows you to use a response as an iterator.\n",
      " |  \n",
      " |  __nonzero__(self)\n",
      " |      Returns True if :attr:`status_code` is less than 400.\n",
      " |      \n",
      " |      This attribute checks if the status code of the response is between\n",
      " |      400 and 600 to see if there was a client error or a server error. If\n",
      " |      the status code, is between 200 and 400, this will return True. This\n",
      " |      is **not** a check to see if the response code is ``200 OK``.\n",
      " |  \n",
      " |  __repr__(self)\n",
      " |      Return repr(self).\n",
      " |  \n",
      " |  __setstate__(self, state)\n",
      " |  \n",
      " |  close(self)\n",
      " |      Releases the connection back to the pool. Once this method has been\n",
      " |      called the underlying ``raw`` object must not be accessed again.\n",
      " |      \n",
      " |      *Note: Should not normally need to be called explicitly.*\n",
      " |  \n",
      " |  iter_content(self, chunk_size=1, decode_unicode=False)\n",
      " |      Iterates over the response data.  When stream=True is set on the\n",
      " |      request, this avoids reading the content at once into memory for\n",
      " |      large responses.  The chunk size is the number of bytes it should\n",
      " |      read into memory.  This is not necessarily the length of each item\n",
      " |      returned as decoding can take place.\n",
      " |      \n",
      " |      chunk_size must be of type int or None. A value of None will\n",
      " |      function differently depending on the value of `stream`.\n",
      " |      stream=True will read data as it arrives in whatever size the\n",
      " |      chunks are received. If stream=False, data is returned as\n",
      " |      a single chunk.\n",
      " |      \n",
      " |      If decode_unicode is True, content will be decoded using the best\n",
      " |      available encoding based on the response.\n",
      " |  \n",
      " |  iter_lines(self, chunk_size=512, decode_unicode=False, delimiter=None)\n",
      " |      Iterates over the response data, one line at a time.  When\n",
      " |      stream=True is set on the request, this avoids reading the\n",
      " |      content at once into memory for large responses.\n",
      " |      \n",
      " |      .. note:: This method is not reentrant safe.\n",
      " |  \n",
      " |  json(self, **kwargs)\n",
      " |      Returns the json-encoded content of a response, if any.\n",
      " |      \n",
      " |      :param \\*\\*kwargs: Optional arguments that ``json.loads`` takes.\n",
      " |      :raises ValueError: If the response body does not contain valid json.\n",
      " |  \n",
      " |  raise_for_status(self)\n",
      " |      Raises stored :class:`HTTPError`, if one occurred.\n",
      " |  \n",
      " |  ----------------------------------------------------------------------\n",
      " |  Data descriptors defined here:\n",
      " |  \n",
      " |  __dict__\n",
      " |      dictionary for instance variables (if defined)\n",
      " |  \n",
      " |  __weakref__\n",
      " |      list of weak references to the object (if defined)\n",
      " |  \n",
      " |  apparent_encoding\n",
      " |      The apparent encoding, provided by the chardet library.\n",
      " |  \n",
      " |  content\n",
      " |      Content of the response, in bytes.\n",
      " |  \n",
      " |  is_permanent_redirect\n",
      " |      True if this Response one of the permanent versions of redirect.\n",
      " |  \n",
      " |  is_redirect\n",
      " |      True if this Response is a well-formed HTTP redirect that could have\n",
      " |      been processed automatically (by :meth:`Session.resolve_redirects`).\n",
      " |  \n",
      " |  links\n",
      " |      Returns the parsed header links of the response, if any.\n",
      " |  \n",
      " |  next\n",
      " |      Returns a PreparedRequest for the next request in a redirect chain, if there is one.\n",
      " |  \n",
      " |  ok\n",
      " |      Returns True if :attr:`status_code` is less than 400, False if not.\n",
      " |      \n",
      " |      This attribute checks if the status code of the response is between\n",
      " |      400 and 600 to see if there was a client error or a server error. If\n",
      " |      the status code is between 200 and 400, this will return True. This\n",
      " |      is **not** a check to see if the response code is ``200 OK``.\n",
      " |  \n",
      " |  text\n",
      " |      Content of the response, in unicode.\n",
      " |      \n",
      " |      If Response.encoding is None, encoding will be guessed using\n",
      " |      ``chardet``.\n",
      " |      \n",
      " |      The encoding of the response content is determined based solely on HTTP\n",
      " |      headers, following RFC 2616 to the letter. If you can take advantage of\n",
      " |      non-HTTP knowledge to make a better guess at the encoding, you should\n",
      " |      set ``r.encoding`` appropriately before accessing this property.\n",
      " |  \n",
      " |  ----------------------------------------------------------------------\n",
      " |  Data and other attributes defined here:\n",
      " |  \n",
      " |  __attrs__ = ['_content', 'status_code', 'headers', 'url', 'history', '...\n",
      "\n"
     ]
    }
   ],
   "source": [
    "# Learning requests\n",
    "import requests\n",
    "\n",
    "r = requests.get('https://en.wikipedia.org/w/api.php')\n",
    "help (r)"
   ]
  },
  {
   "cell_type": "code",
   "execution_count": 27,
   "metadata": {},
   "outputs": [
    {
     "data": {
      "text/plain": [
       "'<!DOCTYPE html>\\n<html class=\"client-nojs\" lang=\"en\" dir=\"ltr\">\\n<head>\\n<meta charset=\"UTF-8\"/>\\n<title>MediaWiki API help - Wikipedia</title>\\n<script>document.documentElement.className=\"client-js\";RLCONF={\"wgBreakFrames\":!0,\"wgSeparatorTransformTable\":[\"\",\"\"],\"wgDigitTransformTable\":[\"\",\"\"],\"wgDefaultDateFormat\":\"dmy\",\"wgMonthNames\":[\"\",\"January\",\"February\",\"March\",\"April\",\"May\",\"June\",\"July\",\"August\",\"September\",\"October\",\"November\",\"December\"],\"wgRequestId\":\"e32047ea-d6a2-4c85-8bea-e478af2f0ee6\",\"wgCSPNonce\":!1,\"wgCanonicalNamespace\":\"Special\",\"wgCanonicalSpecialPageName\":\"ApiHelp\",\"wgNamespaceNumber\":-1,\"wgPageName\":\"Special:ApiHelp\",\"wgTitle\":\"ApiHelp\",\"wgCurRevisionId\":0,\"wgRevisionId\":0,\"wgArticleId\":0,\"wgIsArticle\":!1,\"wgIsRedirect\":!1,\"wgAction\":\"view\",\"wgUserName\":null,\"wgUserGroups\":[\"*\"],\"wgCategories\":[],\"wgPageContentLanguage\":\"en\",\"wgPageContentModel\":\"wikitext\",\"wgRelevantPageName\":\"Special:ApiHelp\",\"wgRelevantArticleId\":0,\"wgIsProbablyEditable\":!1,\"wgRelevantPageIsProbablyEditable\":!1,\"wgMediaViewerOnClick\":!0,\"wgMediaViewerEnabledByDefault\":!0,\"wgPopupsReferencePreviews\":!1,\\n\"wgPopupsConflictsWithNavPopupGadget\":!1,\"wgVisualEditor\":{\"pageLanguageCode\":\"en\",\"pageLanguageDir\":\"ltr\",\"pageVariantFallbacks\":\"en\"},\"wgMFDisplayWikibaseDescriptions\":{\"search\":!0,\"nearby\":!0,\"watchlist\":!0,\"tagline\":!1},\"wgWMESchemaEditAttemptStepOversample\":!1,\"wgULSCurrentAutonym\":\"English\",\"wgNoticeProject\":\"wikipedia\",\"wgCentralAuthMobileDomain\":!1,\"wgEditSubmitButtonLabelPublish\":!0,\"wgULSPosition\":\"interlanguage\"};RLSTATE={\"ext.globalCssJs.user.styles\":\"ready\",\"site.styles\":\"ready\",\"noscript\":\"ready\",\"user.styles\":\"ready\",\"ext.globalCssJs.user\":\"ready\",\"user\":\"ready\",\"user.options\":\"loading\",\"mediawiki.hlist\":\"ready\",\"mediawiki.apipretty\":\"ready\",\"mediawiki.skinning.interface\":\"ready\",\"ext.visualEditor.desktopArticleTarget.noscript\":\"ready\",\"ext.uls.interlanguage\":\"ready\",\"ext.wikimediaBadges\":\"ready\"};RLPAGEMODULES=[\"site\",\"mediawiki.page.ready\",\"ext.gadget.ReferenceTooltips\",\"ext.gadget.charinsert\",\"ext.gadget.extra-toolbar-buttons\",\\n\"ext.gadget.refToolbar\",\"ext.gadget.switcher\",\"ext.centralauth.centralautologin\",\"ext.popups\",\"ext.visualEditor.desktopArticleTarget.init\",\"ext.visualEditor.targetLoader\",\"ext.eventLogging\",\"ext.wikimediaEvents\",\"ext.navigationTiming\",\"ext.uls.compactlinks\",\"ext.uls.interface\",\"ext.cx.eventlogging.campaigns\",\"ext.centralNotice.geoIP\"];</script>\\n<script>(RLQ=window.RLQ||[]).push(function(){mw.loader.implement(\"user.options@1hzgi\",function($,jQuery,require,module){/*@nomin*/mw.user.tokens.set({\"patrolToken\":\"+\\\\\\\\\",\"watchToken\":\"+\\\\\\\\\",\"csrfToken\":\"+\\\\\\\\\"});\\n});});</script>\\n<link rel=\"stylesheet\" href=\"/w/load.php?lang=en&amp;modules=ext.uls.interlanguage%7Cext.visualEditor.desktopArticleTarget.noscript%7Cext.wikimediaBadges%7Cmediawiki.apipretty%2Chlist%7Cmediawiki.skinning.interface&amp;only=styles&amp;skin=apioutput\"/>\\n<script async=\"\" src=\"/w/load.php?lang=en&amp;modules=startup&amp;only=scripts&amp;raw=1&amp;skin=apioutput\"></script>\\n<meta name=\"ResourceLoaderDynamicStyles\" content=\"\"/>\\n<link rel=\"stylesheet\" href=\"/w/load.php?lang=en&amp;modules=site.styles&amp;only=styles&amp;skin=apioutput\"/>\\n<meta name=\"generator\" content=\"MediaWiki 1.36.0-wmf.13\"/>\\n<meta name=\"referrer\" content=\"origin\"/>\\n<meta name=\"referrer\" content=\"origin-when-crossorigin\"/>\\n<meta name=\"referrer\" content=\"origin-when-cross-origin\"/>\\n<meta name=\"robots\" content=\"noindex,nofollow\"/>\\n<link rel=\"alternate\" media=\"only screen and (max-width: 720px)\" href=\"//en.m.wikipedia.org/wiki/Special:ApiHelp\"/>\\n<link rel=\"apple-touch-icon\" href=\"/static/apple-touch/wikipedia.png\"/>\\n<link rel=\"shortcut icon\" href=\"/static/favicon/wikipedia.ico\"/>\\n<link rel=\"search\" type=\"application/opensearchdescription+xml\" href=\"/w/opensearch_desc.php\" title=\"Wikipedia (en)\"/>\\n<link rel=\"EditURI\" type=\"application/rsd+xml\" href=\"//en.wikipedia.org/w/api.php?action=rsd\"/>\\n<link rel=\"license\" href=\"https://www.mediawiki.org/wiki/Special:MyLanguage/Copyright\"/>\\n<link rel=\"canonical\" href=\"https://en.wikipedia.org/wiki/Special:ApiHelp\"/>\\n<link rel=\"dns-prefetch\" href=\"//login.wikimedia.org\"/>\\n</head>\\n<body class=\"mediawiki ltr sitedir-ltr mw-hide-empty-elt ns--1 ns-special mw-special-ApiHelp page-Special_ApiHelp rootpage-Special_ApiHelp skin-apioutput action-view\"><div class=\"mw-body\" role=\"main\">\\n\\t<h1 id=\"firstHeading\">MediaWiki API help</h1>\\n\\t<div class=\"mw-body-content\">\\n\\t\\t<div id=\"mw-content-text\"><p>This is an auto-generated MediaWiki API documentation page.\\n</p><p>Documentation and examples: <a class=\"external free\" href=\"https://www.mediawiki.org/wiki/Special:MyLanguage/API:Main_page\">https://www.mediawiki.org/wiki/Special:MyLanguage/API:Main_page</a>\\n</p><h2 class=\"apihelp-header\" id=\"main\">Main module</h2>\\n<div class=\"apihelp-block apihelp-flags\"><ul><li><span class=\"apihelp-source\">Source: <span dir=\"ltr\" lang=\"en\">MediaWiki</span></span></li><li><span class=\"apihelp-license\">License: <a href=\"/wiki/Special:Version/License/MediaWiki\" title=\"Special:Version/License/MediaWiki\"><span dir=\"ltr\" lang=\"en\">GPL-2.0-or-later</span></a></span></li></ul></div>\\n<div class=\"hlist plainlinks api-main-links\">\\n<ul><li><a href=\"https://www.mediawiki.org/wiki/Special:MyLanguage/API:Main_page\" class=\"extiw\" title=\"mw:Special:MyLanguage/API:Main page\">Documentation</a></li>\\n<li><a href=\"https://www.mediawiki.org/wiki/Special:MyLanguage/API:FAQ\" class=\"extiw\" title=\"mw:Special:MyLanguage/API:FAQ\">FAQ</a></li>\\n<li><a class=\"external text\" href=\"https://lists.wikimedia.org/mailman/listinfo/mediawiki-api\">Mailing list</a></li>\\n<li><a class=\"external text\" href=\"https://lists.wikimedia.org/mailman/listinfo/mediawiki-api-announce\">API Announcements</a></li>\\n<li><a class=\"external text\" href=\"https://phabricator.wikimedia.org/maniphest/query/GebfyV4uCaLd/#R\">Bugs &amp; requests</a></li></ul></div>\\n<p><strong>Status:</strong> The MediaWiki API is a mature and stable interface that is actively supported and improved. While we try to avoid it, we may occasionally need to make breaking changes; subscribe to <a class=\"external text\" href=\"https://lists.wikimedia.org/pipermail/mediawiki-api-announce/\">the mediawiki-api-announce mailing list</a> for notice of updates.\\n</p><p><strong>Erroneous requests:</strong> When erroneous requests are sent to the API, an HTTP header will be sent with the key \"MediaWiki-API-Error\" and then both the value of the header and the error code sent back will be set to the same value. For more information see <a href=\"https://www.mediawiki.org/wiki/Special:MyLanguage/API:Errors_and_warnings\" class=\"extiw\" title=\"mw:Special:MyLanguage/API:Errors and warnings\">API: Errors and warnings</a>.\\n</p>\\n<p class=\"mw-apisandbox-link\"><strong>Testing:</strong> For ease of testing API requests, see <a href=\"/wiki/Special:ApiSandbox\" title=\"Special:ApiSandbox\">Special:ApiSandbox</a>.</p>\\n\\n<div class=\"apihelp-block apihelp-parameters\"><div class=\"apihelp-block-head\">Parameters:</div><dl><dt><span dir=\"ltr\" lang=\"en\">action</span></dt><dd class=\"description\"><p>Which action to perform.\\n</p><dl><dt><span dir=\"ltr\" lang=\"en\"><a href=\"/w/api.php?action=help&amp;modules=abusefiltercheckmatch\">abusefiltercheckmatch</a></span></dt>\\n<dd>Check to see if an AbuseFilter matches a set of variables, an edit, or a logged AbuseFilter event.</dd>\\n<dt><span dir=\"ltr\" lang=\"en\"><a href=\"/w/api.php?action=help&amp;modules=abusefilterchecksyntax\">abusefilterchecksyntax</a></span></dt>\\n<dd>Check syntax of an AbuseFilter filter.</dd>\\n<dt><span dir=\"ltr\" lang=\"en\"><a href=\"/w/api.php?action=help&amp;modules=abusefilterevalexpression\">abusefilterevalexpression</a></span></dt>\\n<dd>Evaluates an AbuseFilter expression.</dd>\\n<dt><span dir=\"ltr\" lang=\"en\"><a href=\"/w/api.php?action=help&amp;modules=abusefilterunblockautopromote\">abusefilterunblockautopromote</a></span></dt>\\n<dd>Unblocks a user from receiving autopromotions due to an abusefilter consequence.</dd>\\n<dt><span dir=\"ltr\" lang=\"en\"><a href=\"/w/api.php?action=help&amp;modules=abuselogprivatedetails\">abuselogprivatedetails</a></span></dt>\\n<dd>View private details of an AbuseLog entry.</dd>\\n<dt><span dir=\"ltr\" lang=\"en\"><a href=\"/w/api.php?action=help&amp;modules=antispoof\">antispoof</a></span></dt>\\n<dd>Check a username against AntiSpoof\\'s normalisation checks.</dd>\\n<dt><span dir=\"ltr\" lang=\"en\"><a href=\"/w/api.php?action=help&amp;modules=block\">block</a></span></dt>\\n<dd>Block a user.</dd>\\n<dt><span dir=\"ltr\" lang=\"en\"><a href=\"/w/api.php?action=help&amp;modules=centralauthtoken\">centralauthtoken</a></span></dt>\\n<dd>Fetch a centralauthtoken for making an authenticated request to an attached wiki.</dd>\\n<dt><span dir=\"ltr\" lang=\"en\"><a href=\"/w/api.php?action=help&amp;modules=centralnoticecdncacheupdatebanner\">centralnoticecdncacheupdatebanner</a></span></dt>\\n<dd>Request the purge of banner content stored in the CDN (front-end) cache for anonymous users, for the requested banner and language</dd>\\n<dt><span dir=\"ltr\" lang=\"en\"><a href=\"/w/api.php?action=help&amp;modules=centralnoticechoicedata\">centralnoticechoicedata</a></span></dt>\\n<dd>Get data needed to choose a banner for a given project and language</dd>\\n<dt><span dir=\"ltr\" lang=\"en\"><a href=\"/w/api.php?action=help&amp;modules=centralnoticequerycampaign\">centralnoticequerycampaign</a></span></dt>\\n<dd>Get all configuration settings for a campaign.</dd>\\n<dt><span dir=\"ltr\" lang=\"en\"><a href=\"/w/api.php?action=help&amp;modules=changeauthenticationdata\">changeauthenticationdata</a></span></dt>\\n<dd>Change authentication data for the current user.</dd>\\n<dt><span dir=\"ltr\" lang=\"en\"><a href=\"/w/api.php?action=help&amp;modules=changecontentmodel\">changecontentmodel</a></span></dt>\\n<dd>Change the content model of a page</dd>\\n<dt><span dir=\"ltr\" lang=\"en\"><a href=\"/w/api.php?action=help&amp;modules=checktoken\">checktoken</a></span></dt>\\n<dd>Check the validity of a token from <kbd><a href=\"/w/api.php?action=help&amp;modules=query%2Btokens\">action=query&amp;meta=tokens</a></kbd>.</dd>\\n<dt><span dir=\"ltr\" lang=\"en\"><a href=\"/w/api.php?action=help&amp;modules=cirrus-config-dump\">cirrus-config-dump</a></span></dt>\\n<dd>Dump of CirrusSearch configuration.</dd>\\n<dt><span dir=\"ltr\" lang=\"en\"><a href=\"/w/api.php?action=help&amp;modules=cirrus-mapping-dump\">cirrus-mapping-dump</a></span></dt>\\n<dd>Dump of CirrusSearch mapping for this wiki.</dd>\\n<dt><span dir=\"ltr\" lang=\"en\"><a href=\"/w/api.php?action=help&amp;modules=cirrus-profiles-dump\">cirrus-profiles-dump</a></span></dt>\\n<dd>Dump of CirrusSearch profiles for this wiki.</dd>\\n<dt><span dir=\"ltr\" lang=\"en\"><a href=\"/w/api.php?action=help&amp;modules=cirrus-settings-dump\">cirrus-settings-dump</a></span></dt>\\n<dd>Dump of CirrusSearch settings for this wiki.</dd>\\n<dt><span dir=\"ltr\" lang=\"en\"><a href=\"/w/api.php?action=help&amp;modules=clearhasmsg\">clearhasmsg</a></span></dt>\\n<dd>Clears the <code>hasmsg</code> flag for the current user.</dd>\\n<dt><span dir=\"ltr\" lang=\"en\"><a href=\"/w/api.php?action=help&amp;modules=clientlogin\">clientlogin</a></span></dt>\\n<dd>Log in to the wiki using the interactive flow.</dd>\\n<dt><span dir=\"ltr\" lang=\"en\"><a href=\"/w/api.php?action=help&amp;modules=compare\">compare</a></span></dt>\\n<dd>Get the difference between two pages.</dd>\\n<dt><span dir=\"ltr\" lang=\"en\"><a href=\"/w/api.php?action=help&amp;modules=createaccount\">createaccount</a></span></dt>\\n<dd>Create a new user account.</dd>\\n<dt><span dir=\"ltr\" lang=\"en\"><a href=\"/w/api.php?action=help&amp;modules=cxconfiguration\">cxconfiguration</a></span></dt>\\n<dd>Fetch the Content Translation configuration json for the given language pair.</dd>\\n<dt><span dir=\"ltr\" lang=\"en\"><a href=\"/w/api.php?action=help&amp;modules=cxdelete\">cxdelete</a></span></dt>\\n<dd>Delete a draft translation created using the Content Translation extension.</dd>\\n<dt><span dir=\"ltr\" lang=\"en\"><a href=\"/w/api.php?action=help&amp;modules=cxsuggestionlist\">cxsuggestionlist</a></span></dt>\\n<dd>Manage the suggestion lists. Add suggestions to lists and remove them.</dd>\\n<dt><span dir=\"ltr\" lang=\"en\"><a href=\"/w/api.php?action=help&amp;modules=cxtoken\">cxtoken</a></span></dt>\\n<dd>Get JWT tokens to authenticate with cxserver.</dd>\\n<dt><span dir=\"ltr\" lang=\"en\"><a href=\"/w/api.php?action=help&amp;modules=delete\">delete</a></span></dt>\\n<dd>Delete a page.</dd>\\n<dt><span dir=\"ltr\" lang=\"en\"><a href=\"/w/api.php?action=help&amp;modules=deleteglobalaccount\">deleteglobalaccount</a></span></dt>\\n<dd>Delete a global user.</dd>\\n<dt><span dir=\"ltr\" lang=\"en\"><a href=\"/w/api.php?action=help&amp;modules=echomarkread\">echomarkread</a></span></dt>\\n<dd>Mark notifications as read for the current user.</dd>\\n<dt><span dir=\"ltr\" lang=\"en\"><a href=\"/w/api.php?action=help&amp;modules=echomarkseen\">echomarkseen</a></span></dt>\\n<dd>Mark notifications as seen for the current user.</dd>\\n<dt><span dir=\"ltr\" lang=\"en\"><a href=\"/w/api.php?action=help&amp;modules=echomute\">echomute</a></span></dt>\\n<dd>Mute or unmute notifications from certain users or pages.</dd>\\n<dt><span dir=\"ltr\" lang=\"en\"><a href=\"/w/api.php?action=help&amp;modules=edit\">edit</a></span></dt>\\n<dd>Create and edit pages.</dd>\\n<dt><span dir=\"ltr\" lang=\"en\"><a href=\"/w/api.php?action=help&amp;modules=editmassmessagelist\">editmassmessagelist</a></span></dt>\\n<dd>Edit a mass message delivery list.</dd>\\n<dt><span dir=\"ltr\" lang=\"en\"><a href=\"/w/api.php?action=help&amp;modules=emailuser\">emailuser</a></span></dt>\\n<dd>Email a user.</dd>\\n<dt><span dir=\"ltr\" lang=\"en\"><a href=\"/w/api.php?action=help&amp;modules=expandtemplates\">expandtemplates</a></span></dt>\\n<dd>Expands all templates within wikitext.</dd>\\n<dt><span dir=\"ltr\" lang=\"en\"><a href=\"/w/api.php?action=help&amp;modules=fancycaptchareload\">fancycaptchareload</a></span></dt>\\n<dd>Get a new FancyCaptcha.</dd>\\n<dt><span dir=\"ltr\" lang=\"en\"><a href=\"/w/api.php?action=help&amp;modules=featuredfeed\">featuredfeed</a></span></dt>\\n<dd>Returns a featured content feed.</dd>\\n<dt><span dir=\"ltr\" lang=\"en\"><a href=\"/w/api.php?action=help&amp;modules=feedcontributions\">feedcontributions</a></span></dt>\\n<dd>Returns a user\\'s contributions feed.</dd>\\n<dt><span dir=\"ltr\" lang=\"en\"><a href=\"/w/api.php?action=help&amp;modules=feedrecentchanges\">feedrecentchanges</a></span></dt>\\n<dd>Returns a recent changes feed.</dd>\\n<dt><span dir=\"ltr\" lang=\"en\"><a href=\"/w/api.php?action=help&amp;modules=feedwatchlist\">feedwatchlist</a></span></dt>\\n<dd>Returns a watchlist feed.</dd>\\n<dt><span dir=\"ltr\" lang=\"en\"><a href=\"/w/api.php?action=help&amp;modules=filerevert\">filerevert</a></span></dt>\\n<dd>Revert a file to an old version.</dd>\\n<dt><span dir=\"ltr\" lang=\"en\"><a href=\"/w/api.php?action=help&amp;modules=flagconfig\">flagconfig</a></span></dt>\\n<dd>Get basic information about review flag configuration for this site.</dd>\\n<dt><span dir=\"ltr\" lang=\"en\"><a href=\"/w/api.php?action=help&amp;modules=globalblock\">globalblock</a></span></dt>\\n<dd>Globally block or unblock a user.</dd>\\n<dt><span dir=\"ltr\" lang=\"en\"><a href=\"/w/api.php?action=help&amp;modules=globalpreferenceoverrides\">globalpreferenceoverrides</a></span></dt>\\n<dd>Change local overrides for global preferences for the current user.</dd>\\n<dt><span dir=\"ltr\" lang=\"en\"><a href=\"/w/api.php?action=help&amp;modules=globalpreferences\">globalpreferences</a></span></dt>\\n<dd>Change global preferences of the current user.</dd>\\n<dt><span dir=\"ltr\" lang=\"en\"><a href=\"/w/api.php?action=help&amp;modules=globaluserrights\">globaluserrights</a></span></dt>\\n<dd>Add/remove a user to/from global groups.</dd>\\n<dt><span dir=\"ltr\" lang=\"en\"><a href=\"/w/api.php?action=help&amp;modules=graph\">graph</a></span></dt>\\n<dd>Access graph tag functionality.</dd>\\n<dt><span dir=\"ltr\" lang=\"en\"><a href=\"/w/api.php?action=help&amp;modules=help\">help</a></span></dt>\\n<dd>Display help for the specified modules.</dd>\\n<dt><span dir=\"ltr\" lang=\"en\"><a href=\"/w/api.php?action=help&amp;modules=imagerotate\">imagerotate</a></span></dt>\\n<dd>This module has been disabled.</dd>\\n<dt><span dir=\"ltr\" lang=\"en\"><a href=\"/w/api.php?action=help&amp;modules=import\">import</a></span></dt>\\n<dd>Import a page from another wiki, or from an XML file.</dd>\\n<dt><span dir=\"ltr\" lang=\"en\"><a href=\"/w/api.php?action=help&amp;modules=jsonconfig\">jsonconfig</a></span></dt>\\n<dd>Allows direct access to JsonConfig subsystem.</dd>\\n<dt><span dir=\"ltr\" lang=\"en\"><a href=\"/w/api.php?action=help&amp;modules=languagesearch\">languagesearch</a></span></dt>\\n<dd>Search for language names in any script.</dd>\\n<dt><span dir=\"ltr\" lang=\"en\"><a href=\"/w/api.php?action=help&amp;modules=linkaccount\">linkaccount</a></span></dt>\\n<dd>Link an account from a third-party provider to the current user.</dd>\\n<dt><span dir=\"ltr\" lang=\"en\"><a href=\"/w/api.php?action=help&amp;modules=login\">login</a></span></dt>\\n<dd>Log in and get authentication cookies.</dd>\\n<dt><span dir=\"ltr\" lang=\"en\"><a href=\"/w/api.php?action=help&amp;modules=logout\">logout</a></span></dt>\\n<dd>Log out and clear session data.</dd>\\n<dt><span dir=\"ltr\" lang=\"en\"><a href=\"/w/api.php?action=help&amp;modules=managetags\">managetags</a></span></dt>\\n<dd>Perform management tasks relating to change tags.</dd>\\n<dt><span dir=\"ltr\" lang=\"en\"><a href=\"/w/api.php?action=help&amp;modules=massmessage\">massmessage</a></span></dt>\\n<dd>Send a message to a list of pages.</dd>\\n<dt><span dir=\"ltr\" lang=\"en\"><a href=\"/w/api.php?action=help&amp;modules=mergehistory\">mergehistory</a></span></dt>\\n<dd>Merge page histories.</dd>\\n<dt><span dir=\"ltr\" lang=\"en\"><a href=\"/w/api.php?action=help&amp;modules=move\">move</a></span></dt>\\n<dd>Move a page.</dd>\\n<dt><span dir=\"ltr\" lang=\"en\"><a href=\"/w/api.php?action=help&amp;modules=opensearch\">opensearch</a></span></dt>\\n<dd>Search the wiki using the OpenSearch protocol.</dd>\\n<dt><span dir=\"ltr\" lang=\"en\"><a href=\"/w/api.php?action=help&amp;modules=options\">options</a></span></dt>\\n<dd>Change preferences of the current user.</dd>\\n<dt><span dir=\"ltr\" lang=\"en\"><a href=\"/w/api.php?action=help&amp;modules=pagetriageaction\">pagetriageaction</a></span></dt>\\n<dd>Mark an article as reviewed or unreviewed.</dd>\\n<dt><span dir=\"ltr\" lang=\"en\"><a href=\"/w/api.php?action=help&amp;modules=pagetriagelist\">pagetriagelist</a></span></dt>\\n<dd>Get a list of page IDs for building a PageTriage queue.</dd>\\n<dt><span dir=\"ltr\" lang=\"en\"><a href=\"/w/api.php?action=help&amp;modules=pagetriagestats\">pagetriagestats</a></span></dt>\\n<dd>Get the stats for page triage.</dd>\\n<dt><span dir=\"ltr\" lang=\"en\"><a href=\"/w/api.php?action=help&amp;modules=pagetriagetagcopyvio\">pagetriagetagcopyvio</a></span></dt>\\n<dd>Tag a revision as a likely copyright violation.</dd>\\n<dt><span dir=\"ltr\" lang=\"en\"><a href=\"/w/api.php?action=help&amp;modules=pagetriagetagging\">pagetriagetagging</a></span></dt>\\n<dd>Add tags to an article.</dd>\\n<dt><span dir=\"ltr\" lang=\"en\"><a href=\"/w/api.php?action=help&amp;modules=paraminfo\">paraminfo</a></span></dt>\\n<dd>Obtain information about API modules.</dd>\\n<dt><span dir=\"ltr\" lang=\"en\"><a href=\"/w/api.php?action=help&amp;modules=parse\">parse</a></span></dt>\\n<dd>Parses content and returns parser output.</dd>\\n<dt><span dir=\"ltr\" lang=\"en\"><a href=\"/w/api.php?action=help&amp;modules=patrol\">patrol</a></span></dt>\\n<dd>Patrol a page or revision.</dd>\\n<dt><span dir=\"ltr\" lang=\"en\"><a href=\"/w/api.php?action=help&amp;modules=protect\">protect</a></span></dt>\\n<dd>Change the protection level of a page.</dd>\\n<dt><span dir=\"ltr\" lang=\"en\"><a href=\"/w/api.php?action=help&amp;modules=purge\">purge</a></span></dt>\\n<dd>Purge the cache for the given titles.</dd>\\n<dt><span dir=\"ltr\" lang=\"en\"><a href=\"/w/api.php?action=help&amp;modules=query\">query</a></span></dt>\\n<dd>Fetch data from and about MediaWiki.</dd>\\n<dt><span dir=\"ltr\" lang=\"en\"><a href=\"/w/api.php?action=help&amp;modules=removeauthenticationdata\">removeauthenticationdata</a></span></dt>\\n<dd>Remove authentication data for the current user.</dd>\\n<dt><span dir=\"ltr\" lang=\"en\"><a href=\"/w/api.php?action=help&amp;modules=resetpassword\">resetpassword</a></span></dt>\\n<dd>Send a password reset email to a user.</dd>\\n<dt><span dir=\"ltr\" lang=\"en\"><a href=\"/w/api.php?action=help&amp;modules=review\">review</a></span></dt>\\n<dd>Review a revision by approving or de-approving it.</dd>\\n<dt><span dir=\"ltr\" lang=\"en\"><a href=\"/w/api.php?action=help&amp;modules=reviewactivity\">reviewactivity</a></span></dt>\\n<dd>Advertise or de-advertise yourself as reviewing an unreviewed page or unreviewed changes.</dd>\\n<dt><span dir=\"ltr\" lang=\"en\"><a href=\"/w/api.php?action=help&amp;modules=revisiondelete\">revisiondelete</a></span></dt>\\n<dd>Delete and undelete revisions.</dd>\\n<dt><span dir=\"ltr\" lang=\"en\"><a href=\"/w/api.php?action=help&amp;modules=rollback\">rollback</a></span></dt>\\n<dd>Undo the last edit to the page.</dd>\\n<dt><span dir=\"ltr\" lang=\"en\"><a href=\"/w/api.php?action=help&amp;modules=rsd\">rsd</a></span></dt>\\n<dd>Export an RSD (Really Simple Discovery) schema.</dd>\\n<dt><span dir=\"ltr\" lang=\"en\"><a href=\"/w/api.php?action=help&amp;modules=setglobalaccountstatus\">setglobalaccountstatus</a></span></dt>\\n<dd>Set a global user\\'s status.</dd>\\n<dt><span dir=\"ltr\" lang=\"en\"><a href=\"/w/api.php?action=help&amp;modules=setnotificationtimestamp\">setnotificationtimestamp</a></span></dt>\\n<dd>Update the notification timestamp for watched pages.</dd>\\n<dt><span dir=\"ltr\" lang=\"en\"><a href=\"/w/api.php?action=help&amp;modules=setpagelanguage\">setpagelanguage</a></span></dt>\\n<dd>Change the language of a page.</dd>\\n<dt><span dir=\"ltr\" lang=\"en\"><a href=\"/w/api.php?action=help&amp;modules=shortenurl\">shortenurl</a></span></dt>\\n<dd>Shorten a long URL into a shorter one.</dd>\\n<dt><span dir=\"ltr\" lang=\"en\"><a href=\"/w/api.php?action=help&amp;modules=sitematrix\">sitematrix</a></span></dt>\\n<dd>Get Wikimedia sites list.</dd>\\n<dt><span dir=\"ltr\" lang=\"en\"><a href=\"/w/api.php?action=help&amp;modules=spamblacklist\">spamblacklist</a></span></dt>\\n<dd>Validate one or more URLs against the SpamBlacklist.</dd>\\n<dt><span dir=\"ltr\" lang=\"en\"><a href=\"/w/api.php?action=help&amp;modules=stabilize\">stabilize</a></span></dt>\\n<dd>Configure review-protection settings for a page.</dd>\\n<dt><span dir=\"ltr\" lang=\"en\"><a href=\"/w/api.php?action=help&amp;modules=streamconfigs\">streamconfigs</a></span></dt>\\n<dd>Exposes event stream config. Returns only format=json with formatversion=2.</dd>\\n<dt><span dir=\"ltr\" lang=\"en\"><a href=\"/w/api.php?action=help&amp;modules=strikevote\">strikevote</a></span></dt>\\n<dd>Allows admins to strike or unstrike a vote.</dd>\\n<dt><span dir=\"ltr\" lang=\"en\"><a href=\"/w/api.php?action=help&amp;modules=tag\">tag</a></span></dt>\\n<dd>Add or remove change tags from individual revisions or log entries.</dd>\\n<dt><span dir=\"ltr\" lang=\"en\"><a href=\"/w/api.php?action=help&amp;modules=templatedata\">templatedata</a></span></dt>\\n<dd>Fetch data stored by the TemplateData extension.</dd>\\n<dt><span dir=\"ltr\" lang=\"en\"><a href=\"/w/api.php?action=help&amp;modules=thank\">thank</a></span></dt>\\n<dd>Send a thank-you notification to an editor.</dd>\\n<dt><span dir=\"ltr\" lang=\"en\"><a href=\"/w/api.php?action=help&amp;modules=titleblacklist\">titleblacklist</a></span></dt>\\n<dd>Validate a page title, filename, or username against the TitleBlacklist.</dd>\\n<dt><span dir=\"ltr\" lang=\"en\"><a href=\"/w/api.php?action=help&amp;modules=transcodereset\">transcodereset</a></span></dt>\\n<dd>Users with the \\'transcode-reset\\' right can reset and re-run a transcode job.</dd>\\n<dt><span dir=\"ltr\" lang=\"en\"><a href=\"/w/api.php?action=help&amp;modules=unblock\">unblock</a></span></dt>\\n<dd>Unblock a user.</dd>\\n<dt><span dir=\"ltr\" lang=\"en\"><a href=\"/w/api.php?action=help&amp;modules=undelete\">undelete</a></span></dt>\\n<dd>Restore revisions of a deleted page.</dd>\\n<dt><span dir=\"ltr\" lang=\"en\"><a href=\"/w/api.php?action=help&amp;modules=unlinkaccount\">unlinkaccount</a></span></dt>\\n<dd>Remove a linked third-party account from the current user.</dd>\\n<dt><span dir=\"ltr\" lang=\"en\"><a href=\"/w/api.php?action=help&amp;modules=upload\">upload</a></span></dt>\\n<dd>Upload a file, or get the status of pending uploads.</dd>\\n<dt><span dir=\"ltr\" lang=\"en\"><a href=\"/w/api.php?action=help&amp;modules=userrights\">userrights</a></span></dt>\\n<dd>Change a user\\'s group membership.</dd>\\n<dt><span dir=\"ltr\" lang=\"en\"><a href=\"/w/api.php?action=help&amp;modules=validatepassword\">validatepassword</a></span></dt>\\n<dd>Validate a password against the wiki\\'s password policies.</dd>\\n<dt><span dir=\"ltr\" lang=\"en\"><a href=\"/w/api.php?action=help&amp;modules=watch\">watch</a></span></dt>\\n<dd>Add or remove pages from the current user\\'s watchlist.</dd>\\n<dt><span dir=\"ltr\" lang=\"en\"><a href=\"/w/api.php?action=help&amp;modules=webapp-manifest\">webapp-manifest</a></span></dt>\\n<dd>Returns a webapp manifest.</dd>\\n<dt><span dir=\"ltr\" lang=\"en\"><a href=\"/w/api.php?action=help&amp;modules=webauthn\">webauthn</a></span></dt>\\n<dd>API Module to communicate between server and client during registration/authentication process</dd>\\n<dt><span dir=\"ltr\" lang=\"en\"><a href=\"/w/api.php?action=help&amp;modules=wikilove\">wikilove</a></span></dt>\\n<dd>Give WikiLove to another user.</dd>\\n<dt><span dir=\"ltr\" lang=\"en\"><a href=\"/w/api.php?action=help&amp;modules=mobileview\">mobileview</a></span></dt>\\n<dd><span class=\"apihelp-deprecated\">Deprecated.</span> Returns data needed for mobile views.</dd>\\n<dt><span dir=\"ltr\" lang=\"en\"><a href=\"/w/api.php?action=help&amp;modules=tokens\">tokens</a></span></dt>\\n<dd><span class=\"apihelp-deprecated\">Deprecated.</span> Get tokens for data-modifying actions.</dd>\\n<dt><span dir=\"ltr\" lang=\"en\"><a href=\"/w/api.php?action=help&amp;modules=bouncehandler\">bouncehandler</a></span></dt>\\n<dd><span class=\"apihelp-internal\">Internal.</span> Receive a bounce email and process it to handle the failing recipient.</dd>\\n<dt><span dir=\"ltr\" lang=\"en\"><a href=\"/w/api.php?action=help&amp;modules=categorytree\">categorytree</a></span></dt>\\n<dd><span class=\"apihelp-internal\">Internal.</span> Internal module for the CategoryTree extension.</dd>\\n<dt><span dir=\"ltr\" lang=\"en\"><a href=\"/w/api.php?action=help&amp;modules=cspreport\">cspreport</a></span></dt>\\n<dd><span class=\"apihelp-internal\">Internal.</span> Used by browsers to report violations of the Content Security Policy. This module should never be used, except when used automatically by a CSP compliant web browser.</dd>\\n<dt><span dir=\"ltr\" lang=\"en\"><a href=\"/w/api.php?action=help&amp;modules=cxpublish\">cxpublish</a></span></dt>\\n<dd><span class=\"apihelp-internal\">Internal.</span> Save a page created using the Content Translation extension.</dd>\\n<dt><span dir=\"ltr\" lang=\"en\"><a href=\"/w/api.php?action=help&amp;modules=cxsave\">cxsave</a></span></dt>\\n<dd><span class=\"apihelp-internal\">Internal.</span> This module allows to save draft translations by section to save bandwidth and to collect parallel corpora.</dd>\\n<dt><span dir=\"ltr\" lang=\"en\"><a href=\"/w/api.php?action=help&amp;modules=discussiontools\">discussiontools</a></span></dt>\\n<dd><span class=\"apihelp-internal\">Internal.</span> Returns metadata required to initialize the discussion tools.</dd>\\n<dt><span dir=\"ltr\" lang=\"en\"><a href=\"/w/api.php?action=help&amp;modules=discussiontoolsedit\">discussiontoolsedit</a></span></dt>\\n<dd><span class=\"apihelp-internal\">Internal.</span> Post a message on a discussion page.</dd>\\n<dt><span dir=\"ltr\" lang=\"en\"><a href=\"/w/api.php?action=help&amp;modules=echopushsubscriptions\">echopushsubscriptions</a></span></dt>\\n<dd><span class=\"apihelp-internal\">Internal.</span> Manage push subscriptions for the current user.</dd>\\n<dt><span dir=\"ltr\" lang=\"en\"><a href=\"/w/api.php?action=help&amp;modules=jsondata\">jsondata</a></span></dt>\\n<dd><span class=\"apihelp-internal\">Internal.</span> Retrieve localized JSON data.</dd>\\n<dt><span dir=\"ltr\" lang=\"en\"><a href=\"/w/api.php?action=help&amp;modules=oathvalidate\">oathvalidate</a></span></dt>\\n<dd><span class=\"apihelp-internal\">Internal.</span> Validate a two-factor authentication (OATH) token.</dd>\\n<dt><span dir=\"ltr\" lang=\"en\"><a href=\"/w/api.php?action=help&amp;modules=readinglists\">readinglists</a></span></dt>\\n<dd><span class=\"apihelp-internal\">Internal.</span> Reading list write operations.</dd>\\n<dt><span dir=\"ltr\" lang=\"en\"><a href=\"/w/api.php?action=help&amp;modules=record-lint\">record-lint</a></span></dt>\\n<dd><span class=\"apihelp-internal\">Internal.</span> Record a lint error in the database</dd>\\n<dt><span dir=\"ltr\" lang=\"en\"><a href=\"/w/api.php?action=help&amp;modules=sanitize-mapdata\">sanitize-mapdata</a></span></dt>\\n<dd><span class=\"apihelp-internal\">Internal.</span> Performs data validation for Kartographer extension</dd>\\n<dt><span dir=\"ltr\" lang=\"en\"><a href=\"/w/api.php?action=help&amp;modules=scribunto-console\">scribunto-console</a></span></dt>\\n<dd><span class=\"apihelp-internal\">Internal.</span> Internal module for servicing XHR requests from the Scribunto console.</dd>\\n<dt><span dir=\"ltr\" lang=\"en\"><a href=\"/w/api.php?action=help&amp;modules=stashedit\">stashedit</a></span></dt>\\n<dd><span class=\"apihelp-internal\">Internal.</span> Prepare an edit in shared cache.</dd>\\n<dt><span dir=\"ltr\" lang=\"en\"><a href=\"/w/api.php?action=help&amp;modules=timedtext\">timedtext</a></span></dt>\\n<dd><span class=\"apihelp-internal\">Internal.</span> Provides timed text content for usage by &lt;track&gt; elements</dd>\\n<dt><span dir=\"ltr\" lang=\"en\"><a href=\"/w/api.php?action=help&amp;modules=ulslocalization\">ulslocalization</a></span></dt>\\n<dd><span class=\"apihelp-internal\">Internal.</span> Get the localization of ULS in the given language.</dd>\\n<dt><span dir=\"ltr\" lang=\"en\"><a href=\"/w/api.php?action=help&amp;modules=ulssetlang\">ulssetlang</a></span></dt>\\n<dd><span class=\"apihelp-internal\">Internal.</span> Update user\\'s preferred interface language.</dd>\\n<dt><span dir=\"ltr\" lang=\"en\"><a href=\"/w/api.php?action=help&amp;modules=visualeditor\">visualeditor</a></span></dt>\\n<dd><span class=\"apihelp-internal\">Internal.</span> Returns HTML5 for a page from the Parsoid service.</dd>\\n<dt><span dir=\"ltr\" lang=\"en\"><a href=\"/w/api.php?action=help&amp;modules=visualeditoredit\">visualeditoredit</a></span></dt>\\n<dd><span class=\"apihelp-internal\">Internal.</span> Save an HTML5 page to MediaWiki (converted to wikitext via the Parsoid service).</dd></dl></dd><dd class=\"info\">One of the following values: <a href=\"/w/api.php?action=help&amp;modules=abusefiltercheckmatch\"><span dir=\"ltr\" lang=\"en\">abusefiltercheckmatch</span></a>, <a href=\"/w/api.php?action=help&amp;modules=abusefilterchecksyntax\"><span dir=\"ltr\" lang=\"en\">abusefilterchecksyntax</span></a>, <a href=\"/w/api.php?action=help&amp;modules=abusefilterevalexpression\"><span dir=\"ltr\" lang=\"en\">abusefilterevalexpression</span></a>, <a href=\"/w/api.php?action=help&amp;modules=abusefilterunblockautopromote\"><span dir=\"ltr\" lang=\"en\">abusefilterunblockautopromote</span></a>, <a href=\"/w/api.php?action=help&amp;modules=abuselogprivatedetails\"><span dir=\"ltr\" lang=\"en\">abuselogprivatedetails</span></a>, <a href=\"/w/api.php?action=help&amp;modules=antispoof\"><span dir=\"ltr\" lang=\"en\">antispoof</span></a>, <a href=\"/w/api.php?action=help&amp;modules=block\"><span dir=\"ltr\" lang=\"en\">block</span></a>, <a href=\"/w/api.php?action=help&amp;modules=centralauthtoken\"><span dir=\"ltr\" lang=\"en\">centralauthtoken</span></a>, <a href=\"/w/api.php?action=help&amp;modules=centralnoticecdncacheupdatebanner\"><span dir=\"ltr\" lang=\"en\">centralnoticecdncacheupdatebanner</span></a>, <a href=\"/w/api.php?action=help&amp;modules=centralnoticechoicedata\"><span dir=\"ltr\" lang=\"en\">centralnoticechoicedata</span></a>, <a href=\"/w/api.php?action=help&amp;modules=centralnoticequerycampaign\"><span dir=\"ltr\" lang=\"en\">centralnoticequerycampaign</span></a>, <a href=\"/w/api.php?action=help&amp;modules=changeauthenticationdata\"><span dir=\"ltr\" lang=\"en\">changeauthenticationdata</span></a>, <a href=\"/w/api.php?action=help&amp;modules=changecontentmodel\"><span dir=\"ltr\" lang=\"en\">changecontentmodel</span></a>, <a href=\"/w/api.php?action=help&amp;modules=checktoken\"><span dir=\"ltr\" lang=\"en\">checktoken</span></a>, <a href=\"/w/api.php?action=help&amp;modules=cirrus-config-dump\"><span dir=\"ltr\" lang=\"en\">cirrus-config-dump</span></a>, <a href=\"/w/api.php?action=help&amp;modules=cirrus-mapping-dump\"><span dir=\"ltr\" lang=\"en\">cirrus-mapping-dump</span></a>, <a href=\"/w/api.php?action=help&amp;modules=cirrus-profiles-dump\"><span dir=\"ltr\" lang=\"en\">cirrus-profiles-dump</span></a>, <a href=\"/w/api.php?action=help&amp;modules=cirrus-settings-dump\"><span dir=\"ltr\" lang=\"en\">cirrus-settings-dump</span></a>, <a href=\"/w/api.php?action=help&amp;modules=clearhasmsg\"><span dir=\"ltr\" lang=\"en\">clearhasmsg</span></a>, <a href=\"/w/api.php?action=help&amp;modules=clientlogin\"><span dir=\"ltr\" lang=\"en\">clientlogin</span></a>, <a href=\"/w/api.php?action=help&amp;modules=compare\"><span dir=\"ltr\" lang=\"en\">compare</span></a>, <a href=\"/w/api.php?action=help&amp;modules=createaccount\"><span dir=\"ltr\" lang=\"en\">createaccount</span></a>, <a href=\"/w/api.php?action=help&amp;modules=cxconfiguration\"><span dir=\"ltr\" lang=\"en\">cxconfiguration</span></a>, <a href=\"/w/api.php?action=help&amp;modules=cxdelete\"><span dir=\"ltr\" lang=\"en\">cxdelete</span></a>, <a href=\"/w/api.php?action=help&amp;modules=cxsuggestionlist\"><span dir=\"ltr\" lang=\"en\">cxsuggestionlist</span></a>, <a href=\"/w/api.php?action=help&amp;modules=cxtoken\"><span dir=\"ltr\" lang=\"en\">cxtoken</span></a>, <a href=\"/w/api.php?action=help&amp;modules=delete\"><span dir=\"ltr\" lang=\"en\">delete</span></a>, <a href=\"/w/api.php?action=help&amp;modules=deleteglobalaccount\"><span dir=\"ltr\" lang=\"en\">deleteglobalaccount</span></a>, <a href=\"/w/api.php?action=help&amp;modules=echomarkread\"><span dir=\"ltr\" lang=\"en\">echomarkread</span></a>, <a href=\"/w/api.php?action=help&amp;modules=echomarkseen\"><span dir=\"ltr\" lang=\"en\">echomarkseen</span></a>, <a href=\"/w/api.php?action=help&amp;modules=echomute\"><span dir=\"ltr\" lang=\"en\">echomute</span></a>, <a href=\"/w/api.php?action=help&amp;modules=edit\"><span dir=\"ltr\" lang=\"en\">edit</span></a>, <a href=\"/w/api.php?action=help&amp;modules=editmassmessagelist\"><span dir=\"ltr\" lang=\"en\">editmassmessagelist</span></a>, <a href=\"/w/api.php?action=help&amp;modules=emailuser\"><span dir=\"ltr\" lang=\"en\">emailuser</span></a>, <a href=\"/w/api.php?action=help&amp;modules=expandtemplates\"><span dir=\"ltr\" lang=\"en\">expandtemplates</span></a>, <a href=\"/w/api.php?action=help&amp;modules=fancycaptchareload\"><span dir=\"ltr\" lang=\"en\">fancycaptchareload</span></a>, <a href=\"/w/api.php?action=help&amp;modules=featuredfeed\"><span dir=\"ltr\" lang=\"en\">featuredfeed</span></a>, <a href=\"/w/api.php?action=help&amp;modules=feedcontributions\"><span dir=\"ltr\" lang=\"en\">feedcontributions</span></a>, <a href=\"/w/api.php?action=help&amp;modules=feedrecentchanges\"><span dir=\"ltr\" lang=\"en\">feedrecentchanges</span></a>, <a href=\"/w/api.php?action=help&amp;modules=feedwatchlist\"><span dir=\"ltr\" lang=\"en\">feedwatchlist</span></a>, <a href=\"/w/api.php?action=help&amp;modules=filerevert\"><span dir=\"ltr\" lang=\"en\">filerevert</span></a>, <a href=\"/w/api.php?action=help&amp;modules=flagconfig\"><span dir=\"ltr\" lang=\"en\">flagconfig</span></a>, <a href=\"/w/api.php?action=help&amp;modules=globalblock\"><span dir=\"ltr\" lang=\"en\">globalblock</span></a>, <a href=\"/w/api.php?action=help&amp;modules=globalpreferenceoverrides\"><span dir=\"ltr\" lang=\"en\">globalpreferenceoverrides</span></a>, <a href=\"/w/api.php?action=help&amp;modules=globalpreferences\"><span dir=\"ltr\" lang=\"en\">globalpreferences</span></a>, <a href=\"/w/api.php?action=help&amp;modules=globaluserrights\"><span dir=\"ltr\" lang=\"en\">globaluserrights</span></a>, <a href=\"/w/api.php?action=help&amp;modules=graph\"><span dir=\"ltr\" lang=\"en\">graph</span></a>, <a href=\"/w/api.php?action=help&amp;modules=help\"><span dir=\"ltr\" lang=\"en\">help</span></a>, <a href=\"/w/api.php?action=help&amp;modules=imagerotate\"><span dir=\"ltr\" lang=\"en\">imagerotate</span></a>, <a href=\"/w/api.php?action=help&amp;modules=import\"><span dir=\"ltr\" lang=\"en\">import</span></a>, <a href=\"/w/api.php?action=help&amp;modules=jsonconfig\"><span dir=\"ltr\" lang=\"en\">jsonconfig</span></a>, <a href=\"/w/api.php?action=help&amp;modules=languagesearch\"><span dir=\"ltr\" lang=\"en\">languagesearch</span></a>, <a href=\"/w/api.php?action=help&amp;modules=linkaccount\"><span dir=\"ltr\" lang=\"en\">linkaccount</span></a>, <a href=\"/w/api.php?action=help&amp;modules=login\"><span dir=\"ltr\" lang=\"en\">login</span></a>, <a href=\"/w/api.php?action=help&amp;modules=logout\"><span dir=\"ltr\" lang=\"en\">logout</span></a>, <a href=\"/w/api.php?action=help&amp;modules=managetags\"><span dir=\"ltr\" lang=\"en\">managetags</span></a>, <a href=\"/w/api.php?action=help&amp;modules=massmessage\"><span dir=\"ltr\" lang=\"en\">massmessage</span></a>, <a href=\"/w/api.php?action=help&amp;modules=mergehistory\"><span dir=\"ltr\" lang=\"en\">mergehistory</span></a>, <a href=\"/w/api.php?action=help&amp;modules=move\"><span dir=\"ltr\" lang=\"en\">move</span></a>, <a href=\"/w/api.php?action=help&amp;modules=opensearch\"><span dir=\"ltr\" lang=\"en\">opensearch</span></a>, <a href=\"/w/api.php?action=help&amp;modules=options\"><span dir=\"ltr\" lang=\"en\">options</span></a>, <a href=\"/w/api.php?action=help&amp;modules=pagetriageaction\"><span dir=\"ltr\" lang=\"en\">pagetriageaction</span></a>, <a href=\"/w/api.php?action=help&amp;modules=pagetriagelist\"><span dir=\"ltr\" lang=\"en\">pagetriagelist</span></a>, <a href=\"/w/api.php?action=help&amp;modules=pagetriagestats\"><span dir=\"ltr\" lang=\"en\">pagetriagestats</span></a>, <a href=\"/w/api.php?action=help&amp;modules=pagetriagetagcopyvio\"><span dir=\"ltr\" lang=\"en\">pagetriagetagcopyvio</span></a>, <a href=\"/w/api.php?action=help&amp;modules=pagetriagetagging\"><span dir=\"ltr\" lang=\"en\">pagetriagetagging</span></a>, <a href=\"/w/api.php?action=help&amp;modules=paraminfo\"><span dir=\"ltr\" lang=\"en\">paraminfo</span></a>, <a href=\"/w/api.php?action=help&amp;modules=parse\"><span dir=\"ltr\" lang=\"en\">parse</span></a>, <a href=\"/w/api.php?action=help&amp;modules=patrol\"><span dir=\"ltr\" lang=\"en\">patrol</span></a>, <a href=\"/w/api.php?action=help&amp;modules=protect\"><span dir=\"ltr\" lang=\"en\">protect</span></a>, <a href=\"/w/api.php?action=help&amp;modules=purge\"><span dir=\"ltr\" lang=\"en\">purge</span></a>, <a href=\"/w/api.php?action=help&amp;modules=query\"><span dir=\"ltr\" lang=\"en\">query</span></a>, <a href=\"/w/api.php?action=help&amp;modules=removeauthenticationdata\"><span dir=\"ltr\" lang=\"en\">removeauthenticationdata</span></a>, <a href=\"/w/api.php?action=help&amp;modules=resetpassword\"><span dir=\"ltr\" lang=\"en\">resetpassword</span></a>, <a href=\"/w/api.php?action=help&amp;modules=review\"><span dir=\"ltr\" lang=\"en\">review</span></a>, <a href=\"/w/api.php?action=help&amp;modules=reviewactivity\"><span dir=\"ltr\" lang=\"en\">reviewactivity</span></a>, <a href=\"/w/api.php?action=help&amp;modules=revisiondelete\"><span dir=\"ltr\" lang=\"en\">revisiondelete</span></a>, <a href=\"/w/api.php?action=help&amp;modules=rollback\"><span dir=\"ltr\" lang=\"en\">rollback</span></a>, <a href=\"/w/api.php?action=help&amp;modules=rsd\"><span dir=\"ltr\" lang=\"en\">rsd</span></a>, <a href=\"/w/api.php?action=help&amp;modules=setglobalaccountstatus\"><span dir=\"ltr\" lang=\"en\">setglobalaccountstatus</span></a>, <a href=\"/w/api.php?action=help&amp;modules=setnotificationtimestamp\"><span dir=\"ltr\" lang=\"en\">setnotificationtimestamp</span></a>, <a href=\"/w/api.php?action=help&amp;modules=setpagelanguage\"><span dir=\"ltr\" lang=\"en\">setpagelanguage</span></a>, <a href=\"/w/api.php?action=help&amp;modules=shortenurl\"><span dir=\"ltr\" lang=\"en\">shortenurl</span></a>, <a href=\"/w/api.php?action=help&amp;modules=sitematrix\"><span dir=\"ltr\" lang=\"en\">sitematrix</span></a>, <a href=\"/w/api.php?action=help&amp;modules=spamblacklist\"><span dir=\"ltr\" lang=\"en\">spamblacklist</span></a>, <a href=\"/w/api.php?action=help&amp;modules=stabilize\"><span dir=\"ltr\" lang=\"en\">stabilize</span></a>, <a href=\"/w/api.php?action=help&amp;modules=streamconfigs\"><span dir=\"ltr\" lang=\"en\">streamconfigs</span></a>, <a href=\"/w/api.php?action=help&amp;modules=strikevote\"><span dir=\"ltr\" lang=\"en\">strikevote</span></a>, <a href=\"/w/api.php?action=help&amp;modules=tag\"><span dir=\"ltr\" lang=\"en\">tag</span></a>, <a href=\"/w/api.php?action=help&amp;modules=templatedata\"><span dir=\"ltr\" lang=\"en\">templatedata</span></a>, <a href=\"/w/api.php?action=help&amp;modules=thank\"><span dir=\"ltr\" lang=\"en\">thank</span></a>, <a href=\"/w/api.php?action=help&amp;modules=titleblacklist\"><span dir=\"ltr\" lang=\"en\">titleblacklist</span></a>, <a href=\"/w/api.php?action=help&amp;modules=transcodereset\"><span dir=\"ltr\" lang=\"en\">transcodereset</span></a>, <a href=\"/w/api.php?action=help&amp;modules=unblock\"><span dir=\"ltr\" lang=\"en\">unblock</span></a>, <a href=\"/w/api.php?action=help&amp;modules=undelete\"><span dir=\"ltr\" lang=\"en\">undelete</span></a>, <a href=\"/w/api.php?action=help&amp;modules=unlinkaccount\"><span dir=\"ltr\" lang=\"en\">unlinkaccount</span></a>, <a href=\"/w/api.php?action=help&amp;modules=upload\"><span dir=\"ltr\" lang=\"en\">upload</span></a>, <a href=\"/w/api.php?action=help&amp;modules=userrights\"><span dir=\"ltr\" lang=\"en\">userrights</span></a>, <a href=\"/w/api.php?action=help&amp;modules=validatepassword\"><span dir=\"ltr\" lang=\"en\">validatepassword</span></a>, <a href=\"/w/api.php?action=help&amp;modules=watch\"><span dir=\"ltr\" lang=\"en\">watch</span></a>, <a href=\"/w/api.php?action=help&amp;modules=webapp-manifest\"><span dir=\"ltr\" lang=\"en\">webapp-manifest</span></a>, <a href=\"/w/api.php?action=help&amp;modules=webauthn\"><span dir=\"ltr\" lang=\"en\">webauthn</span></a>, <a href=\"/w/api.php?action=help&amp;modules=wikilove\"><span dir=\"ltr\" lang=\"en\">wikilove</span></a>, <a href=\"/w/api.php?action=help&amp;modules=mobileview\"><span dir=\"ltr\" lang=\"en\" class=\"apihelp-deprecated-value\">mobileview</span></a>, <a href=\"/w/api.php?action=help&amp;modules=tokens\"><span dir=\"ltr\" lang=\"en\" class=\"apihelp-deprecated-value\">tokens</span></a>, <a href=\"/w/api.php?action=help&amp;modules=bouncehandler\"><span dir=\"ltr\" lang=\"en\" class=\"apihelp-internal-value\">bouncehandler</span></a>, <a href=\"/w/api.php?action=help&amp;modules=categorytree\"><span dir=\"ltr\" lang=\"en\" class=\"apihelp-internal-value\">categorytree</span></a>, <a href=\"/w/api.php?action=help&amp;modules=cspreport\"><span dir=\"ltr\" lang=\"en\" class=\"apihelp-internal-value\">cspreport</span></a>, <a href=\"/w/api.php?action=help&amp;modules=cxpublish\"><span dir=\"ltr\" lang=\"en\" class=\"apihelp-internal-value\">cxpublish</span></a>, <a href=\"/w/api.php?action=help&amp;modules=cxsave\"><span dir=\"ltr\" lang=\"en\" class=\"apihelp-internal-value\">cxsave</span></a>, <a href=\"/w/api.php?action=help&amp;modules=discussiontools\"><span dir=\"ltr\" lang=\"en\" class=\"apihelp-internal-value\">discussiontools</span></a>, <a href=\"/w/api.php?action=help&amp;modules=discussiontoolsedit\"><span dir=\"ltr\" lang=\"en\" class=\"apihelp-internal-value\">discussiontoolsedit</span></a>, <a href=\"/w/api.php?action=help&amp;modules=echopushsubscriptions\"><span dir=\"ltr\" lang=\"en\" class=\"apihelp-internal-value\">echopushsubscriptions</span></a>, <a href=\"/w/api.php?action=help&amp;modules=jsondata\"><span dir=\"ltr\" lang=\"en\" class=\"apihelp-internal-value\">jsondata</span></a>, <a href=\"/w/api.php?action=help&amp;modules=oathvalidate\"><span dir=\"ltr\" lang=\"en\" class=\"apihelp-internal-value\">oathvalidate</span></a>, <a href=\"/w/api.php?action=help&amp;modules=readinglists\"><span dir=\"ltr\" lang=\"en\" class=\"apihelp-internal-value\">readinglists</span></a>, <a href=\"/w/api.php?action=help&amp;modules=record-lint\"><span dir=\"ltr\" lang=\"en\" class=\"apihelp-internal-value\">record-lint</span></a>, <a href=\"/w/api.php?action=help&amp;modules=sanitize-mapdata\"><span dir=\"ltr\" lang=\"en\" class=\"apihelp-internal-value\">sanitize-mapdata</span></a>, <a href=\"/w/api.php?action=help&amp;modules=scribunto-console\"><span dir=\"ltr\" lang=\"en\" class=\"apihelp-internal-value\">scribunto-console</span></a>, <a href=\"/w/api.php?action=help&amp;modules=stashedit\"><span dir=\"ltr\" lang=\"en\" class=\"apihelp-internal-value\">stashedit</span></a>, <a href=\"/w/api.php?action=help&amp;modules=timedtext\"><span dir=\"ltr\" lang=\"en\" class=\"apihelp-internal-value\">timedtext</span></a>, <a href=\"/w/api.php?action=help&amp;modules=ulslocalization\"><span dir=\"ltr\" lang=\"en\" class=\"apihelp-internal-value\">ulslocalization</span></a>, <a href=\"/w/api.php?action=help&amp;modules=ulssetlang\"><span dir=\"ltr\" lang=\"en\" class=\"apihelp-internal-value\">ulssetlang</span></a>, <a href=\"/w/api.php?action=help&amp;modules=visualeditor\"><span dir=\"ltr\" lang=\"en\" class=\"apihelp-internal-value\">visualeditor</span></a>, <a href=\"/w/api.php?action=help&amp;modules=visualeditoredit\"><span dir=\"ltr\" lang=\"en\" class=\"apihelp-internal-value\">visualeditoredit</span></a></dd><dd class=\"info\">Default: help</dd><dt><span dir=\"ltr\" lang=\"en\">format</span></dt><dd class=\"description\"><p>The format of the output.\\n</p><dl><dt><span dir=\"ltr\" lang=\"en\"><a href=\"/w/api.php?action=help&amp;modules=json\">json</a></span></dt>\\n<dd>Output data in JSON format.</dd>\\n<dt><span dir=\"ltr\" lang=\"en\"><a href=\"/w/api.php?action=help&amp;modules=jsonfm\">jsonfm</a></span></dt>\\n<dd>Output data in JSON format (pretty-print in HTML).</dd>\\n<dt><span dir=\"ltr\" lang=\"en\"><a href=\"/w/api.php?action=help&amp;modules=none\">none</a></span></dt>\\n<dd>Output nothing.</dd>\\n<dt><span dir=\"ltr\" lang=\"en\"><a href=\"/w/api.php?action=help&amp;modules=php\">php</a></span></dt>\\n<dd>Output data in serialized PHP format.</dd>\\n<dt><span dir=\"ltr\" lang=\"en\"><a href=\"/w/api.php?action=help&amp;modules=phpfm\">phpfm</a></span></dt>\\n<dd>Output data in serialized PHP format (pretty-print in HTML).</dd>\\n<dt><span dir=\"ltr\" lang=\"en\"><a href=\"/w/api.php?action=help&amp;modules=rawfm\">rawfm</a></span></dt>\\n<dd>Output data, including debugging elements, in JSON format (pretty-print in HTML).</dd>\\n<dt><span dir=\"ltr\" lang=\"en\"><a href=\"/w/api.php?action=help&amp;modules=xml\">xml</a></span></dt>\\n<dd>Output data in XML format.</dd>\\n<dt><span dir=\"ltr\" lang=\"en\"><a href=\"/w/api.php?action=help&amp;modules=xmlfm\">xmlfm</a></span></dt>\\n<dd>Output data in XML format (pretty-print in HTML).</dd></dl></dd><dd class=\"info\">One of the following values: <a href=\"/w/api.php?action=help&amp;modules=json\"><span dir=\"ltr\" lang=\"en\">json</span></a>, <a href=\"/w/api.php?action=help&amp;modules=jsonfm\"><span dir=\"ltr\" lang=\"en\">jsonfm</span></a>, <a href=\"/w/api.php?action=help&amp;modules=none\"><span dir=\"ltr\" lang=\"en\">none</span></a>, <a href=\"/w/api.php?action=help&amp;modules=php\"><span dir=\"ltr\" lang=\"en\">php</span></a>, <a href=\"/w/api.php?action=help&amp;modules=phpfm\"><span dir=\"ltr\" lang=\"en\">phpfm</span></a>, <a href=\"/w/api.php?action=help&amp;modules=rawfm\"><span dir=\"ltr\" lang=\"en\">rawfm</span></a>, <a href=\"/w/api.php?action=help&amp;modules=xml\"><span dir=\"ltr\" lang=\"en\">xml</span></a>, <a href=\"/w/api.php?action=help&amp;modules=xmlfm\"><span dir=\"ltr\" lang=\"en\">xmlfm</span></a></dd><dd class=\"info\">Default: jsonfm</dd><dt><span dir=\"ltr\" lang=\"en\">maxlag</span></dt><dd class=\"description\"><p>Maximum lag can be used when MediaWiki is installed on a database replicated cluster. To save actions causing any more site replication lag, this parameter can make the client wait until the replication lag is less than the specified value. In case of excessive lag, error code <samp>maxlag</samp> is returned with a message like <samp>Waiting for $host: $lag seconds lagged</samp>.<br>See <a href=\"https://www.mediawiki.org/wiki/Special:MyLanguage/Manual:Maxlag_parameter\" class=\"extiw\" title=\"mw:Special:MyLanguage/Manual:Maxlag parameter\">Manual: Maxlag parameter</a> for more information.\\n</p></dd><dd class=\"info\">Type: integer</dd><dt><span dir=\"ltr\" lang=\"en\">smaxage</span></dt><dd class=\"description\"><p>Set the <code>s-maxage</code> HTTP cache control header to this many seconds. Errors are never cached.\\n</p></dd><dd class=\"info\">Type: integer</dd><dd class=\"info\">Default: 0</dd><dt><span dir=\"ltr\" lang=\"en\">maxage</span></dt><dd class=\"description\"><p>Set the <code>max-age</code> HTTP cache control header to this many seconds. Errors are never cached.\\n</p></dd><dd class=\"info\">Type: integer</dd><dd class=\"info\">Default: 0</dd><dt><span dir=\"ltr\" lang=\"en\">assert</span></dt><dd class=\"description\"><p>Verify that the user is logged in if set to <kbd>user</kbd>, <em>not</em> logged in if set to <kbd>anon</kbd>, or has the bot user right if <kbd>bot</kbd>.\\n</p></dd><dd class=\"info\">One of the following values: anon, bot, user</dd><dt><span dir=\"ltr\" lang=\"en\">assertuser</span></dt><dd class=\"description\"><p>Verify the current user is the named user.\\n</p></dd><dd class=\"info\">Type: user, by user name</dd><dt><span dir=\"ltr\" lang=\"en\">requestid</span></dt><dd class=\"description\"><p>Any value given here will be included in the response. May be used to distinguish requests.\\n</p></dd><dt><span dir=\"ltr\" lang=\"en\">servedby</span></dt><dd class=\"description\"><p>Include the hostname that served the request in the results.\\n</p></dd><dd class=\"info\">Type: boolean (<a href=\"#main/datatype/boolean\">details</a>)</dd><dt><span dir=\"ltr\" lang=\"en\">curtimestamp</span></dt><dd class=\"description\"><p>Include the current timestamp in the result.\\n</p></dd><dd class=\"info\">Type: boolean (<a href=\"#main/datatype/boolean\">details</a>)</dd><dt><span dir=\"ltr\" lang=\"en\">responselanginfo</span></dt><dd class=\"description\"><p>Include the languages used for <var>uselang</var> and <var>errorlang</var> in the result.\\n</p></dd><dd class=\"info\">Type: boolean (<a href=\"#main/datatype/boolean\">details</a>)</dd><dt><span dir=\"ltr\" lang=\"en\">origin</span></dt><dd class=\"description\"><p>When accessing the API using a cross-domain AJAX request (CORS), set this to the originating domain. This must be included in any pre-flight request, and therefore must be part of the request URI (not the POST body).\\n</p><p>For authenticated requests, this must match one of the origins in the <code>Origin</code> header exactly, so it has to be set to something like <kbd><a class=\"external free\" href=\"https://en.wikipedia.org\">https://en.wikipedia.org</a></kbd> or <kbd><a class=\"external free\" href=\"https://meta.wikimedia.org\">https://meta.wikimedia.org</a></kbd>. If this parameter does not match the <code>Origin</code> header, a 403 response will be returned. If this parameter matches the <code>Origin</code> header and the origin is whitelisted, the <code>Access-Control-Allow-Origin</code> and <code>Access-Control-Allow-Credentials</code> headers will be set.\\n</p><p>For non-authenticated requests, specify the value <kbd>*</kbd>. This will cause the <code>Access-Control-Allow-Origin</code> header to be set, but <code>Access-Control-Allow-Credentials</code> will be <code>false</code> and all user-specific data will be restricted.\\n</p></dd><dt><span dir=\"ltr\" lang=\"en\">uselang</span></dt><dd class=\"description\"><p>Language to use for message translations. <kbd><a href=\"/w/api.php?action=help&amp;modules=query%2Bsiteinfo\">action=query&amp;meta=siteinfo</a></kbd> with <kbd>siprop=languages</kbd> returns a list of language codes, or specify <kbd>user</kbd> to use the current user\\'s language preference, or specify <kbd>content</kbd> to use this wiki\\'s content language.\\n</p></dd><dd class=\"info\">Default: user</dd><dt><span dir=\"ltr\" lang=\"en\">errorformat</span></dt><dd class=\"description\"><p>Format to use for warning and error text output.\\n</p>\\n<dl><dt>plaintext</dt>\\n<dd>Wikitext with HTML tags removed and entities replaced.</dd>\\n<dt>wikitext</dt>\\n<dd>Unparsed wikitext.</dd>\\n<dt>html</dt>\\n<dd>HTML.</dd>\\n<dt>raw</dt>\\n<dd>Message key and parameters.</dd>\\n<dt>none</dt>\\n<dd>No text output, only the error codes.</dd>\\n<dt>bc</dt>\\n<dd>Format used prior to MediaWiki 1.29. <var>errorlang</var> and <var>errorsuselocal</var> are ignored.</dd></dl></dd><dd class=\"info\">One of the following values: bc, html, none, plaintext, raw, wikitext</dd><dd class=\"info\">Default: bc</dd><dt><span dir=\"ltr\" lang=\"en\">errorlang</span></dt><dd class=\"description\"><p>Language to use for warnings and errors. <kbd><a href=\"/w/api.php?action=help&amp;modules=query%2Bsiteinfo\">action=query&amp;meta=siteinfo</a></kbd> with <kbd>siprop=languages</kbd> returns a list of language codes, or specify <kbd>content</kbd> to use this wiki\\'s content language, or specify <kbd>uselang</kbd> to use the same value as the <var>uselang</var> parameter.\\n</p></dd><dd class=\"info\">Default: uselang</dd><dt><span dir=\"ltr\" lang=\"en\">errorsuselocal</span></dt><dd class=\"description\"><p>If given, error texts will use locally-customized messages from the MediaWiki namespace.\\n</p></dd><dd class=\"info\">Type: boolean (<a href=\"#main/datatype/boolean\">details</a>)</dd><dt><span dir=\"ltr\" lang=\"en\">centralauthtoken</span></dt><dd class=\"description\"><p>When accessing the API using a cross-domain AJAX request (CORS), use this to authenticate as the current SUL user. Use <kbd><a href=\"/w/api.php?action=help&amp;modules=centralauthtoken\">action=centralauthtoken</a></kbd> on this wiki to retrieve the token, before making the CORS request. Each token may only be used once, and expires after 10 seconds. This should be included in any pre-flight request, and therefore should be included in the request URI (not the POST body).\\n</p></dd></dl></div>\\n<div class=\"apihelp-block apihelp-examples\"><div class=\"apihelp-block-head\">Examples:</div><dl><dt>Help for the main module.</dt><dd><a href=\"/w/api.php?action=help\" dir=\"ltr\">api.php?action=help</a> <a href=\"/wiki/Special:ApiSandbox#action=help\"><small>[open in sandbox]</small></a></dd><dt>All help in one page.</dt><dd><a href=\"/w/api.php?action=help&amp;recursivesubmodules=1\" dir=\"ltr\">api.php?action=help&amp;recursivesubmodules=1</a> <a href=\"/wiki/Special:ApiSandbox#action=help&amp;recursivesubmodules=1\"><small>[open in sandbox]</small></a></dd></dl></div>\\n<div class=\"apihelp-block apihelp-permissions\"><div class=\"apihelp-block-head\">Permissions:</div><dl><dt>writeapi</dt><dd>Use of the write API</dd><dd>Granted to: all, user and bot</dd><dt>apihighlimits</dt><dd>Use higher limits in API queries (slow queries: 500; fast queries: 5000). The limits for slow queries also apply to multivalue parameters.</dd><dd>Granted to: bot, sysop and researcher</dd></dl></div>\\n\\n<h3 class=\"apihelp-header\"><span id=\"main.2Fdatatypes\"></span><span class=\"mw-headline\" id=\"main/datatypes\">Data types</span></h3><p>Input to MediaWiki should be NFC-normalized UTF-8. MediaWiki may attempt to convert other input, but this may cause some operations (such as <a href=\"/w/api.php?action=help&amp;modules=edit\">edits</a> with MD5 checks) to fail.\\n</p><p>Parameters that take multiple values are normally submitted with the values separated using the pipe character, e.g. <kbd>param=value1|value2</kbd> or <kbd>param=value1%7Cvalue2</kbd>. If a value must contain the pipe character, use U+001F (Unit Separator) as the separator <i>and</i> prefix the value with U+001F, e.g. <kbd>param=%1Fvalue1%1Fvalue2</kbd>.\\n</p><p>Some parameter types in API requests need further explanation:\\n</p><dl><dt id=\"main/datatype/boolean\"><span id=\"main.2Fdatatype.2Fboolean\"></span>boolean</dt><dd><p>Boolean parameters work like HTML checkboxes: if the parameter is specified, regardless of value, it is considered true. For a false value, omit the parameter entirely.\\n</p></dd><dt id=\"main/datatype/expiry\"><span id=\"main.2Fdatatype.2Fexpiry\"></span>expiry</dt><dd><p>Expiry values be relative (e.g. <kbd>5 months</kbd> or <kbd>2 weeks</kbd>) or absolute (e.g. <kbd>2014-09-18T12:34:56Z</kbd>). For no expiry, use <kbd>infinite</kbd>, <kbd>indefinite</kbd>, <kbd>infinity</kbd> or <kbd>never</kbd>.\\n</p></dd><dt id=\"main/datatype/timestamp\"><span id=\"main.2Fdatatype.2Ftimestamp\"></span>timestamp</dt><dd><p>Timestamps may be specified in several formats, see <a href=\"https://www.mediawiki.org/wiki/Special:MyLanguage/Timestamp\" class=\"extiw\" title=\"mw:Special:MyLanguage/Timestamp\">the Timestamp library input formats documented on mediawiki.org</a> for details. ISO 8601 date and time is recommended: <kbd><var>2001</var>-<var>01</var>-<var>15</var>T<var>14</var>:<var>56</var>:<var>00</var>Z</kbd>. Additionally, the string <kbd>now</kbd> may be used to specify the current timestamp.\\n</p></dd></dl><h3 class=\"apihelp-header\"><span id=\"main.2Ftemplatedparams\"></span><span class=\"mw-headline\" id=\"main/templatedparams\">Templated parameters</span></h3><p>Templated parameters support cases where an API module needs a value for each value of some other parameter. For example, if there were an API module to request fruit, it might have a parameter <var>fruits</var> to specify which fruits are being requested and a templated parameter <var>{fruit}-quantity</var> to specify how many of each fruit to request. An API client that wants 1 apple, 5 bananas, and 20 strawberries could then make a request like <kbd>fruits=apples|bananas|strawberries&amp;apples-quantity=1&amp;bananas-quantity=5&amp;strawberries-quantity=20</kbd>.\\n</p>\\n<h3 class=\"apihelp-header\"><span id=\"main.2Fcredits\"></span><span class=\"mw-headline\" id=\"main/credits\">Credits</span></h3><p>API developers:\\n</p>\\n<ul><li>Yuri Astrakhan (creator, lead developer Sep 2006–Sep 2007)</li>\\n<li>Roan Kattouw (lead developer Sep 2007–2009)</li>\\n<li>Victor Vasiliev</li>\\n<li>Bryan Tong Minh</li>\\n<li>Sam Reed</li>\\n<li>Brad Jorsch (lead developer 2013–present)</li></ul><p>Please send your comments, suggestions and questions to mediawiki-api@lists.wikimedia.org\\nor file a bug report at <a class=\"external free\" href=\"https://phabricator.wikimedia.org/\">https://phabricator.wikimedia.org/</a>.\\n</p><noscript><img src=\"//en.wikipedia.org/wiki/Special:CentralAutoLogin/start?type=1x1\" alt=\"\" title=\"\" width=\"1\" height=\"1\" style=\"border: none; position: absolute;\" /></noscript>\\n<div class=\"printfooter\">Retrieved from \"<a dir=\"ltr\" href=\"https://en.wikipedia.org/wiki/Special:ApiHelp\">https://en.wikipedia.org/wiki/Special:ApiHelp</a>\"</div></div>\\n\\t</div>\\n</div>\\n\\n<script>(RLQ=window.RLQ||[]).push(function(){mw.config.set({\"wgBackendResponseTime\":259,\"wgHostname\":\"mw2330\"});});</script>\\n</body></html>'"
      ]
     },
     "execution_count": 27,
     "metadata": {},
     "output_type": "execute_result"
    }
   ],
   "source": [
    "# Learning requests\n",
    "import requests\n",
    "\n",
    "r = requests.get('https://en.wikipedia.org/w/api.php')\n",
    "r.text"
   ]
  },
  {
   "cell_type": "code",
   "execution_count": 28,
   "metadata": {},
   "outputs": [
    {
     "data": {
      "text/plain": [
       "200"
      ]
     },
     "execution_count": 28,
     "metadata": {},
     "output_type": "execute_result"
    }
   ],
   "source": [
    "# Learning requests\n",
    "import requests\n",
    "\n",
    "r = requests.get('https://en.wikipedia.org/w/api.php')\n",
    "r.status_code"
   ]
  },
  {
   "cell_type": "code",
   "execution_count": 31,
   "metadata": {},
   "outputs": [
    {
     "data": {
      "text/plain": [
       "b'<!DOCTYPE html>\\n<html class=\"client-nojs\" lang=\"en\" dir=\"ltr\">\\n<head>\\n<meta charset=\"UTF-8\"/>\\n<title>MediaWiki API help - Wikipedia</title>\\n<script>document.documentElement.className=\"client-js\";RLCONF={\"wgBreakFrames\":!0,\"wgSeparatorTransformTable\":[\"\",\"\"],\"wgDigitTransformTable\":[\"\",\"\"],\"wgDefaultDateFormat\":\"dmy\",\"wgMonthNames\":[\"\",\"January\",\"February\",\"March\",\"April\",\"May\",\"June\",\"July\",\"August\",\"September\",\"October\",\"November\",\"December\"],\"wgRequestId\":\"0c53145c-9426-418a-a8f6-5de561ac96f8\",\"wgCSPNonce\":!1,\"wgCanonicalNamespace\":\"Special\",\"wgCanonicalSpecialPageName\":\"ApiHelp\",\"wgNamespaceNumber\":-1,\"wgPageName\":\"Special:ApiHelp\",\"wgTitle\":\"ApiHelp\",\"wgCurRevisionId\":0,\"wgRevisionId\":0,\"wgArticleId\":0,\"wgIsArticle\":!1,\"wgIsRedirect\":!1,\"wgAction\":\"view\",\"wgUserName\":null,\"wgUserGroups\":[\"*\"],\"wgCategories\":[],\"wgPageContentLanguage\":\"en\",\"wgPageContentModel\":\"wikitext\",\"wgRelevantPageName\":\"Special:ApiHelp\",\"wgRelevantArticleId\":0,\"wgIsProbablyEditable\":!1,\"wgRelevantPageIsProbablyEditable\":!1,\"wgMediaViewerOnClick\":!0,\"wgMediaViewerEnabledByDefault\":!0,\"wgPopupsReferencePreviews\":!1,\\n\"wgPopupsConflictsWithNavPopupGadget\":!1,\"wgVisualEditor\":{\"pageLanguageCode\":\"en\",\"pageLanguageDir\":\"ltr\",\"pageVariantFallbacks\":\"en\"},\"wgMFDisplayWikibaseDescriptions\":{\"search\":!0,\"nearby\":!0,\"watchlist\":!0,\"tagline\":!1},\"wgWMESchemaEditAttemptStepOversample\":!1,\"wgULSCurrentAutonym\":\"English\",\"wgNoticeProject\":\"wikipedia\",\"wgCentralAuthMobileDomain\":!1,\"wgEditSubmitButtonLabelPublish\":!0,\"wgULSPosition\":\"interlanguage\"};RLSTATE={\"ext.globalCssJs.user.styles\":\"ready\",\"site.styles\":\"ready\",\"noscript\":\"ready\",\"user.styles\":\"ready\",\"ext.globalCssJs.user\":\"ready\",\"user\":\"ready\",\"user.options\":\"loading\",\"mediawiki.hlist\":\"ready\",\"mediawiki.apipretty\":\"ready\",\"mediawiki.skinning.interface\":\"ready\",\"ext.visualEditor.desktopArticleTarget.noscript\":\"ready\",\"ext.uls.interlanguage\":\"ready\",\"ext.wikimediaBadges\":\"ready\"};RLPAGEMODULES=[\"site\",\"mediawiki.page.ready\",\"ext.gadget.ReferenceTooltips\",\"ext.gadget.charinsert\",\"ext.gadget.extra-toolbar-buttons\",\\n\"ext.gadget.refToolbar\",\"ext.gadget.switcher\",\"ext.centralauth.centralautologin\",\"ext.popups\",\"ext.visualEditor.desktopArticleTarget.init\",\"ext.visualEditor.targetLoader\",\"ext.eventLogging\",\"ext.wikimediaEvents\",\"ext.navigationTiming\",\"ext.uls.compactlinks\",\"ext.uls.interface\",\"ext.cx.eventlogging.campaigns\",\"ext.centralNotice.geoIP\"];</script>\\n<script>(RLQ=window.RLQ||[]).push(function(){mw.loader.implement(\"user.options@1hzgi\",function($,jQuery,require,module){/*@nomin*/mw.user.tokens.set({\"patrolToken\":\"+\\\\\\\\\",\"watchToken\":\"+\\\\\\\\\",\"csrfToken\":\"+\\\\\\\\\"});\\n});});</script>\\n<link rel=\"stylesheet\" href=\"/w/load.php?lang=en&amp;modules=ext.uls.interlanguage%7Cext.visualEditor.desktopArticleTarget.noscript%7Cext.wikimediaBadges%7Cmediawiki.apipretty%2Chlist%7Cmediawiki.skinning.interface&amp;only=styles&amp;skin=apioutput\"/>\\n<script async=\"\" src=\"/w/load.php?lang=en&amp;modules=startup&amp;only=scripts&amp;raw=1&amp;skin=apioutput\"></script>\\n<meta name=\"ResourceLoaderDynamicStyles\" content=\"\"/>\\n<link rel=\"stylesheet\" href=\"/w/load.php?lang=en&amp;modules=site.styles&amp;only=styles&amp;skin=apioutput\"/>\\n<meta name=\"generator\" content=\"MediaWiki 1.36.0-wmf.13\"/>\\n<meta name=\"referrer\" content=\"origin\"/>\\n<meta name=\"referrer\" content=\"origin-when-crossorigin\"/>\\n<meta name=\"referrer\" content=\"origin-when-cross-origin\"/>\\n<meta name=\"robots\" content=\"noindex,nofollow\"/>\\n<link rel=\"alternate\" media=\"only screen and (max-width: 720px)\" href=\"//en.m.wikipedia.org/wiki/Special:ApiHelp\"/>\\n<link rel=\"apple-touch-icon\" href=\"/static/apple-touch/wikipedia.png\"/>\\n<link rel=\"shortcut icon\" href=\"/static/favicon/wikipedia.ico\"/>\\n<link rel=\"search\" type=\"application/opensearchdescription+xml\" href=\"/w/opensearch_desc.php\" title=\"Wikipedia (en)\"/>\\n<link rel=\"EditURI\" type=\"application/rsd+xml\" href=\"//en.wikipedia.org/w/api.php?action=rsd\"/>\\n<link rel=\"license\" href=\"https://www.mediawiki.org/wiki/Special:MyLanguage/Copyright\"/>\\n<link rel=\"canonical\" href=\"https://en.wikipedia.org/wiki/Special:ApiHelp\"/>\\n<link rel=\"dns-prefetch\" href=\"//login.wikimedia.org\"/>\\n</head>\\n<body class=\"mediawiki ltr sitedir-ltr mw-hide-empty-elt ns--1 ns-special mw-special-ApiHelp page-Special_ApiHelp rootpage-Special_ApiHelp skin-apioutput action-view\"><div class=\"mw-body\" role=\"main\">\\n\\t<h1 id=\"firstHeading\">MediaWiki API help</h1>\\n\\t<div class=\"mw-body-content\">\\n\\t\\t<div id=\"mw-content-text\"><p>This is an auto-generated MediaWiki API documentation page.\\n</p><p>Documentation and examples: <a class=\"external free\" href=\"https://www.mediawiki.org/wiki/Special:MyLanguage/API:Main_page\">https://www.mediawiki.org/wiki/Special:MyLanguage/API:Main_page</a>\\n</p><h2 class=\"apihelp-header\" id=\"main\">Main module</h2>\\n<div class=\"apihelp-block apihelp-flags\"><ul><li><span class=\"apihelp-source\">Source: <span dir=\"ltr\" lang=\"en\">MediaWiki</span></span></li><li><span class=\"apihelp-license\">License: <a href=\"/wiki/Special:Version/License/MediaWiki\" title=\"Special:Version/License/MediaWiki\"><span dir=\"ltr\" lang=\"en\">GPL-2.0-or-later</span></a></span></li></ul></div>\\n<div class=\"hlist plainlinks api-main-links\">\\n<ul><li><a href=\"https://www.mediawiki.org/wiki/Special:MyLanguage/API:Main_page\" class=\"extiw\" title=\"mw:Special:MyLanguage/API:Main page\">Documentation</a></li>\\n<li><a href=\"https://www.mediawiki.org/wiki/Special:MyLanguage/API:FAQ\" class=\"extiw\" title=\"mw:Special:MyLanguage/API:FAQ\">FAQ</a></li>\\n<li><a class=\"external text\" href=\"https://lists.wikimedia.org/mailman/listinfo/mediawiki-api\">Mailing list</a></li>\\n<li><a class=\"external text\" href=\"https://lists.wikimedia.org/mailman/listinfo/mediawiki-api-announce\">API Announcements</a></li>\\n<li><a class=\"external text\" href=\"https://phabricator.wikimedia.org/maniphest/query/GebfyV4uCaLd/#R\">Bugs &amp; requests</a></li></ul></div>\\n<p><strong>Status:</strong> The MediaWiki API is a mature and stable interface that is actively supported and improved. While we try to avoid it, we may occasionally need to make breaking changes; subscribe to <a class=\"external text\" href=\"https://lists.wikimedia.org/pipermail/mediawiki-api-announce/\">the mediawiki-api-announce mailing list</a> for notice of updates.\\n</p><p><strong>Erroneous requests:</strong> When erroneous requests are sent to the API, an HTTP header will be sent with the key \"MediaWiki-API-Error\" and then both the value of the header and the error code sent back will be set to the same value. For more information see <a href=\"https://www.mediawiki.org/wiki/Special:MyLanguage/API:Errors_and_warnings\" class=\"extiw\" title=\"mw:Special:MyLanguage/API:Errors and warnings\">API: Errors and warnings</a>.\\n</p>\\n<p class=\"mw-apisandbox-link\"><strong>Testing:</strong> For ease of testing API requests, see <a href=\"/wiki/Special:ApiSandbox\" title=\"Special:ApiSandbox\">Special:ApiSandbox</a>.</p>\\n\\n<div class=\"apihelp-block apihelp-parameters\"><div class=\"apihelp-block-head\">Parameters:</div><dl><dt><span dir=\"ltr\" lang=\"en\">action</span></dt><dd class=\"description\"><p>Which action to perform.\\n</p><dl><dt><span dir=\"ltr\" lang=\"en\"><a href=\"/w/api.php?action=help&amp;modules=abusefiltercheckmatch\">abusefiltercheckmatch</a></span></dt>\\n<dd>Check to see if an AbuseFilter matches a set of variables, an edit, or a logged AbuseFilter event.</dd>\\n<dt><span dir=\"ltr\" lang=\"en\"><a href=\"/w/api.php?action=help&amp;modules=abusefilterchecksyntax\">abusefilterchecksyntax</a></span></dt>\\n<dd>Check syntax of an AbuseFilter filter.</dd>\\n<dt><span dir=\"ltr\" lang=\"en\"><a href=\"/w/api.php?action=help&amp;modules=abusefilterevalexpression\">abusefilterevalexpression</a></span></dt>\\n<dd>Evaluates an AbuseFilter expression.</dd>\\n<dt><span dir=\"ltr\" lang=\"en\"><a href=\"/w/api.php?action=help&amp;modules=abusefilterunblockautopromote\">abusefilterunblockautopromote</a></span></dt>\\n<dd>Unblocks a user from receiving autopromotions due to an abusefilter consequence.</dd>\\n<dt><span dir=\"ltr\" lang=\"en\"><a href=\"/w/api.php?action=help&amp;modules=abuselogprivatedetails\">abuselogprivatedetails</a></span></dt>\\n<dd>View private details of an AbuseLog entry.</dd>\\n<dt><span dir=\"ltr\" lang=\"en\"><a href=\"/w/api.php?action=help&amp;modules=antispoof\">antispoof</a></span></dt>\\n<dd>Check a username against AntiSpoof\\'s normalisation checks.</dd>\\n<dt><span dir=\"ltr\" lang=\"en\"><a href=\"/w/api.php?action=help&amp;modules=block\">block</a></span></dt>\\n<dd>Block a user.</dd>\\n<dt><span dir=\"ltr\" lang=\"en\"><a href=\"/w/api.php?action=help&amp;modules=centralauthtoken\">centralauthtoken</a></span></dt>\\n<dd>Fetch a centralauthtoken for making an authenticated request to an attached wiki.</dd>\\n<dt><span dir=\"ltr\" lang=\"en\"><a href=\"/w/api.php?action=help&amp;modules=centralnoticecdncacheupdatebanner\">centralnoticecdncacheupdatebanner</a></span></dt>\\n<dd>Request the purge of banner content stored in the CDN (front-end) cache for anonymous users, for the requested banner and language</dd>\\n<dt><span dir=\"ltr\" lang=\"en\"><a href=\"/w/api.php?action=help&amp;modules=centralnoticechoicedata\">centralnoticechoicedata</a></span></dt>\\n<dd>Get data needed to choose a banner for a given project and language</dd>\\n<dt><span dir=\"ltr\" lang=\"en\"><a href=\"/w/api.php?action=help&amp;modules=centralnoticequerycampaign\">centralnoticequerycampaign</a></span></dt>\\n<dd>Get all configuration settings for a campaign.</dd>\\n<dt><span dir=\"ltr\" lang=\"en\"><a href=\"/w/api.php?action=help&amp;modules=changeauthenticationdata\">changeauthenticationdata</a></span></dt>\\n<dd>Change authentication data for the current user.</dd>\\n<dt><span dir=\"ltr\" lang=\"en\"><a href=\"/w/api.php?action=help&amp;modules=changecontentmodel\">changecontentmodel</a></span></dt>\\n<dd>Change the content model of a page</dd>\\n<dt><span dir=\"ltr\" lang=\"en\"><a href=\"/w/api.php?action=help&amp;modules=checktoken\">checktoken</a></span></dt>\\n<dd>Check the validity of a token from <kbd><a href=\"/w/api.php?action=help&amp;modules=query%2Btokens\">action=query&amp;meta=tokens</a></kbd>.</dd>\\n<dt><span dir=\"ltr\" lang=\"en\"><a href=\"/w/api.php?action=help&amp;modules=cirrus-config-dump\">cirrus-config-dump</a></span></dt>\\n<dd>Dump of CirrusSearch configuration.</dd>\\n<dt><span dir=\"ltr\" lang=\"en\"><a href=\"/w/api.php?action=help&amp;modules=cirrus-mapping-dump\">cirrus-mapping-dump</a></span></dt>\\n<dd>Dump of CirrusSearch mapping for this wiki.</dd>\\n<dt><span dir=\"ltr\" lang=\"en\"><a href=\"/w/api.php?action=help&amp;modules=cirrus-profiles-dump\">cirrus-profiles-dump</a></span></dt>\\n<dd>Dump of CirrusSearch profiles for this wiki.</dd>\\n<dt><span dir=\"ltr\" lang=\"en\"><a href=\"/w/api.php?action=help&amp;modules=cirrus-settings-dump\">cirrus-settings-dump</a></span></dt>\\n<dd>Dump of CirrusSearch settings for this wiki.</dd>\\n<dt><span dir=\"ltr\" lang=\"en\"><a href=\"/w/api.php?action=help&amp;modules=clearhasmsg\">clearhasmsg</a></span></dt>\\n<dd>Clears the <code>hasmsg</code> flag for the current user.</dd>\\n<dt><span dir=\"ltr\" lang=\"en\"><a href=\"/w/api.php?action=help&amp;modules=clientlogin\">clientlogin</a></span></dt>\\n<dd>Log in to the wiki using the interactive flow.</dd>\\n<dt><span dir=\"ltr\" lang=\"en\"><a href=\"/w/api.php?action=help&amp;modules=compare\">compare</a></span></dt>\\n<dd>Get the difference between two pages.</dd>\\n<dt><span dir=\"ltr\" lang=\"en\"><a href=\"/w/api.php?action=help&amp;modules=createaccount\">createaccount</a></span></dt>\\n<dd>Create a new user account.</dd>\\n<dt><span dir=\"ltr\" lang=\"en\"><a href=\"/w/api.php?action=help&amp;modules=cxconfiguration\">cxconfiguration</a></span></dt>\\n<dd>Fetch the Content Translation configuration json for the given language pair.</dd>\\n<dt><span dir=\"ltr\" lang=\"en\"><a href=\"/w/api.php?action=help&amp;modules=cxdelete\">cxdelete</a></span></dt>\\n<dd>Delete a draft translation created using the Content Translation extension.</dd>\\n<dt><span dir=\"ltr\" lang=\"en\"><a href=\"/w/api.php?action=help&amp;modules=cxsuggestionlist\">cxsuggestionlist</a></span></dt>\\n<dd>Manage the suggestion lists. Add suggestions to lists and remove them.</dd>\\n<dt><span dir=\"ltr\" lang=\"en\"><a href=\"/w/api.php?action=help&amp;modules=cxtoken\">cxtoken</a></span></dt>\\n<dd>Get JWT tokens to authenticate with cxserver.</dd>\\n<dt><span dir=\"ltr\" lang=\"en\"><a href=\"/w/api.php?action=help&amp;modules=delete\">delete</a></span></dt>\\n<dd>Delete a page.</dd>\\n<dt><span dir=\"ltr\" lang=\"en\"><a href=\"/w/api.php?action=help&amp;modules=deleteglobalaccount\">deleteglobalaccount</a></span></dt>\\n<dd>Delete a global user.</dd>\\n<dt><span dir=\"ltr\" lang=\"en\"><a href=\"/w/api.php?action=help&amp;modules=echomarkread\">echomarkread</a></span></dt>\\n<dd>Mark notifications as read for the current user.</dd>\\n<dt><span dir=\"ltr\" lang=\"en\"><a href=\"/w/api.php?action=help&amp;modules=echomarkseen\">echomarkseen</a></span></dt>\\n<dd>Mark notifications as seen for the current user.</dd>\\n<dt><span dir=\"ltr\" lang=\"en\"><a href=\"/w/api.php?action=help&amp;modules=echomute\">echomute</a></span></dt>\\n<dd>Mute or unmute notifications from certain users or pages.</dd>\\n<dt><span dir=\"ltr\" lang=\"en\"><a href=\"/w/api.php?action=help&amp;modules=edit\">edit</a></span></dt>\\n<dd>Create and edit pages.</dd>\\n<dt><span dir=\"ltr\" lang=\"en\"><a href=\"/w/api.php?action=help&amp;modules=editmassmessagelist\">editmassmessagelist</a></span></dt>\\n<dd>Edit a mass message delivery list.</dd>\\n<dt><span dir=\"ltr\" lang=\"en\"><a href=\"/w/api.php?action=help&amp;modules=emailuser\">emailuser</a></span></dt>\\n<dd>Email a user.</dd>\\n<dt><span dir=\"ltr\" lang=\"en\"><a href=\"/w/api.php?action=help&amp;modules=expandtemplates\">expandtemplates</a></span></dt>\\n<dd>Expands all templates within wikitext.</dd>\\n<dt><span dir=\"ltr\" lang=\"en\"><a href=\"/w/api.php?action=help&amp;modules=fancycaptchareload\">fancycaptchareload</a></span></dt>\\n<dd>Get a new FancyCaptcha.</dd>\\n<dt><span dir=\"ltr\" lang=\"en\"><a href=\"/w/api.php?action=help&amp;modules=featuredfeed\">featuredfeed</a></span></dt>\\n<dd>Returns a featured content feed.</dd>\\n<dt><span dir=\"ltr\" lang=\"en\"><a href=\"/w/api.php?action=help&amp;modules=feedcontributions\">feedcontributions</a></span></dt>\\n<dd>Returns a user\\'s contributions feed.</dd>\\n<dt><span dir=\"ltr\" lang=\"en\"><a href=\"/w/api.php?action=help&amp;modules=feedrecentchanges\">feedrecentchanges</a></span></dt>\\n<dd>Returns a recent changes feed.</dd>\\n<dt><span dir=\"ltr\" lang=\"en\"><a href=\"/w/api.php?action=help&amp;modules=feedwatchlist\">feedwatchlist</a></span></dt>\\n<dd>Returns a watchlist feed.</dd>\\n<dt><span dir=\"ltr\" lang=\"en\"><a href=\"/w/api.php?action=help&amp;modules=filerevert\">filerevert</a></span></dt>\\n<dd>Revert a file to an old version.</dd>\\n<dt><span dir=\"ltr\" lang=\"en\"><a href=\"/w/api.php?action=help&amp;modules=flagconfig\">flagconfig</a></span></dt>\\n<dd>Get basic information about review flag configuration for this site.</dd>\\n<dt><span dir=\"ltr\" lang=\"en\"><a href=\"/w/api.php?action=help&amp;modules=globalblock\">globalblock</a></span></dt>\\n<dd>Globally block or unblock a user.</dd>\\n<dt><span dir=\"ltr\" lang=\"en\"><a href=\"/w/api.php?action=help&amp;modules=globalpreferenceoverrides\">globalpreferenceoverrides</a></span></dt>\\n<dd>Change local overrides for global preferences for the current user.</dd>\\n<dt><span dir=\"ltr\" lang=\"en\"><a href=\"/w/api.php?action=help&amp;modules=globalpreferences\">globalpreferences</a></span></dt>\\n<dd>Change global preferences of the current user.</dd>\\n<dt><span dir=\"ltr\" lang=\"en\"><a href=\"/w/api.php?action=help&amp;modules=globaluserrights\">globaluserrights</a></span></dt>\\n<dd>Add/remove a user to/from global groups.</dd>\\n<dt><span dir=\"ltr\" lang=\"en\"><a href=\"/w/api.php?action=help&amp;modules=graph\">graph</a></span></dt>\\n<dd>Access graph tag functionality.</dd>\\n<dt><span dir=\"ltr\" lang=\"en\"><a href=\"/w/api.php?action=help&amp;modules=help\">help</a></span></dt>\\n<dd>Display help for the specified modules.</dd>\\n<dt><span dir=\"ltr\" lang=\"en\"><a href=\"/w/api.php?action=help&amp;modules=imagerotate\">imagerotate</a></span></dt>\\n<dd>This module has been disabled.</dd>\\n<dt><span dir=\"ltr\" lang=\"en\"><a href=\"/w/api.php?action=help&amp;modules=import\">import</a></span></dt>\\n<dd>Import a page from another wiki, or from an XML file.</dd>\\n<dt><span dir=\"ltr\" lang=\"en\"><a href=\"/w/api.php?action=help&amp;modules=jsonconfig\">jsonconfig</a></span></dt>\\n<dd>Allows direct access to JsonConfig subsystem.</dd>\\n<dt><span dir=\"ltr\" lang=\"en\"><a href=\"/w/api.php?action=help&amp;modules=languagesearch\">languagesearch</a></span></dt>\\n<dd>Search for language names in any script.</dd>\\n<dt><span dir=\"ltr\" lang=\"en\"><a href=\"/w/api.php?action=help&amp;modules=linkaccount\">linkaccount</a></span></dt>\\n<dd>Link an account from a third-party provider to the current user.</dd>\\n<dt><span dir=\"ltr\" lang=\"en\"><a href=\"/w/api.php?action=help&amp;modules=login\">login</a></span></dt>\\n<dd>Log in and get authentication cookies.</dd>\\n<dt><span dir=\"ltr\" lang=\"en\"><a href=\"/w/api.php?action=help&amp;modules=logout\">logout</a></span></dt>\\n<dd>Log out and clear session data.</dd>\\n<dt><span dir=\"ltr\" lang=\"en\"><a href=\"/w/api.php?action=help&amp;modules=managetags\">managetags</a></span></dt>\\n<dd>Perform management tasks relating to change tags.</dd>\\n<dt><span dir=\"ltr\" lang=\"en\"><a href=\"/w/api.php?action=help&amp;modules=massmessage\">massmessage</a></span></dt>\\n<dd>Send a message to a list of pages.</dd>\\n<dt><span dir=\"ltr\" lang=\"en\"><a href=\"/w/api.php?action=help&amp;modules=mergehistory\">mergehistory</a></span></dt>\\n<dd>Merge page histories.</dd>\\n<dt><span dir=\"ltr\" lang=\"en\"><a href=\"/w/api.php?action=help&amp;modules=move\">move</a></span></dt>\\n<dd>Move a page.</dd>\\n<dt><span dir=\"ltr\" lang=\"en\"><a href=\"/w/api.php?action=help&amp;modules=opensearch\">opensearch</a></span></dt>\\n<dd>Search the wiki using the OpenSearch protocol.</dd>\\n<dt><span dir=\"ltr\" lang=\"en\"><a href=\"/w/api.php?action=help&amp;modules=options\">options</a></span></dt>\\n<dd>Change preferences of the current user.</dd>\\n<dt><span dir=\"ltr\" lang=\"en\"><a href=\"/w/api.php?action=help&amp;modules=pagetriageaction\">pagetriageaction</a></span></dt>\\n<dd>Mark an article as reviewed or unreviewed.</dd>\\n<dt><span dir=\"ltr\" lang=\"en\"><a href=\"/w/api.php?action=help&amp;modules=pagetriagelist\">pagetriagelist</a></span></dt>\\n<dd>Get a list of page IDs for building a PageTriage queue.</dd>\\n<dt><span dir=\"ltr\" lang=\"en\"><a href=\"/w/api.php?action=help&amp;modules=pagetriagestats\">pagetriagestats</a></span></dt>\\n<dd>Get the stats for page triage.</dd>\\n<dt><span dir=\"ltr\" lang=\"en\"><a href=\"/w/api.php?action=help&amp;modules=pagetriagetagcopyvio\">pagetriagetagcopyvio</a></span></dt>\\n<dd>Tag a revision as a likely copyright violation.</dd>\\n<dt><span dir=\"ltr\" lang=\"en\"><a href=\"/w/api.php?action=help&amp;modules=pagetriagetagging\">pagetriagetagging</a></span></dt>\\n<dd>Add tags to an article.</dd>\\n<dt><span dir=\"ltr\" lang=\"en\"><a href=\"/w/api.php?action=help&amp;modules=paraminfo\">paraminfo</a></span></dt>\\n<dd>Obtain information about API modules.</dd>\\n<dt><span dir=\"ltr\" lang=\"en\"><a href=\"/w/api.php?action=help&amp;modules=parse\">parse</a></span></dt>\\n<dd>Parses content and returns parser output.</dd>\\n<dt><span dir=\"ltr\" lang=\"en\"><a href=\"/w/api.php?action=help&amp;modules=patrol\">patrol</a></span></dt>\\n<dd>Patrol a page or revision.</dd>\\n<dt><span dir=\"ltr\" lang=\"en\"><a href=\"/w/api.php?action=help&amp;modules=protect\">protect</a></span></dt>\\n<dd>Change the protection level of a page.</dd>\\n<dt><span dir=\"ltr\" lang=\"en\"><a href=\"/w/api.php?action=help&amp;modules=purge\">purge</a></span></dt>\\n<dd>Purge the cache for the given titles.</dd>\\n<dt><span dir=\"ltr\" lang=\"en\"><a href=\"/w/api.php?action=help&amp;modules=query\">query</a></span></dt>\\n<dd>Fetch data from and about MediaWiki.</dd>\\n<dt><span dir=\"ltr\" lang=\"en\"><a href=\"/w/api.php?action=help&amp;modules=removeauthenticationdata\">removeauthenticationdata</a></span></dt>\\n<dd>Remove authentication data for the current user.</dd>\\n<dt><span dir=\"ltr\" lang=\"en\"><a href=\"/w/api.php?action=help&amp;modules=resetpassword\">resetpassword</a></span></dt>\\n<dd>Send a password reset email to a user.</dd>\\n<dt><span dir=\"ltr\" lang=\"en\"><a href=\"/w/api.php?action=help&amp;modules=review\">review</a></span></dt>\\n<dd>Review a revision by approving or de-approving it.</dd>\\n<dt><span dir=\"ltr\" lang=\"en\"><a href=\"/w/api.php?action=help&amp;modules=reviewactivity\">reviewactivity</a></span></dt>\\n<dd>Advertise or de-advertise yourself as reviewing an unreviewed page or unreviewed changes.</dd>\\n<dt><span dir=\"ltr\" lang=\"en\"><a href=\"/w/api.php?action=help&amp;modules=revisiondelete\">revisiondelete</a></span></dt>\\n<dd>Delete and undelete revisions.</dd>\\n<dt><span dir=\"ltr\" lang=\"en\"><a href=\"/w/api.php?action=help&amp;modules=rollback\">rollback</a></span></dt>\\n<dd>Undo the last edit to the page.</dd>\\n<dt><span dir=\"ltr\" lang=\"en\"><a href=\"/w/api.php?action=help&amp;modules=rsd\">rsd</a></span></dt>\\n<dd>Export an RSD (Really Simple Discovery) schema.</dd>\\n<dt><span dir=\"ltr\" lang=\"en\"><a href=\"/w/api.php?action=help&amp;modules=setglobalaccountstatus\">setglobalaccountstatus</a></span></dt>\\n<dd>Set a global user\\'s status.</dd>\\n<dt><span dir=\"ltr\" lang=\"en\"><a href=\"/w/api.php?action=help&amp;modules=setnotificationtimestamp\">setnotificationtimestamp</a></span></dt>\\n<dd>Update the notification timestamp for watched pages.</dd>\\n<dt><span dir=\"ltr\" lang=\"en\"><a href=\"/w/api.php?action=help&amp;modules=setpagelanguage\">setpagelanguage</a></span></dt>\\n<dd>Change the language of a page.</dd>\\n<dt><span dir=\"ltr\" lang=\"en\"><a href=\"/w/api.php?action=help&amp;modules=shortenurl\">shortenurl</a></span></dt>\\n<dd>Shorten a long URL into a shorter one.</dd>\\n<dt><span dir=\"ltr\" lang=\"en\"><a href=\"/w/api.php?action=help&amp;modules=sitematrix\">sitematrix</a></span></dt>\\n<dd>Get Wikimedia sites list.</dd>\\n<dt><span dir=\"ltr\" lang=\"en\"><a href=\"/w/api.php?action=help&amp;modules=spamblacklist\">spamblacklist</a></span></dt>\\n<dd>Validate one or more URLs against the SpamBlacklist.</dd>\\n<dt><span dir=\"ltr\" lang=\"en\"><a href=\"/w/api.php?action=help&amp;modules=stabilize\">stabilize</a></span></dt>\\n<dd>Configure review-protection settings for a page.</dd>\\n<dt><span dir=\"ltr\" lang=\"en\"><a href=\"/w/api.php?action=help&amp;modules=streamconfigs\">streamconfigs</a></span></dt>\\n<dd>Exposes event stream config. Returns only format=json with formatversion=2.</dd>\\n<dt><span dir=\"ltr\" lang=\"en\"><a href=\"/w/api.php?action=help&amp;modules=strikevote\">strikevote</a></span></dt>\\n<dd>Allows admins to strike or unstrike a vote.</dd>\\n<dt><span dir=\"ltr\" lang=\"en\"><a href=\"/w/api.php?action=help&amp;modules=tag\">tag</a></span></dt>\\n<dd>Add or remove change tags from individual revisions or log entries.</dd>\\n<dt><span dir=\"ltr\" lang=\"en\"><a href=\"/w/api.php?action=help&amp;modules=templatedata\">templatedata</a></span></dt>\\n<dd>Fetch data stored by the TemplateData extension.</dd>\\n<dt><span dir=\"ltr\" lang=\"en\"><a href=\"/w/api.php?action=help&amp;modules=thank\">thank</a></span></dt>\\n<dd>Send a thank-you notification to an editor.</dd>\\n<dt><span dir=\"ltr\" lang=\"en\"><a href=\"/w/api.php?action=help&amp;modules=titleblacklist\">titleblacklist</a></span></dt>\\n<dd>Validate a page title, filename, or username against the TitleBlacklist.</dd>\\n<dt><span dir=\"ltr\" lang=\"en\"><a href=\"/w/api.php?action=help&amp;modules=transcodereset\">transcodereset</a></span></dt>\\n<dd>Users with the \\'transcode-reset\\' right can reset and re-run a transcode job.</dd>\\n<dt><span dir=\"ltr\" lang=\"en\"><a href=\"/w/api.php?action=help&amp;modules=unblock\">unblock</a></span></dt>\\n<dd>Unblock a user.</dd>\\n<dt><span dir=\"ltr\" lang=\"en\"><a href=\"/w/api.php?action=help&amp;modules=undelete\">undelete</a></span></dt>\\n<dd>Restore revisions of a deleted page.</dd>\\n<dt><span dir=\"ltr\" lang=\"en\"><a href=\"/w/api.php?action=help&amp;modules=unlinkaccount\">unlinkaccount</a></span></dt>\\n<dd>Remove a linked third-party account from the current user.</dd>\\n<dt><span dir=\"ltr\" lang=\"en\"><a href=\"/w/api.php?action=help&amp;modules=upload\">upload</a></span></dt>\\n<dd>Upload a file, or get the status of pending uploads.</dd>\\n<dt><span dir=\"ltr\" lang=\"en\"><a href=\"/w/api.php?action=help&amp;modules=userrights\">userrights</a></span></dt>\\n<dd>Change a user\\'s group membership.</dd>\\n<dt><span dir=\"ltr\" lang=\"en\"><a href=\"/w/api.php?action=help&amp;modules=validatepassword\">validatepassword</a></span></dt>\\n<dd>Validate a password against the wiki\\'s password policies.</dd>\\n<dt><span dir=\"ltr\" lang=\"en\"><a href=\"/w/api.php?action=help&amp;modules=watch\">watch</a></span></dt>\\n<dd>Add or remove pages from the current user\\'s watchlist.</dd>\\n<dt><span dir=\"ltr\" lang=\"en\"><a href=\"/w/api.php?action=help&amp;modules=webapp-manifest\">webapp-manifest</a></span></dt>\\n<dd>Returns a webapp manifest.</dd>\\n<dt><span dir=\"ltr\" lang=\"en\"><a href=\"/w/api.php?action=help&amp;modules=webauthn\">webauthn</a></span></dt>\\n<dd>API Module to communicate between server and client during registration/authentication process</dd>\\n<dt><span dir=\"ltr\" lang=\"en\"><a href=\"/w/api.php?action=help&amp;modules=wikilove\">wikilove</a></span></dt>\\n<dd>Give WikiLove to another user.</dd>\\n<dt><span dir=\"ltr\" lang=\"en\"><a href=\"/w/api.php?action=help&amp;modules=mobileview\">mobileview</a></span></dt>\\n<dd><span class=\"apihelp-deprecated\">Deprecated.</span> Returns data needed for mobile views.</dd>\\n<dt><span dir=\"ltr\" lang=\"en\"><a href=\"/w/api.php?action=help&amp;modules=tokens\">tokens</a></span></dt>\\n<dd><span class=\"apihelp-deprecated\">Deprecated.</span> Get tokens for data-modifying actions.</dd>\\n<dt><span dir=\"ltr\" lang=\"en\"><a href=\"/w/api.php?action=help&amp;modules=bouncehandler\">bouncehandler</a></span></dt>\\n<dd><span class=\"apihelp-internal\">Internal.</span> Receive a bounce email and process it to handle the failing recipient.</dd>\\n<dt><span dir=\"ltr\" lang=\"en\"><a href=\"/w/api.php?action=help&amp;modules=categorytree\">categorytree</a></span></dt>\\n<dd><span class=\"apihelp-internal\">Internal.</span> Internal module for the CategoryTree extension.</dd>\\n<dt><span dir=\"ltr\" lang=\"en\"><a href=\"/w/api.php?action=help&amp;modules=cspreport\">cspreport</a></span></dt>\\n<dd><span class=\"apihelp-internal\">Internal.</span> Used by browsers to report violations of the Content Security Policy. This module should never be used, except when used automatically by a CSP compliant web browser.</dd>\\n<dt><span dir=\"ltr\" lang=\"en\"><a href=\"/w/api.php?action=help&amp;modules=cxpublish\">cxpublish</a></span></dt>\\n<dd><span class=\"apihelp-internal\">Internal.</span> Save a page created using the Content Translation extension.</dd>\\n<dt><span dir=\"ltr\" lang=\"en\"><a href=\"/w/api.php?action=help&amp;modules=cxsave\">cxsave</a></span></dt>\\n<dd><span class=\"apihelp-internal\">Internal.</span> This module allows to save draft translations by section to save bandwidth and to collect parallel corpora.</dd>\\n<dt><span dir=\"ltr\" lang=\"en\"><a href=\"/w/api.php?action=help&amp;modules=discussiontools\">discussiontools</a></span></dt>\\n<dd><span class=\"apihelp-internal\">Internal.</span> Returns metadata required to initialize the discussion tools.</dd>\\n<dt><span dir=\"ltr\" lang=\"en\"><a href=\"/w/api.php?action=help&amp;modules=discussiontoolsedit\">discussiontoolsedit</a></span></dt>\\n<dd><span class=\"apihelp-internal\">Internal.</span> Post a message on a discussion page.</dd>\\n<dt><span dir=\"ltr\" lang=\"en\"><a href=\"/w/api.php?action=help&amp;modules=echopushsubscriptions\">echopushsubscriptions</a></span></dt>\\n<dd><span class=\"apihelp-internal\">Internal.</span> Manage push subscriptions for the current user.</dd>\\n<dt><span dir=\"ltr\" lang=\"en\"><a href=\"/w/api.php?action=help&amp;modules=jsondata\">jsondata</a></span></dt>\\n<dd><span class=\"apihelp-internal\">Internal.</span> Retrieve localized JSON data.</dd>\\n<dt><span dir=\"ltr\" lang=\"en\"><a href=\"/w/api.php?action=help&amp;modules=oathvalidate\">oathvalidate</a></span></dt>\\n<dd><span class=\"apihelp-internal\">Internal.</span> Validate a two-factor authentication (OATH) token.</dd>\\n<dt><span dir=\"ltr\" lang=\"en\"><a href=\"/w/api.php?action=help&amp;modules=readinglists\">readinglists</a></span></dt>\\n<dd><span class=\"apihelp-internal\">Internal.</span> Reading list write operations.</dd>\\n<dt><span dir=\"ltr\" lang=\"en\"><a href=\"/w/api.php?action=help&amp;modules=record-lint\">record-lint</a></span></dt>\\n<dd><span class=\"apihelp-internal\">Internal.</span> Record a lint error in the database</dd>\\n<dt><span dir=\"ltr\" lang=\"en\"><a href=\"/w/api.php?action=help&amp;modules=sanitize-mapdata\">sanitize-mapdata</a></span></dt>\\n<dd><span class=\"apihelp-internal\">Internal.</span> Performs data validation for Kartographer extension</dd>\\n<dt><span dir=\"ltr\" lang=\"en\"><a href=\"/w/api.php?action=help&amp;modules=scribunto-console\">scribunto-console</a></span></dt>\\n<dd><span class=\"apihelp-internal\">Internal.</span> Internal module for servicing XHR requests from the Scribunto console.</dd>\\n<dt><span dir=\"ltr\" lang=\"en\"><a href=\"/w/api.php?action=help&amp;modules=stashedit\">stashedit</a></span></dt>\\n<dd><span class=\"apihelp-internal\">Internal.</span> Prepare an edit in shared cache.</dd>\\n<dt><span dir=\"ltr\" lang=\"en\"><a href=\"/w/api.php?action=help&amp;modules=timedtext\">timedtext</a></span></dt>\\n<dd><span class=\"apihelp-internal\">Internal.</span> Provides timed text content for usage by &lt;track&gt; elements</dd>\\n<dt><span dir=\"ltr\" lang=\"en\"><a href=\"/w/api.php?action=help&amp;modules=ulslocalization\">ulslocalization</a></span></dt>\\n<dd><span class=\"apihelp-internal\">Internal.</span> Get the localization of ULS in the given language.</dd>\\n<dt><span dir=\"ltr\" lang=\"en\"><a href=\"/w/api.php?action=help&amp;modules=ulssetlang\">ulssetlang</a></span></dt>\\n<dd><span class=\"apihelp-internal\">Internal.</span> Update user\\'s preferred interface language.</dd>\\n<dt><span dir=\"ltr\" lang=\"en\"><a href=\"/w/api.php?action=help&amp;modules=visualeditor\">visualeditor</a></span></dt>\\n<dd><span class=\"apihelp-internal\">Internal.</span> Returns HTML5 for a page from the Parsoid service.</dd>\\n<dt><span dir=\"ltr\" lang=\"en\"><a href=\"/w/api.php?action=help&amp;modules=visualeditoredit\">visualeditoredit</a></span></dt>\\n<dd><span class=\"apihelp-internal\">Internal.</span> Save an HTML5 page to MediaWiki (converted to wikitext via the Parsoid service).</dd></dl></dd><dd class=\"info\">One of the following values: <a href=\"/w/api.php?action=help&amp;modules=abusefiltercheckmatch\"><span dir=\"ltr\" lang=\"en\">abusefiltercheckmatch</span></a>, <a href=\"/w/api.php?action=help&amp;modules=abusefilterchecksyntax\"><span dir=\"ltr\" lang=\"en\">abusefilterchecksyntax</span></a>, <a href=\"/w/api.php?action=help&amp;modules=abusefilterevalexpression\"><span dir=\"ltr\" lang=\"en\">abusefilterevalexpression</span></a>, <a href=\"/w/api.php?action=help&amp;modules=abusefilterunblockautopromote\"><span dir=\"ltr\" lang=\"en\">abusefilterunblockautopromote</span></a>, <a href=\"/w/api.php?action=help&amp;modules=abuselogprivatedetails\"><span dir=\"ltr\" lang=\"en\">abuselogprivatedetails</span></a>, <a href=\"/w/api.php?action=help&amp;modules=antispoof\"><span dir=\"ltr\" lang=\"en\">antispoof</span></a>, <a href=\"/w/api.php?action=help&amp;modules=block\"><span dir=\"ltr\" lang=\"en\">block</span></a>, <a href=\"/w/api.php?action=help&amp;modules=centralauthtoken\"><span dir=\"ltr\" lang=\"en\">centralauthtoken</span></a>, <a href=\"/w/api.php?action=help&amp;modules=centralnoticecdncacheupdatebanner\"><span dir=\"ltr\" lang=\"en\">centralnoticecdncacheupdatebanner</span></a>, <a href=\"/w/api.php?action=help&amp;modules=centralnoticechoicedata\"><span dir=\"ltr\" lang=\"en\">centralnoticechoicedata</span></a>, <a href=\"/w/api.php?action=help&amp;modules=centralnoticequerycampaign\"><span dir=\"ltr\" lang=\"en\">centralnoticequerycampaign</span></a>, <a href=\"/w/api.php?action=help&amp;modules=changeauthenticationdata\"><span dir=\"ltr\" lang=\"en\">changeauthenticationdata</span></a>, <a href=\"/w/api.php?action=help&amp;modules=changecontentmodel\"><span dir=\"ltr\" lang=\"en\">changecontentmodel</span></a>, <a href=\"/w/api.php?action=help&amp;modules=checktoken\"><span dir=\"ltr\" lang=\"en\">checktoken</span></a>, <a href=\"/w/api.php?action=help&amp;modules=cirrus-config-dump\"><span dir=\"ltr\" lang=\"en\">cirrus-config-dump</span></a>, <a href=\"/w/api.php?action=help&amp;modules=cirrus-mapping-dump\"><span dir=\"ltr\" lang=\"en\">cirrus-mapping-dump</span></a>, <a href=\"/w/api.php?action=help&amp;modules=cirrus-profiles-dump\"><span dir=\"ltr\" lang=\"en\">cirrus-profiles-dump</span></a>, <a href=\"/w/api.php?action=help&amp;modules=cirrus-settings-dump\"><span dir=\"ltr\" lang=\"en\">cirrus-settings-dump</span></a>, <a href=\"/w/api.php?action=help&amp;modules=clearhasmsg\"><span dir=\"ltr\" lang=\"en\">clearhasmsg</span></a>, <a href=\"/w/api.php?action=help&amp;modules=clientlogin\"><span dir=\"ltr\" lang=\"en\">clientlogin</span></a>, <a href=\"/w/api.php?action=help&amp;modules=compare\"><span dir=\"ltr\" lang=\"en\">compare</span></a>, <a href=\"/w/api.php?action=help&amp;modules=createaccount\"><span dir=\"ltr\" lang=\"en\">createaccount</span></a>, <a href=\"/w/api.php?action=help&amp;modules=cxconfiguration\"><span dir=\"ltr\" lang=\"en\">cxconfiguration</span></a>, <a href=\"/w/api.php?action=help&amp;modules=cxdelete\"><span dir=\"ltr\" lang=\"en\">cxdelete</span></a>, <a href=\"/w/api.php?action=help&amp;modules=cxsuggestionlist\"><span dir=\"ltr\" lang=\"en\">cxsuggestionlist</span></a>, <a href=\"/w/api.php?action=help&amp;modules=cxtoken\"><span dir=\"ltr\" lang=\"en\">cxtoken</span></a>, <a href=\"/w/api.php?action=help&amp;modules=delete\"><span dir=\"ltr\" lang=\"en\">delete</span></a>, <a href=\"/w/api.php?action=help&amp;modules=deleteglobalaccount\"><span dir=\"ltr\" lang=\"en\">deleteglobalaccount</span></a>, <a href=\"/w/api.php?action=help&amp;modules=echomarkread\"><span dir=\"ltr\" lang=\"en\">echomarkread</span></a>, <a href=\"/w/api.php?action=help&amp;modules=echomarkseen\"><span dir=\"ltr\" lang=\"en\">echomarkseen</span></a>, <a href=\"/w/api.php?action=help&amp;modules=echomute\"><span dir=\"ltr\" lang=\"en\">echomute</span></a>, <a href=\"/w/api.php?action=help&amp;modules=edit\"><span dir=\"ltr\" lang=\"en\">edit</span></a>, <a href=\"/w/api.php?action=help&amp;modules=editmassmessagelist\"><span dir=\"ltr\" lang=\"en\">editmassmessagelist</span></a>, <a href=\"/w/api.php?action=help&amp;modules=emailuser\"><span dir=\"ltr\" lang=\"en\">emailuser</span></a>, <a href=\"/w/api.php?action=help&amp;modules=expandtemplates\"><span dir=\"ltr\" lang=\"en\">expandtemplates</span></a>, <a href=\"/w/api.php?action=help&amp;modules=fancycaptchareload\"><span dir=\"ltr\" lang=\"en\">fancycaptchareload</span></a>, <a href=\"/w/api.php?action=help&amp;modules=featuredfeed\"><span dir=\"ltr\" lang=\"en\">featuredfeed</span></a>, <a href=\"/w/api.php?action=help&amp;modules=feedcontributions\"><span dir=\"ltr\" lang=\"en\">feedcontributions</span></a>, <a href=\"/w/api.php?action=help&amp;modules=feedrecentchanges\"><span dir=\"ltr\" lang=\"en\">feedrecentchanges</span></a>, <a href=\"/w/api.php?action=help&amp;modules=feedwatchlist\"><span dir=\"ltr\" lang=\"en\">feedwatchlist</span></a>, <a href=\"/w/api.php?action=help&amp;modules=filerevert\"><span dir=\"ltr\" lang=\"en\">filerevert</span></a>, <a href=\"/w/api.php?action=help&amp;modules=flagconfig\"><span dir=\"ltr\" lang=\"en\">flagconfig</span></a>, <a href=\"/w/api.php?action=help&amp;modules=globalblock\"><span dir=\"ltr\" lang=\"en\">globalblock</span></a>, <a href=\"/w/api.php?action=help&amp;modules=globalpreferenceoverrides\"><span dir=\"ltr\" lang=\"en\">globalpreferenceoverrides</span></a>, <a href=\"/w/api.php?action=help&amp;modules=globalpreferences\"><span dir=\"ltr\" lang=\"en\">globalpreferences</span></a>, <a href=\"/w/api.php?action=help&amp;modules=globaluserrights\"><span dir=\"ltr\" lang=\"en\">globaluserrights</span></a>, <a href=\"/w/api.php?action=help&amp;modules=graph\"><span dir=\"ltr\" lang=\"en\">graph</span></a>, <a href=\"/w/api.php?action=help&amp;modules=help\"><span dir=\"ltr\" lang=\"en\">help</span></a>, <a href=\"/w/api.php?action=help&amp;modules=imagerotate\"><span dir=\"ltr\" lang=\"en\">imagerotate</span></a>, <a href=\"/w/api.php?action=help&amp;modules=import\"><span dir=\"ltr\" lang=\"en\">import</span></a>, <a href=\"/w/api.php?action=help&amp;modules=jsonconfig\"><span dir=\"ltr\" lang=\"en\">jsonconfig</span></a>, <a href=\"/w/api.php?action=help&amp;modules=languagesearch\"><span dir=\"ltr\" lang=\"en\">languagesearch</span></a>, <a href=\"/w/api.php?action=help&amp;modules=linkaccount\"><span dir=\"ltr\" lang=\"en\">linkaccount</span></a>, <a href=\"/w/api.php?action=help&amp;modules=login\"><span dir=\"ltr\" lang=\"en\">login</span></a>, <a href=\"/w/api.php?action=help&amp;modules=logout\"><span dir=\"ltr\" lang=\"en\">logout</span></a>, <a href=\"/w/api.php?action=help&amp;modules=managetags\"><span dir=\"ltr\" lang=\"en\">managetags</span></a>, <a href=\"/w/api.php?action=help&amp;modules=massmessage\"><span dir=\"ltr\" lang=\"en\">massmessage</span></a>, <a href=\"/w/api.php?action=help&amp;modules=mergehistory\"><span dir=\"ltr\" lang=\"en\">mergehistory</span></a>, <a href=\"/w/api.php?action=help&amp;modules=move\"><span dir=\"ltr\" lang=\"en\">move</span></a>, <a href=\"/w/api.php?action=help&amp;modules=opensearch\"><span dir=\"ltr\" lang=\"en\">opensearch</span></a>, <a href=\"/w/api.php?action=help&amp;modules=options\"><span dir=\"ltr\" lang=\"en\">options</span></a>, <a href=\"/w/api.php?action=help&amp;modules=pagetriageaction\"><span dir=\"ltr\" lang=\"en\">pagetriageaction</span></a>, <a href=\"/w/api.php?action=help&amp;modules=pagetriagelist\"><span dir=\"ltr\" lang=\"en\">pagetriagelist</span></a>, <a href=\"/w/api.php?action=help&amp;modules=pagetriagestats\"><span dir=\"ltr\" lang=\"en\">pagetriagestats</span></a>, <a href=\"/w/api.php?action=help&amp;modules=pagetriagetagcopyvio\"><span dir=\"ltr\" lang=\"en\">pagetriagetagcopyvio</span></a>, <a href=\"/w/api.php?action=help&amp;modules=pagetriagetagging\"><span dir=\"ltr\" lang=\"en\">pagetriagetagging</span></a>, <a href=\"/w/api.php?action=help&amp;modules=paraminfo\"><span dir=\"ltr\" lang=\"en\">paraminfo</span></a>, <a href=\"/w/api.php?action=help&amp;modules=parse\"><span dir=\"ltr\" lang=\"en\">parse</span></a>, <a href=\"/w/api.php?action=help&amp;modules=patrol\"><span dir=\"ltr\" lang=\"en\">patrol</span></a>, <a href=\"/w/api.php?action=help&amp;modules=protect\"><span dir=\"ltr\" lang=\"en\">protect</span></a>, <a href=\"/w/api.php?action=help&amp;modules=purge\"><span dir=\"ltr\" lang=\"en\">purge</span></a>, <a href=\"/w/api.php?action=help&amp;modules=query\"><span dir=\"ltr\" lang=\"en\">query</span></a>, <a href=\"/w/api.php?action=help&amp;modules=removeauthenticationdata\"><span dir=\"ltr\" lang=\"en\">removeauthenticationdata</span></a>, <a href=\"/w/api.php?action=help&amp;modules=resetpassword\"><span dir=\"ltr\" lang=\"en\">resetpassword</span></a>, <a href=\"/w/api.php?action=help&amp;modules=review\"><span dir=\"ltr\" lang=\"en\">review</span></a>, <a href=\"/w/api.php?action=help&amp;modules=reviewactivity\"><span dir=\"ltr\" lang=\"en\">reviewactivity</span></a>, <a href=\"/w/api.php?action=help&amp;modules=revisiondelete\"><span dir=\"ltr\" lang=\"en\">revisiondelete</span></a>, <a href=\"/w/api.php?action=help&amp;modules=rollback\"><span dir=\"ltr\" lang=\"en\">rollback</span></a>, <a href=\"/w/api.php?action=help&amp;modules=rsd\"><span dir=\"ltr\" lang=\"en\">rsd</span></a>, <a href=\"/w/api.php?action=help&amp;modules=setglobalaccountstatus\"><span dir=\"ltr\" lang=\"en\">setglobalaccountstatus</span></a>, <a href=\"/w/api.php?action=help&amp;modules=setnotificationtimestamp\"><span dir=\"ltr\" lang=\"en\">setnotificationtimestamp</span></a>, <a href=\"/w/api.php?action=help&amp;modules=setpagelanguage\"><span dir=\"ltr\" lang=\"en\">setpagelanguage</span></a>, <a href=\"/w/api.php?action=help&amp;modules=shortenurl\"><span dir=\"ltr\" lang=\"en\">shortenurl</span></a>, <a href=\"/w/api.php?action=help&amp;modules=sitematrix\"><span dir=\"ltr\" lang=\"en\">sitematrix</span></a>, <a href=\"/w/api.php?action=help&amp;modules=spamblacklist\"><span dir=\"ltr\" lang=\"en\">spamblacklist</span></a>, <a href=\"/w/api.php?action=help&amp;modules=stabilize\"><span dir=\"ltr\" lang=\"en\">stabilize</span></a>, <a href=\"/w/api.php?action=help&amp;modules=streamconfigs\"><span dir=\"ltr\" lang=\"en\">streamconfigs</span></a>, <a href=\"/w/api.php?action=help&amp;modules=strikevote\"><span dir=\"ltr\" lang=\"en\">strikevote</span></a>, <a href=\"/w/api.php?action=help&amp;modules=tag\"><span dir=\"ltr\" lang=\"en\">tag</span></a>, <a href=\"/w/api.php?action=help&amp;modules=templatedata\"><span dir=\"ltr\" lang=\"en\">templatedata</span></a>, <a href=\"/w/api.php?action=help&amp;modules=thank\"><span dir=\"ltr\" lang=\"en\">thank</span></a>, <a href=\"/w/api.php?action=help&amp;modules=titleblacklist\"><span dir=\"ltr\" lang=\"en\">titleblacklist</span></a>, <a href=\"/w/api.php?action=help&amp;modules=transcodereset\"><span dir=\"ltr\" lang=\"en\">transcodereset</span></a>, <a href=\"/w/api.php?action=help&amp;modules=unblock\"><span dir=\"ltr\" lang=\"en\">unblock</span></a>, <a href=\"/w/api.php?action=help&amp;modules=undelete\"><span dir=\"ltr\" lang=\"en\">undelete</span></a>, <a href=\"/w/api.php?action=help&amp;modules=unlinkaccount\"><span dir=\"ltr\" lang=\"en\">unlinkaccount</span></a>, <a href=\"/w/api.php?action=help&amp;modules=upload\"><span dir=\"ltr\" lang=\"en\">upload</span></a>, <a href=\"/w/api.php?action=help&amp;modules=userrights\"><span dir=\"ltr\" lang=\"en\">userrights</span></a>, <a href=\"/w/api.php?action=help&amp;modules=validatepassword\"><span dir=\"ltr\" lang=\"en\">validatepassword</span></a>, <a href=\"/w/api.php?action=help&amp;modules=watch\"><span dir=\"ltr\" lang=\"en\">watch</span></a>, <a href=\"/w/api.php?action=help&amp;modules=webapp-manifest\"><span dir=\"ltr\" lang=\"en\">webapp-manifest</span></a>, <a href=\"/w/api.php?action=help&amp;modules=webauthn\"><span dir=\"ltr\" lang=\"en\">webauthn</span></a>, <a href=\"/w/api.php?action=help&amp;modules=wikilove\"><span dir=\"ltr\" lang=\"en\">wikilove</span></a>, <a href=\"/w/api.php?action=help&amp;modules=mobileview\"><span dir=\"ltr\" lang=\"en\" class=\"apihelp-deprecated-value\">mobileview</span></a>, <a href=\"/w/api.php?action=help&amp;modules=tokens\"><span dir=\"ltr\" lang=\"en\" class=\"apihelp-deprecated-value\">tokens</span></a>, <a href=\"/w/api.php?action=help&amp;modules=bouncehandler\"><span dir=\"ltr\" lang=\"en\" class=\"apihelp-internal-value\">bouncehandler</span></a>, <a href=\"/w/api.php?action=help&amp;modules=categorytree\"><span dir=\"ltr\" lang=\"en\" class=\"apihelp-internal-value\">categorytree</span></a>, <a href=\"/w/api.php?action=help&amp;modules=cspreport\"><span dir=\"ltr\" lang=\"en\" class=\"apihelp-internal-value\">cspreport</span></a>, <a href=\"/w/api.php?action=help&amp;modules=cxpublish\"><span dir=\"ltr\" lang=\"en\" class=\"apihelp-internal-value\">cxpublish</span></a>, <a href=\"/w/api.php?action=help&amp;modules=cxsave\"><span dir=\"ltr\" lang=\"en\" class=\"apihelp-internal-value\">cxsave</span></a>, <a href=\"/w/api.php?action=help&amp;modules=discussiontools\"><span dir=\"ltr\" lang=\"en\" class=\"apihelp-internal-value\">discussiontools</span></a>, <a href=\"/w/api.php?action=help&amp;modules=discussiontoolsedit\"><span dir=\"ltr\" lang=\"en\" class=\"apihelp-internal-value\">discussiontoolsedit</span></a>, <a href=\"/w/api.php?action=help&amp;modules=echopushsubscriptions\"><span dir=\"ltr\" lang=\"en\" class=\"apihelp-internal-value\">echopushsubscriptions</span></a>, <a href=\"/w/api.php?action=help&amp;modules=jsondata\"><span dir=\"ltr\" lang=\"en\" class=\"apihelp-internal-value\">jsondata</span></a>, <a href=\"/w/api.php?action=help&amp;modules=oathvalidate\"><span dir=\"ltr\" lang=\"en\" class=\"apihelp-internal-value\">oathvalidate</span></a>, <a href=\"/w/api.php?action=help&amp;modules=readinglists\"><span dir=\"ltr\" lang=\"en\" class=\"apihelp-internal-value\">readinglists</span></a>, <a href=\"/w/api.php?action=help&amp;modules=record-lint\"><span dir=\"ltr\" lang=\"en\" class=\"apihelp-internal-value\">record-lint</span></a>, <a href=\"/w/api.php?action=help&amp;modules=sanitize-mapdata\"><span dir=\"ltr\" lang=\"en\" class=\"apihelp-internal-value\">sanitize-mapdata</span></a>, <a href=\"/w/api.php?action=help&amp;modules=scribunto-console\"><span dir=\"ltr\" lang=\"en\" class=\"apihelp-internal-value\">scribunto-console</span></a>, <a href=\"/w/api.php?action=help&amp;modules=stashedit\"><span dir=\"ltr\" lang=\"en\" class=\"apihelp-internal-value\">stashedit</span></a>, <a href=\"/w/api.php?action=help&amp;modules=timedtext\"><span dir=\"ltr\" lang=\"en\" class=\"apihelp-internal-value\">timedtext</span></a>, <a href=\"/w/api.php?action=help&amp;modules=ulslocalization\"><span dir=\"ltr\" lang=\"en\" class=\"apihelp-internal-value\">ulslocalization</span></a>, <a href=\"/w/api.php?action=help&amp;modules=ulssetlang\"><span dir=\"ltr\" lang=\"en\" class=\"apihelp-internal-value\">ulssetlang</span></a>, <a href=\"/w/api.php?action=help&amp;modules=visualeditor\"><span dir=\"ltr\" lang=\"en\" class=\"apihelp-internal-value\">visualeditor</span></a>, <a href=\"/w/api.php?action=help&amp;modules=visualeditoredit\"><span dir=\"ltr\" lang=\"en\" class=\"apihelp-internal-value\">visualeditoredit</span></a></dd><dd class=\"info\">Default: help</dd><dt><span dir=\"ltr\" lang=\"en\">format</span></dt><dd class=\"description\"><p>The format of the output.\\n</p><dl><dt><span dir=\"ltr\" lang=\"en\"><a href=\"/w/api.php?action=help&amp;modules=json\">json</a></span></dt>\\n<dd>Output data in JSON format.</dd>\\n<dt><span dir=\"ltr\" lang=\"en\"><a href=\"/w/api.php?action=help&amp;modules=jsonfm\">jsonfm</a></span></dt>\\n<dd>Output data in JSON format (pretty-print in HTML).</dd>\\n<dt><span dir=\"ltr\" lang=\"en\"><a href=\"/w/api.php?action=help&amp;modules=none\">none</a></span></dt>\\n<dd>Output nothing.</dd>\\n<dt><span dir=\"ltr\" lang=\"en\"><a href=\"/w/api.php?action=help&amp;modules=php\">php</a></span></dt>\\n<dd>Output data in serialized PHP format.</dd>\\n<dt><span dir=\"ltr\" lang=\"en\"><a href=\"/w/api.php?action=help&amp;modules=phpfm\">phpfm</a></span></dt>\\n<dd>Output data in serialized PHP format (pretty-print in HTML).</dd>\\n<dt><span dir=\"ltr\" lang=\"en\"><a href=\"/w/api.php?action=help&amp;modules=rawfm\">rawfm</a></span></dt>\\n<dd>Output data, including debugging elements, in JSON format (pretty-print in HTML).</dd>\\n<dt><span dir=\"ltr\" lang=\"en\"><a href=\"/w/api.php?action=help&amp;modules=xml\">xml</a></span></dt>\\n<dd>Output data in XML format.</dd>\\n<dt><span dir=\"ltr\" lang=\"en\"><a href=\"/w/api.php?action=help&amp;modules=xmlfm\">xmlfm</a></span></dt>\\n<dd>Output data in XML format (pretty-print in HTML).</dd></dl></dd><dd class=\"info\">One of the following values: <a href=\"/w/api.php?action=help&amp;modules=json\"><span dir=\"ltr\" lang=\"en\">json</span></a>, <a href=\"/w/api.php?action=help&amp;modules=jsonfm\"><span dir=\"ltr\" lang=\"en\">jsonfm</span></a>, <a href=\"/w/api.php?action=help&amp;modules=none\"><span dir=\"ltr\" lang=\"en\">none</span></a>, <a href=\"/w/api.php?action=help&amp;modules=php\"><span dir=\"ltr\" lang=\"en\">php</span></a>, <a href=\"/w/api.php?action=help&amp;modules=phpfm\"><span dir=\"ltr\" lang=\"en\">phpfm</span></a>, <a href=\"/w/api.php?action=help&amp;modules=rawfm\"><span dir=\"ltr\" lang=\"en\">rawfm</span></a>, <a href=\"/w/api.php?action=help&amp;modules=xml\"><span dir=\"ltr\" lang=\"en\">xml</span></a>, <a href=\"/w/api.php?action=help&amp;modules=xmlfm\"><span dir=\"ltr\" lang=\"en\">xmlfm</span></a></dd><dd class=\"info\">Default: jsonfm</dd><dt><span dir=\"ltr\" lang=\"en\">maxlag</span></dt><dd class=\"description\"><p>Maximum lag can be used when MediaWiki is installed on a database replicated cluster. To save actions causing any more site replication lag, this parameter can make the client wait until the replication lag is less than the specified value. In case of excessive lag, error code <samp>maxlag</samp> is returned with a message like <samp>Waiting for $host: $lag seconds lagged</samp>.<br>See <a href=\"https://www.mediawiki.org/wiki/Special:MyLanguage/Manual:Maxlag_parameter\" class=\"extiw\" title=\"mw:Special:MyLanguage/Manual:Maxlag parameter\">Manual: Maxlag parameter</a> for more information.\\n</p></dd><dd class=\"info\">Type: integer</dd><dt><span dir=\"ltr\" lang=\"en\">smaxage</span></dt><dd class=\"description\"><p>Set the <code>s-maxage</code> HTTP cache control header to this many seconds. Errors are never cached.\\n</p></dd><dd class=\"info\">Type: integer</dd><dd class=\"info\">Default: 0</dd><dt><span dir=\"ltr\" lang=\"en\">maxage</span></dt><dd class=\"description\"><p>Set the <code>max-age</code> HTTP cache control header to this many seconds. Errors are never cached.\\n</p></dd><dd class=\"info\">Type: integer</dd><dd class=\"info\">Default: 0</dd><dt><span dir=\"ltr\" lang=\"en\">assert</span></dt><dd class=\"description\"><p>Verify that the user is logged in if set to <kbd>user</kbd>, <em>not</em> logged in if set to <kbd>anon</kbd>, or has the bot user right if <kbd>bot</kbd>.\\n</p></dd><dd class=\"info\">One of the following values: anon, bot, user</dd><dt><span dir=\"ltr\" lang=\"en\">assertuser</span></dt><dd class=\"description\"><p>Verify the current user is the named user.\\n</p></dd><dd class=\"info\">Type: user, by user name</dd><dt><span dir=\"ltr\" lang=\"en\">requestid</span></dt><dd class=\"description\"><p>Any value given here will be included in the response. May be used to distinguish requests.\\n</p></dd><dt><span dir=\"ltr\" lang=\"en\">servedby</span></dt><dd class=\"description\"><p>Include the hostname that served the request in the results.\\n</p></dd><dd class=\"info\">Type: boolean (<a href=\"#main/datatype/boolean\">details</a>)</dd><dt><span dir=\"ltr\" lang=\"en\">curtimestamp</span></dt><dd class=\"description\"><p>Include the current timestamp in the result.\\n</p></dd><dd class=\"info\">Type: boolean (<a href=\"#main/datatype/boolean\">details</a>)</dd><dt><span dir=\"ltr\" lang=\"en\">responselanginfo</span></dt><dd class=\"description\"><p>Include the languages used for <var>uselang</var> and <var>errorlang</var> in the result.\\n</p></dd><dd class=\"info\">Type: boolean (<a href=\"#main/datatype/boolean\">details</a>)</dd><dt><span dir=\"ltr\" lang=\"en\">origin</span></dt><dd class=\"description\"><p>When accessing the API using a cross-domain AJAX request (CORS), set this to the originating domain. This must be included in any pre-flight request, and therefore must be part of the request URI (not the POST body).\\n</p><p>For authenticated requests, this must match one of the origins in the <code>Origin</code> header exactly, so it has to be set to something like <kbd><a class=\"external free\" href=\"https://en.wikipedia.org\">https://en.wikipedia.org</a></kbd> or <kbd><a class=\"external free\" href=\"https://meta.wikimedia.org\">https://meta.wikimedia.org</a></kbd>. If this parameter does not match the <code>Origin</code> header, a 403 response will be returned. If this parameter matches the <code>Origin</code> header and the origin is whitelisted, the <code>Access-Control-Allow-Origin</code> and <code>Access-Control-Allow-Credentials</code> headers will be set.\\n</p><p>For non-authenticated requests, specify the value <kbd>*</kbd>. This will cause the <code>Access-Control-Allow-Origin</code> header to be set, but <code>Access-Control-Allow-Credentials</code> will be <code>false</code> and all user-specific data will be restricted.\\n</p></dd><dt><span dir=\"ltr\" lang=\"en\">uselang</span></dt><dd class=\"description\"><p>Language to use for message translations. <kbd><a href=\"/w/api.php?action=help&amp;modules=query%2Bsiteinfo\">action=query&amp;meta=siteinfo</a></kbd> with <kbd>siprop=languages</kbd> returns a list of language codes, or specify <kbd>user</kbd> to use the current user\\'s language preference, or specify <kbd>content</kbd> to use this wiki\\'s content language.\\n</p></dd><dd class=\"info\">Default: user</dd><dt><span dir=\"ltr\" lang=\"en\">errorformat</span></dt><dd class=\"description\"><p>Format to use for warning and error text output.\\n</p>\\n<dl><dt>plaintext</dt>\\n<dd>Wikitext with HTML tags removed and entities replaced.</dd>\\n<dt>wikitext</dt>\\n<dd>Unparsed wikitext.</dd>\\n<dt>html</dt>\\n<dd>HTML.</dd>\\n<dt>raw</dt>\\n<dd>Message key and parameters.</dd>\\n<dt>none</dt>\\n<dd>No text output, only the error codes.</dd>\\n<dt>bc</dt>\\n<dd>Format used prior to MediaWiki 1.29. <var>errorlang</var> and <var>errorsuselocal</var> are ignored.</dd></dl></dd><dd class=\"info\">One of the following values: bc, html, none, plaintext, raw, wikitext</dd><dd class=\"info\">Default: bc</dd><dt><span dir=\"ltr\" lang=\"en\">errorlang</span></dt><dd class=\"description\"><p>Language to use for warnings and errors. <kbd><a href=\"/w/api.php?action=help&amp;modules=query%2Bsiteinfo\">action=query&amp;meta=siteinfo</a></kbd> with <kbd>siprop=languages</kbd> returns a list of language codes, or specify <kbd>content</kbd> to use this wiki\\'s content language, or specify <kbd>uselang</kbd> to use the same value as the <var>uselang</var> parameter.\\n</p></dd><dd class=\"info\">Default: uselang</dd><dt><span dir=\"ltr\" lang=\"en\">errorsuselocal</span></dt><dd class=\"description\"><p>If given, error texts will use locally-customized messages from the MediaWiki namespace.\\n</p></dd><dd class=\"info\">Type: boolean (<a href=\"#main/datatype/boolean\">details</a>)</dd><dt><span dir=\"ltr\" lang=\"en\">centralauthtoken</span></dt><dd class=\"description\"><p>When accessing the API using a cross-domain AJAX request (CORS), use this to authenticate as the current SUL user. Use <kbd><a href=\"/w/api.php?action=help&amp;modules=centralauthtoken\">action=centralauthtoken</a></kbd> on this wiki to retrieve the token, before making the CORS request. Each token may only be used once, and expires after 10 seconds. This should be included in any pre-flight request, and therefore should be included in the request URI (not the POST body).\\n</p></dd></dl></div>\\n<div class=\"apihelp-block apihelp-examples\"><div class=\"apihelp-block-head\">Examples:</div><dl><dt>Help for the main module.</dt><dd><a href=\"/w/api.php?action=help\" dir=\"ltr\">api.php?action=help</a> <a href=\"/wiki/Special:ApiSandbox#action=help\"><small>[open in sandbox]</small></a></dd><dt>All help in one page.</dt><dd><a href=\"/w/api.php?action=help&amp;recursivesubmodules=1\" dir=\"ltr\">api.php?action=help&amp;recursivesubmodules=1</a> <a href=\"/wiki/Special:ApiSandbox#action=help&amp;recursivesubmodules=1\"><small>[open in sandbox]</small></a></dd></dl></div>\\n<div class=\"apihelp-block apihelp-permissions\"><div class=\"apihelp-block-head\">Permissions:</div><dl><dt>writeapi</dt><dd>Use of the write API</dd><dd>Granted to: all, user and bot</dd><dt>apihighlimits</dt><dd>Use higher limits in API queries (slow queries: 500; fast queries: 5000). The limits for slow queries also apply to multivalue parameters.</dd><dd>Granted to: bot, sysop and researcher</dd></dl></div>\\n\\n<h3 class=\"apihelp-header\"><span id=\"main.2Fdatatypes\"></span><span class=\"mw-headline\" id=\"main/datatypes\">Data types</span></h3><p>Input to MediaWiki should be NFC-normalized UTF-8. MediaWiki may attempt to convert other input, but this may cause some operations (such as <a href=\"/w/api.php?action=help&amp;modules=edit\">edits</a> with MD5 checks) to fail.\\n</p><p>Parameters that take multiple values are normally submitted with the values separated using the pipe character, e.g. <kbd>param=value1|value2</kbd> or <kbd>param=value1%7Cvalue2</kbd>. If a value must contain the pipe character, use U+001F (Unit Separator) as the separator <i>and</i> prefix the value with U+001F, e.g. <kbd>param=%1Fvalue1%1Fvalue2</kbd>.\\n</p><p>Some parameter types in API requests need further explanation:\\n</p><dl><dt id=\"main/datatype/boolean\"><span id=\"main.2Fdatatype.2Fboolean\"></span>boolean</dt><dd><p>Boolean parameters work like HTML checkboxes: if the parameter is specified, regardless of value, it is considered true. For a false value, omit the parameter entirely.\\n</p></dd><dt id=\"main/datatype/expiry\"><span id=\"main.2Fdatatype.2Fexpiry\"></span>expiry</dt><dd><p>Expiry values be relative (e.g. <kbd>5 months</kbd> or <kbd>2 weeks</kbd>) or absolute (e.g. <kbd>2014-09-18T12:34:56Z</kbd>). For no expiry, use <kbd>infinite</kbd>, <kbd>indefinite</kbd>, <kbd>infinity</kbd> or <kbd>never</kbd>.\\n</p></dd><dt id=\"main/datatype/timestamp\"><span id=\"main.2Fdatatype.2Ftimestamp\"></span>timestamp</dt><dd><p>Timestamps may be specified in several formats, see <a href=\"https://www.mediawiki.org/wiki/Special:MyLanguage/Timestamp\" class=\"extiw\" title=\"mw:Special:MyLanguage/Timestamp\">the Timestamp library input formats documented on mediawiki.org</a> for details. ISO 8601 date and time is recommended: <kbd><var>2001</var>-<var>01</var>-<var>15</var>T<var>14</var>:<var>56</var>:<var>00</var>Z</kbd>. Additionally, the string <kbd>now</kbd> may be used to specify the current timestamp.\\n</p></dd></dl><h3 class=\"apihelp-header\"><span id=\"main.2Ftemplatedparams\"></span><span class=\"mw-headline\" id=\"main/templatedparams\">Templated parameters</span></h3><p>Templated parameters support cases where an API module needs a value for each value of some other parameter. For example, if there were an API module to request fruit, it might have a parameter <var>fruits</var> to specify which fruits are being requested and a templated parameter <var>{fruit}-quantity</var> to specify how many of each fruit to request. An API client that wants 1 apple, 5 bananas, and 20 strawberries could then make a request like <kbd>fruits=apples|bananas|strawberries&amp;apples-quantity=1&amp;bananas-quantity=5&amp;strawberries-quantity=20</kbd>.\\n</p>\\n<h3 class=\"apihelp-header\"><span id=\"main.2Fcredits\"></span><span class=\"mw-headline\" id=\"main/credits\">Credits</span></h3><p>API developers:\\n</p>\\n<ul><li>Yuri Astrakhan (creator, lead developer Sep 2006\\xe2\\x80\\x93Sep 2007)</li>\\n<li>Roan Kattouw (lead developer Sep 2007\\xe2\\x80\\x932009)</li>\\n<li>Victor Vasiliev</li>\\n<li>Bryan Tong Minh</li>\\n<li>Sam Reed</li>\\n<li>Brad Jorsch (lead developer 2013\\xe2\\x80\\x93present)</li></ul><p>Please send your comments, suggestions and questions to mediawiki-api@lists.wikimedia.org\\nor file a bug report at <a class=\"external free\" href=\"https://phabricator.wikimedia.org/\">https://phabricator.wikimedia.org/</a>.\\n</p><noscript><img src=\"//en.wikipedia.org/wiki/Special:CentralAutoLogin/start?type=1x1\" alt=\"\" title=\"\" width=\"1\" height=\"1\" style=\"border: none; position: absolute;\" /></noscript>\\n<div class=\"printfooter\">Retrieved from \"<a dir=\"ltr\" href=\"https://en.wikipedia.org/wiki/Special:ApiHelp\">https://en.wikipedia.org/wiki/Special:ApiHelp</a>\"</div></div>\\n\\t</div>\\n</div>\\n\\n<script>(RLQ=window.RLQ||[]).push(function(){mw.config.set({\"wgBackendResponseTime\":315,\"wgHostname\":\"mw2218\"});});</script>\\n</body></html>'"
      ]
     },
     "execution_count": 31,
     "metadata": {},
     "output_type": "execute_result"
    }
   ],
   "source": [
    "# Learning requests\n",
    "import requests\n",
    "\n",
    "r = requests.get('https://en.wikipedia.org/w/api.php')\n",
    "r.content"
   ]
  },
  {
   "cell_type": "code",
   "execution_count": 30,
   "metadata": {},
   "outputs": [
    {
     "data": {
      "text/plain": [
       "{'Date': 'Mon, 19 Oct 2020 16:23:58 GMT', 'Server': 'mw2356.codfw.wmnet', 'X-Content-Type-Options': 'nosniff', 'P3p': 'CP=\"See https://en.wikipedia.org/wiki/Special:CentralAutoLogin/P3P for more info.\"', 'Content-Language': 'en', 'Vary': 'Accept-Encoding,Cookie,Authorization', 'Expires': 'Mon, 19 Oct 2020 16:23:58 GMT', 'X-Frame-Options': 'SAMEORIGIN', 'Content-Disposition': 'inline; filename=api-help.html', 'Cache-Control': 'private, must-revalidate, max-age=0', 'X-Request-Id': '430618a4-5dac-460d-bac1-0679ec03686c', 'Content-Type': 'text/html; charset=utf-8', 'Content-Encoding': 'gzip', 'Age': '0', 'X-Cache': 'cp5011 miss, cp5007 pass', 'X-Cache-Status': 'pass', 'Server-Timing': 'cache;desc=\"pass\"', 'Strict-Transport-Security': 'max-age=106384710; includeSubDomains; preload', 'Report-To': '{ \"group\": \"wm_nel\", \"max_age\": 86400, \"endpoints\": [{ \"url\": \"https://intake-logging.wikimedia.org/v1/events?stream=w3c.reportingapi.network_error&schema_uri=/w3c/reportingapi/network_error/1.0.0\" }] }', 'NEL': '{ \"report_to\": \"wm_nel\", \"max_age\": 86400, \"failure_fraction\": 0.05, \"success_fraction\": 0.0}', 'Set-Cookie': 'WMF-Last-Access=19-Oct-2020;Path=/;HttpOnly;secure;Expires=Fri, 20 Nov 2020 12:00:00 GMT, WMF-Last-Access-Global=19-Oct-2020;Path=/;Domain=.wikipedia.org;HttpOnly;secure;Expires=Fri, 20 Nov 2020 12:00:00 GMT, GeoIP=JP:13:Shinjuku:35.69:139.70:v4; Path=/; secure; Domain=.wikipedia.org', 'X-Client-IP': '126.72.65.33', 'Accept-Ranges': 'bytes', 'Transfer-Encoding': 'chunked', 'Connection': 'keep-alive'}"
      ]
     },
     "execution_count": 30,
     "metadata": {},
     "output_type": "execute_result"
    }
   ],
   "source": [
    "# Learning requests\n",
    "import requests\n",
    "\n",
    "r = requests.get('https://en.wikipedia.org/w/api.php')\n",
    "r.headers"
   ]
  },
  {
   "cell_type": "code",
   "execution_count": 79,
   "metadata": {
    "scrolled": true
   },
   "outputs": [
    {
     "name": "stdout",
     "output_type": "stream",
     "text": [
      "<Response [200]>\n",
      "{'continue': {'iistart': '2011-10-03T04:05:02Z', 'continue': '||'}, 'query': {'pages': {'23473560': {'pageid': 23473560, 'ns': 6, 'title': 'File:Flag of the United Kingdom.svg', 'imagerepository': 'local', 'imageinfo': [{'url': 'https://upload.wikimedia.org/wikipedia/en/a/ae/Flag_of_the_United_Kingdom.svg', 'descriptionurl': 'https://en.wikipedia.org/wiki/File:Flag_of_the_United_Kingdom.svg', 'descriptionshorturl': 'https://en.wikipedia.org/w/index.php?curid=23473560'}]}}}}\n"
     ]
    }
   ],
   "source": [
    "# test\n",
    "import requests\n",
    "\n",
    "s = requests.Session()\n",
    "url = 'https://en.wikipedia.org/w/api.php'\n",
    "params = {\n",
    "    'action': 'query',\n",
    "    'format': 'json',\n",
    "    'prop': 'imageinfo',\n",
    "    'titles': 'File:'+d['image_flag'],\n",
    "    'iiprop': 'url'\n",
    "}\n",
    "\n",
    "r = s.get(url, params=params)\n",
    "data = r.json()\n",
    "page = data['query']['pages']\n",
    "\n",
    "print(r)\n",
    "print(data)"
   ]
  },
  {
   "cell_type": "code",
   "execution_count": 67,
   "metadata": {},
   "outputs": [
    {
     "name": "stdout",
     "output_type": "stream",
     "text": [
      "https://upload.wikimedia.org/wikipedia/en/a/ae/Flag_of_the_United_Kingdom.svg\n"
     ]
    }
   ],
   "source": [
    "# 29\n",
    "import requests\n",
    "\n",
    "s = requests.Session()\n",
    "url = 'https://en.wikipedia.org/w/api.php'\n",
    "params = {\n",
    "    'action': 'query',\n",
    "    'format': 'json',\n",
    "    'prop': 'imageinfo',\n",
    "    'titles': 'File:'+d['image_flag'],\n",
    "    'iiprop': 'url'\n",
    "}\n",
    "\n",
    "r = s.get(url, params=params)\n",
    "data = r.json()\n",
    "page = data['query']['pages']\n",
    "for key, value in page.items():\n",
    "    print(value['imageinfo'][0]['url'])"
   ]
  }
 ],
 "metadata": {
  "kernelspec": {
   "display_name": "Python 3",
   "language": "python",
   "name": "python3"
  },
  "language_info": {
   "codemirror_mode": {
    "name": "ipython",
    "version": 3
   },
   "file_extension": ".py",
   "mimetype": "text/x-python",
   "name": "python",
   "nbconvert_exporter": "python",
   "pygments_lexer": "ipython3",
   "version": "3.7.6"
  }
 },
 "nbformat": 4,
 "nbformat_minor": 4
}
